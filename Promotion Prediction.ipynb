{
 "cells": [
  {
   "cell_type": "code",
   "execution_count": 1,
   "metadata": {},
   "outputs": [],
   "source": [
    "import pandas as pd\n",
    "import seaborn as sns\n",
    "import numpy as np\n",
    "import matplotlib .pyplot as plt\n",
    "\n",
    "#Univariate Selection\n",
    "from sklearn.feature_selection import SelectKBest\n",
    "from sklearn.feature_selection import chi2\n",
    "from sklearn.ensemble import ExtraTreesClassifier\n",
    "from sklearn import preprocessing\n",
    "from sklearn.preprocessing import StandardScaler\n",
    "#train_test_split\n",
    "from sklearn.model_selection import train_test_split\n",
    "#\n",
    "from imblearn.over_sampling import SMOTE\n",
    "from sklearn.pipeline import Pipeline\n",
    "from imblearn.pipeline import make_pipeline\n",
    "from collections import Counter\n",
    "from numpy import where\n",
    "import imblearn\n",
    "from imblearn.under_sampling import RandomUnderSampler\n",
    "from sklearn.datasets import make_classification\n",
    "#\n",
    "from sklearn.model_selection import StratifiedKFold,KFold\n",
    "from sklearn.model_selection import cross_val_score\n",
    "from xgboost import XGBClassifier\n",
    "from sklearn.model_selection import RandomizedSearchCV, GridSearchCV\n",
    "from numpy import mean\n",
    "from sklearn.preprocessing import StandardScaler\n",
    "from sklearn.linear_model import LogisticRegression\n",
    "from sklearn.tree import DecisionTreeClassifier\n",
    "from sklearn.ensemble import RandomForestClassifier\n",
    "from sklearn.neighbors import KNeighborsClassifier\n",
    "from sklearn.svm import SVC\n",
    "from sklearn.naive_bayes import GaussianNB\n",
    "\n",
    "from sklearn.metrics import accuracy_score, confusion_matrix, precision_recall_fscore_support, classification_report\n",
    "from sklearn.metrics import f1_score\n",
    "\n",
    "import warnings \n",
    "warnings.filterwarnings(action= 'ignore')\n",
    "\n",
    "\n"
   ]
  },
  {
   "cell_type": "code",
   "execution_count": 2,
   "metadata": {},
   "outputs": [],
   "source": [
    "train_df=pd.read_csv('train.csv')\n",
    "test_df=pd.read_csv('Test.csv')"
   ]
  },
  {
   "cell_type": "code",
   "execution_count": 3,
   "metadata": {},
   "outputs": [
    {
     "data": {
      "text/html": [
       "<div>\n",
       "<style scoped>\n",
       "    .dataframe tbody tr th:only-of-type {\n",
       "        vertical-align: middle;\n",
       "    }\n",
       "\n",
       "    .dataframe tbody tr th {\n",
       "        vertical-align: top;\n",
       "    }\n",
       "\n",
       "    .dataframe thead th {\n",
       "        text-align: right;\n",
       "    }\n",
       "</style>\n",
       "<table border=\"1\" class=\"dataframe\">\n",
       "  <thead>\n",
       "    <tr style=\"text-align: right;\">\n",
       "      <th></th>\n",
       "      <th>employee_id</th>\n",
       "      <th>department</th>\n",
       "      <th>region</th>\n",
       "      <th>education</th>\n",
       "      <th>gender</th>\n",
       "      <th>recruitment_channel</th>\n",
       "      <th>no_of_trainings</th>\n",
       "      <th>age</th>\n",
       "      <th>previous_year_rating</th>\n",
       "      <th>length_of_service</th>\n",
       "      <th>KPIs_met &gt;80%</th>\n",
       "      <th>awards_won?</th>\n",
       "      <th>avg_training_score</th>\n",
       "      <th>is_promoted</th>\n",
       "    </tr>\n",
       "  </thead>\n",
       "  <tbody>\n",
       "    <tr>\n",
       "      <th>0</th>\n",
       "      <td>65438</td>\n",
       "      <td>Sales &amp; Marketing</td>\n",
       "      <td>region_7</td>\n",
       "      <td>Master's &amp; above</td>\n",
       "      <td>f</td>\n",
       "      <td>sourcing</td>\n",
       "      <td>1</td>\n",
       "      <td>35</td>\n",
       "      <td>5.0</td>\n",
       "      <td>8</td>\n",
       "      <td>1</td>\n",
       "      <td>0</td>\n",
       "      <td>49</td>\n",
       "      <td>0</td>\n",
       "    </tr>\n",
       "    <tr>\n",
       "      <th>1</th>\n",
       "      <td>65141</td>\n",
       "      <td>Operations</td>\n",
       "      <td>region_22</td>\n",
       "      <td>Bachelor's</td>\n",
       "      <td>m</td>\n",
       "      <td>other</td>\n",
       "      <td>1</td>\n",
       "      <td>30</td>\n",
       "      <td>5.0</td>\n",
       "      <td>4</td>\n",
       "      <td>0</td>\n",
       "      <td>0</td>\n",
       "      <td>60</td>\n",
       "      <td>0</td>\n",
       "    </tr>\n",
       "    <tr>\n",
       "      <th>2</th>\n",
       "      <td>7513</td>\n",
       "      <td>Sales &amp; Marketing</td>\n",
       "      <td>region_19</td>\n",
       "      <td>Bachelor's</td>\n",
       "      <td>m</td>\n",
       "      <td>sourcing</td>\n",
       "      <td>1</td>\n",
       "      <td>34</td>\n",
       "      <td>3.0</td>\n",
       "      <td>7</td>\n",
       "      <td>0</td>\n",
       "      <td>0</td>\n",
       "      <td>50</td>\n",
       "      <td>0</td>\n",
       "    </tr>\n",
       "    <tr>\n",
       "      <th>3</th>\n",
       "      <td>2542</td>\n",
       "      <td>Sales &amp; Marketing</td>\n",
       "      <td>region_23</td>\n",
       "      <td>Bachelor's</td>\n",
       "      <td>m</td>\n",
       "      <td>other</td>\n",
       "      <td>2</td>\n",
       "      <td>39</td>\n",
       "      <td>1.0</td>\n",
       "      <td>10</td>\n",
       "      <td>0</td>\n",
       "      <td>0</td>\n",
       "      <td>50</td>\n",
       "      <td>0</td>\n",
       "    </tr>\n",
       "    <tr>\n",
       "      <th>4</th>\n",
       "      <td>48945</td>\n",
       "      <td>Technology</td>\n",
       "      <td>region_26</td>\n",
       "      <td>Bachelor's</td>\n",
       "      <td>m</td>\n",
       "      <td>other</td>\n",
       "      <td>1</td>\n",
       "      <td>45</td>\n",
       "      <td>3.0</td>\n",
       "      <td>2</td>\n",
       "      <td>0</td>\n",
       "      <td>0</td>\n",
       "      <td>73</td>\n",
       "      <td>0</td>\n",
       "    </tr>\n",
       "  </tbody>\n",
       "</table>\n",
       "</div>"
      ],
      "text/plain": [
       "   employee_id         department     region         education gender  \\\n",
       "0        65438  Sales & Marketing   region_7  Master's & above      f   \n",
       "1        65141         Operations  region_22        Bachelor's      m   \n",
       "2         7513  Sales & Marketing  region_19        Bachelor's      m   \n",
       "3         2542  Sales & Marketing  region_23        Bachelor's      m   \n",
       "4        48945         Technology  region_26        Bachelor's      m   \n",
       "\n",
       "  recruitment_channel  no_of_trainings  age  previous_year_rating  \\\n",
       "0            sourcing                1   35                   5.0   \n",
       "1               other                1   30                   5.0   \n",
       "2            sourcing                1   34                   3.0   \n",
       "3               other                2   39                   1.0   \n",
       "4               other                1   45                   3.0   \n",
       "\n",
       "   length_of_service  KPIs_met >80%  awards_won?  avg_training_score  \\\n",
       "0                  8              1            0                  49   \n",
       "1                  4              0            0                  60   \n",
       "2                  7              0            0                  50   \n",
       "3                 10              0            0                  50   \n",
       "4                  2              0            0                  73   \n",
       "\n",
       "   is_promoted  \n",
       "0            0  \n",
       "1            0  \n",
       "2            0  \n",
       "3            0  \n",
       "4            0  "
      ]
     },
     "execution_count": 3,
     "metadata": {},
     "output_type": "execute_result"
    }
   ],
   "source": [
    "train_df.head()"
   ]
  },
  {
   "cell_type": "code",
   "execution_count": 4,
   "metadata": {},
   "outputs": [
    {
     "data": {
      "text/html": [
       "<div>\n",
       "<style scoped>\n",
       "    .dataframe tbody tr th:only-of-type {\n",
       "        vertical-align: middle;\n",
       "    }\n",
       "\n",
       "    .dataframe tbody tr th {\n",
       "        vertical-align: top;\n",
       "    }\n",
       "\n",
       "    .dataframe thead th {\n",
       "        text-align: right;\n",
       "    }\n",
       "</style>\n",
       "<table border=\"1\" class=\"dataframe\">\n",
       "  <thead>\n",
       "    <tr style=\"text-align: right;\">\n",
       "      <th></th>\n",
       "      <th>employee_id</th>\n",
       "      <th>department</th>\n",
       "      <th>region</th>\n",
       "      <th>education</th>\n",
       "      <th>gender</th>\n",
       "      <th>recruitment_channel</th>\n",
       "      <th>no_of_trainings</th>\n",
       "      <th>age</th>\n",
       "      <th>previous_year_rating</th>\n",
       "      <th>length_of_service</th>\n",
       "      <th>KPIs_met &gt;80%</th>\n",
       "      <th>awards_won?</th>\n",
       "      <th>avg_training_score</th>\n",
       "    </tr>\n",
       "  </thead>\n",
       "  <tbody>\n",
       "    <tr>\n",
       "      <th>0</th>\n",
       "      <td>8724</td>\n",
       "      <td>Technology</td>\n",
       "      <td>region_26</td>\n",
       "      <td>Bachelor's</td>\n",
       "      <td>m</td>\n",
       "      <td>sourcing</td>\n",
       "      <td>1</td>\n",
       "      <td>24</td>\n",
       "      <td>NaN</td>\n",
       "      <td>1</td>\n",
       "      <td>1</td>\n",
       "      <td>0</td>\n",
       "      <td>77</td>\n",
       "    </tr>\n",
       "    <tr>\n",
       "      <th>1</th>\n",
       "      <td>74430</td>\n",
       "      <td>HR</td>\n",
       "      <td>region_4</td>\n",
       "      <td>Bachelor's</td>\n",
       "      <td>f</td>\n",
       "      <td>other</td>\n",
       "      <td>1</td>\n",
       "      <td>31</td>\n",
       "      <td>3.0</td>\n",
       "      <td>5</td>\n",
       "      <td>0</td>\n",
       "      <td>0</td>\n",
       "      <td>51</td>\n",
       "    </tr>\n",
       "    <tr>\n",
       "      <th>2</th>\n",
       "      <td>72255</td>\n",
       "      <td>Sales &amp; Marketing</td>\n",
       "      <td>region_13</td>\n",
       "      <td>Bachelor's</td>\n",
       "      <td>m</td>\n",
       "      <td>other</td>\n",
       "      <td>1</td>\n",
       "      <td>31</td>\n",
       "      <td>1.0</td>\n",
       "      <td>4</td>\n",
       "      <td>0</td>\n",
       "      <td>0</td>\n",
       "      <td>47</td>\n",
       "    </tr>\n",
       "    <tr>\n",
       "      <th>3</th>\n",
       "      <td>38562</td>\n",
       "      <td>Procurement</td>\n",
       "      <td>region_2</td>\n",
       "      <td>Bachelor's</td>\n",
       "      <td>f</td>\n",
       "      <td>other</td>\n",
       "      <td>3</td>\n",
       "      <td>31</td>\n",
       "      <td>2.0</td>\n",
       "      <td>9</td>\n",
       "      <td>0</td>\n",
       "      <td>0</td>\n",
       "      <td>65</td>\n",
       "    </tr>\n",
       "    <tr>\n",
       "      <th>4</th>\n",
       "      <td>64486</td>\n",
       "      <td>Finance</td>\n",
       "      <td>region_29</td>\n",
       "      <td>Bachelor's</td>\n",
       "      <td>m</td>\n",
       "      <td>sourcing</td>\n",
       "      <td>1</td>\n",
       "      <td>30</td>\n",
       "      <td>4.0</td>\n",
       "      <td>7</td>\n",
       "      <td>0</td>\n",
       "      <td>0</td>\n",
       "      <td>61</td>\n",
       "    </tr>\n",
       "  </tbody>\n",
       "</table>\n",
       "</div>"
      ],
      "text/plain": [
       "   employee_id         department     region   education gender  \\\n",
       "0         8724         Technology  region_26  Bachelor's      m   \n",
       "1        74430                 HR   region_4  Bachelor's      f   \n",
       "2        72255  Sales & Marketing  region_13  Bachelor's      m   \n",
       "3        38562        Procurement   region_2  Bachelor's      f   \n",
       "4        64486            Finance  region_29  Bachelor's      m   \n",
       "\n",
       "  recruitment_channel  no_of_trainings  age  previous_year_rating  \\\n",
       "0            sourcing                1   24                   NaN   \n",
       "1               other                1   31                   3.0   \n",
       "2               other                1   31                   1.0   \n",
       "3               other                3   31                   2.0   \n",
       "4            sourcing                1   30                   4.0   \n",
       "\n",
       "   length_of_service  KPIs_met >80%  awards_won?  avg_training_score  \n",
       "0                  1              1            0                  77  \n",
       "1                  5              0            0                  51  \n",
       "2                  4              0            0                  47  \n",
       "3                  9              0            0                  65  \n",
       "4                  7              0            0                  61  "
      ]
     },
     "execution_count": 4,
     "metadata": {},
     "output_type": "execute_result"
    }
   ],
   "source": [
    "test_df.head()"
   ]
  },
  {
   "cell_type": "code",
   "execution_count": 5,
   "metadata": {},
   "outputs": [
    {
     "data": {
      "text/plain": [
       "(54808, 14)"
      ]
     },
     "execution_count": 5,
     "metadata": {},
     "output_type": "execute_result"
    }
   ],
   "source": [
    "train_df.shape"
   ]
  },
  {
   "cell_type": "code",
   "execution_count": 6,
   "metadata": {},
   "outputs": [
    {
     "data": {
      "text/plain": [
       "(23490, 13)"
      ]
     },
     "execution_count": 6,
     "metadata": {},
     "output_type": "execute_result"
    }
   ],
   "source": [
    "test_df.shape"
   ]
  },
  {
   "cell_type": "code",
   "execution_count": 7,
   "metadata": {},
   "outputs": [
    {
     "data": {
      "text/plain": [
       "<AxesSubplot:>"
      ]
     },
     "execution_count": 7,
     "metadata": {},
     "output_type": "execute_result"
    },
    {
     "data": {
      "image/png": "[encoded data removed]",
      "text/plain": [
       "<Figure size 432x288 with 1 Axes>"
      ]
     },
     "metadata": {
      "needs_background": "light"
     },
     "output_type": "display_data"
    }
   ],
   "source": [
    "train_df['is_promoted'].value_counts().plot(kind='bar')"
   ]
  },
  {
   "cell_type": "code",
   "execution_count": 8,
   "metadata": {},
   "outputs": [],
   "source": [
    "combine=pd.concat([train_df,test_df],sort=False)"
   ]
  },
  {
   "cell_type": "code",
   "execution_count": 9,
   "metadata": {},
   "outputs": [
    {
     "data": {
      "text/html": [
       "<div>\n",
       "<style scoped>\n",
       "    .dataframe tbody tr th:only-of-type {\n",
       "        vertical-align: middle;\n",
       "    }\n",
       "\n",
       "    .dataframe tbody tr th {\n",
       "        vertical-align: top;\n",
       "    }\n",
       "\n",
       "    .dataframe thead th {\n",
       "        text-align: right;\n",
       "    }\n",
       "</style>\n",
       "<table border=\"1\" class=\"dataframe\">\n",
       "  <thead>\n",
       "    <tr style=\"text-align: right;\">\n",
       "      <th></th>\n",
       "      <th>employee_id</th>\n",
       "      <th>department</th>\n",
       "      <th>region</th>\n",
       "      <th>education</th>\n",
       "      <th>gender</th>\n",
       "      <th>recruitment_channel</th>\n",
       "      <th>no_of_trainings</th>\n",
       "      <th>age</th>\n",
       "      <th>previous_year_rating</th>\n",
       "      <th>length_of_service</th>\n",
       "      <th>KPIs_met &gt;80%</th>\n",
       "      <th>awards_won?</th>\n",
       "      <th>avg_training_score</th>\n",
       "      <th>is_promoted</th>\n",
       "    </tr>\n",
       "  </thead>\n",
       "  <tbody>\n",
       "    <tr>\n",
       "      <th>0</th>\n",
       "      <td>65438</td>\n",
       "      <td>Sales &amp; Marketing</td>\n",
       "      <td>region_7</td>\n",
       "      <td>Master's &amp; above</td>\n",
       "      <td>f</td>\n",
       "      <td>sourcing</td>\n",
       "      <td>1</td>\n",
       "      <td>35</td>\n",
       "      <td>5.0</td>\n",
       "      <td>8</td>\n",
       "      <td>1</td>\n",
       "      <td>0</td>\n",
       "      <td>49</td>\n",
       "      <td>0.0</td>\n",
       "    </tr>\n",
       "    <tr>\n",
       "      <th>1</th>\n",
       "      <td>65141</td>\n",
       "      <td>Operations</td>\n",
       "      <td>region_22</td>\n",
       "      <td>Bachelor's</td>\n",
       "      <td>m</td>\n",
       "      <td>other</td>\n",
       "      <td>1</td>\n",
       "      <td>30</td>\n",
       "      <td>5.0</td>\n",
       "      <td>4</td>\n",
       "      <td>0</td>\n",
       "      <td>0</td>\n",
       "      <td>60</td>\n",
       "      <td>0.0</td>\n",
       "    </tr>\n",
       "    <tr>\n",
       "      <th>2</th>\n",
       "      <td>7513</td>\n",
       "      <td>Sales &amp; Marketing</td>\n",
       "      <td>region_19</td>\n",
       "      <td>Bachelor's</td>\n",
       "      <td>m</td>\n",
       "      <td>sourcing</td>\n",
       "      <td>1</td>\n",
       "      <td>34</td>\n",
       "      <td>3.0</td>\n",
       "      <td>7</td>\n",
       "      <td>0</td>\n",
       "      <td>0</td>\n",
       "      <td>50</td>\n",
       "      <td>0.0</td>\n",
       "    </tr>\n",
       "    <tr>\n",
       "      <th>3</th>\n",
       "      <td>2542</td>\n",
       "      <td>Sales &amp; Marketing</td>\n",
       "      <td>region_23</td>\n",
       "      <td>Bachelor's</td>\n",
       "      <td>m</td>\n",
       "      <td>other</td>\n",
       "      <td>2</td>\n",
       "      <td>39</td>\n",
       "      <td>1.0</td>\n",
       "      <td>10</td>\n",
       "      <td>0</td>\n",
       "      <td>0</td>\n",
       "      <td>50</td>\n",
       "      <td>0.0</td>\n",
       "    </tr>\n",
       "    <tr>\n",
       "      <th>4</th>\n",
       "      <td>48945</td>\n",
       "      <td>Technology</td>\n",
       "      <td>region_26</td>\n",
       "      <td>Bachelor's</td>\n",
       "      <td>m</td>\n",
       "      <td>other</td>\n",
       "      <td>1</td>\n",
       "      <td>45</td>\n",
       "      <td>3.0</td>\n",
       "      <td>2</td>\n",
       "      <td>0</td>\n",
       "      <td>0</td>\n",
       "      <td>73</td>\n",
       "      <td>0.0</td>\n",
       "    </tr>\n",
       "    <tr>\n",
       "      <th>...</th>\n",
       "      <td>...</td>\n",
       "      <td>...</td>\n",
       "      <td>...</td>\n",
       "      <td>...</td>\n",
       "      <td>...</td>\n",
       "      <td>...</td>\n",
       "      <td>...</td>\n",
       "      <td>...</td>\n",
       "      <td>...</td>\n",
       "      <td>...</td>\n",
       "      <td>...</td>\n",
       "      <td>...</td>\n",
       "      <td>...</td>\n",
       "      <td>...</td>\n",
       "    </tr>\n",
       "    <tr>\n",
       "      <th>23485</th>\n",
       "      <td>53478</td>\n",
       "      <td>Legal</td>\n",
       "      <td>region_2</td>\n",
       "      <td>Below Secondary</td>\n",
       "      <td>m</td>\n",
       "      <td>sourcing</td>\n",
       "      <td>1</td>\n",
       "      <td>24</td>\n",
       "      <td>3.0</td>\n",
       "      <td>1</td>\n",
       "      <td>0</td>\n",
       "      <td>0</td>\n",
       "      <td>61</td>\n",
       "      <td>NaN</td>\n",
       "    </tr>\n",
       "    <tr>\n",
       "      <th>23486</th>\n",
       "      <td>25600</td>\n",
       "      <td>Technology</td>\n",
       "      <td>region_25</td>\n",
       "      <td>Bachelor's</td>\n",
       "      <td>m</td>\n",
       "      <td>sourcing</td>\n",
       "      <td>1</td>\n",
       "      <td>31</td>\n",
       "      <td>3.0</td>\n",
       "      <td>7</td>\n",
       "      <td>0</td>\n",
       "      <td>0</td>\n",
       "      <td>74</td>\n",
       "      <td>NaN</td>\n",
       "    </tr>\n",
       "    <tr>\n",
       "      <th>23487</th>\n",
       "      <td>45409</td>\n",
       "      <td>HR</td>\n",
       "      <td>region_16</td>\n",
       "      <td>Bachelor's</td>\n",
       "      <td>f</td>\n",
       "      <td>sourcing</td>\n",
       "      <td>1</td>\n",
       "      <td>26</td>\n",
       "      <td>4.0</td>\n",
       "      <td>4</td>\n",
       "      <td>0</td>\n",
       "      <td>0</td>\n",
       "      <td>50</td>\n",
       "      <td>NaN</td>\n",
       "    </tr>\n",
       "    <tr>\n",
       "      <th>23488</th>\n",
       "      <td>1186</td>\n",
       "      <td>Procurement</td>\n",
       "      <td>region_31</td>\n",
       "      <td>Bachelor's</td>\n",
       "      <td>m</td>\n",
       "      <td>sourcing</td>\n",
       "      <td>3</td>\n",
       "      <td>27</td>\n",
       "      <td>NaN</td>\n",
       "      <td>1</td>\n",
       "      <td>0</td>\n",
       "      <td>0</td>\n",
       "      <td>70</td>\n",
       "      <td>NaN</td>\n",
       "    </tr>\n",
       "    <tr>\n",
       "      <th>23489</th>\n",
       "      <td>5973</td>\n",
       "      <td>Technology</td>\n",
       "      <td>region_17</td>\n",
       "      <td>Master's &amp; above</td>\n",
       "      <td>m</td>\n",
       "      <td>other</td>\n",
       "      <td>3</td>\n",
       "      <td>40</td>\n",
       "      <td>5.0</td>\n",
       "      <td>5</td>\n",
       "      <td>1</td>\n",
       "      <td>0</td>\n",
       "      <td>89</td>\n",
       "      <td>NaN</td>\n",
       "    </tr>\n",
       "  </tbody>\n",
       "</table>\n",
       "<p>78298 rows × 14 columns</p>\n",
       "</div>"
      ],
      "text/plain": [
       "       employee_id         department     region         education gender  \\\n",
       "0            65438  Sales & Marketing   region_7  Master's & above      f   \n",
       "1            65141         Operations  region_22        Bachelor's      m   \n",
       "2             7513  Sales & Marketing  region_19        Bachelor's      m   \n",
       "3             2542  Sales & Marketing  region_23        Bachelor's      m   \n",
       "4            48945         Technology  region_26        Bachelor's      m   \n",
       "...            ...                ...        ...               ...    ...   \n",
       "23485        53478              Legal   region_2   Below Secondary      m   \n",
       "23486        25600         Technology  region_25        Bachelor's      m   \n",
       "23487        45409                 HR  region_16        Bachelor's      f   \n",
       "23488         1186        Procurement  region_31        Bachelor's      m   \n",
       "23489         5973         Technology  region_17  Master's & above      m   \n",
       "\n",
       "      recruitment_channel  no_of_trainings  age  previous_year_rating  \\\n",
       "0                sourcing                1   35                   5.0   \n",
       "1                   other                1   30                   5.0   \n",
       "2                sourcing                1   34                   3.0   \n",
       "3                   other                2   39                   1.0   \n",
       "4                   other                1   45                   3.0   \n",
       "...                   ...              ...  ...                   ...   \n",
       "23485            sourcing                1   24                   3.0   \n",
       "23486            sourcing                1   31                   3.0   \n",
       "23487            sourcing                1   26                   4.0   \n",
       "23488            sourcing                3   27                   NaN   \n",
       "23489               other                3   40                   5.0   \n",
       "\n",
       "       length_of_service  KPIs_met >80%  awards_won?  avg_training_score  \\\n",
       "0                      8              1            0                  49   \n",
       "1                      4              0            0                  60   \n",
       "2                      7              0            0                  50   \n",
       "3                     10              0            0                  50   \n",
       "4                      2              0            0                  73   \n",
       "...                  ...            ...          ...                 ...   \n",
       "23485                  1              0            0                  61   \n",
       "23486                  7              0            0                  74   \n",
       "23487                  4              0            0                  50   \n",
       "23488                  1              0            0                  70   \n",
       "23489                  5              1            0                  89   \n",
       "\n",
       "       is_promoted  \n",
       "0              0.0  \n",
       "1              0.0  \n",
       "2              0.0  \n",
       "3              0.0  \n",
       "4              0.0  \n",
       "...            ...  \n",
       "23485          NaN  \n",
       "23486          NaN  \n",
       "23487          NaN  \n",
       "23488          NaN  \n",
       "23489          NaN  \n",
       "\n",
       "[78298 rows x 14 columns]"
      ]
     },
     "execution_count": 9,
     "metadata": {},
     "output_type": "execute_result"
    }
   ],
   "source": [
    "combine"
   ]
  },
  {
   "cell_type": "code",
   "execution_count": 10,
   "metadata": {},
   "outputs": [
    {
     "data": {
      "text/html": [
       "<div>\n",
       "<style scoped>\n",
       "    .dataframe tbody tr th:only-of-type {\n",
       "        vertical-align: middle;\n",
       "    }\n",
       "\n",
       "    .dataframe tbody tr th {\n",
       "        vertical-align: top;\n",
       "    }\n",
       "\n",
       "    .dataframe thead th {\n",
       "        text-align: right;\n",
       "    }\n",
       "</style>\n",
       "<table border=\"1\" class=\"dataframe\">\n",
       "  <thead>\n",
       "    <tr style=\"text-align: right;\">\n",
       "      <th></th>\n",
       "      <th>employee_id</th>\n",
       "      <th>no_of_trainings</th>\n",
       "      <th>age</th>\n",
       "      <th>previous_year_rating</th>\n",
       "      <th>length_of_service</th>\n",
       "      <th>KPIs_met &gt;80%</th>\n",
       "      <th>awards_won?</th>\n",
       "      <th>avg_training_score</th>\n",
       "      <th>is_promoted</th>\n",
       "    </tr>\n",
       "  </thead>\n",
       "  <tbody>\n",
       "    <tr>\n",
       "      <th>count</th>\n",
       "      <td>54808.000000</td>\n",
       "      <td>54808.000000</td>\n",
       "      <td>54808.000000</td>\n",
       "      <td>50684.000000</td>\n",
       "      <td>54808.000000</td>\n",
       "      <td>54808.000000</td>\n",
       "      <td>54808.000000</td>\n",
       "      <td>54808.000000</td>\n",
       "      <td>54808.000000</td>\n",
       "    </tr>\n",
       "    <tr>\n",
       "      <th>mean</th>\n",
       "      <td>39195.830627</td>\n",
       "      <td>1.253011</td>\n",
       "      <td>34.803915</td>\n",
       "      <td>3.329256</td>\n",
       "      <td>5.865512</td>\n",
       "      <td>0.351974</td>\n",
       "      <td>0.023172</td>\n",
       "      <td>63.386750</td>\n",
       "      <td>0.085170</td>\n",
       "    </tr>\n",
       "    <tr>\n",
       "      <th>std</th>\n",
       "      <td>22586.581449</td>\n",
       "      <td>0.609264</td>\n",
       "      <td>7.660169</td>\n",
       "      <td>1.259993</td>\n",
       "      <td>4.265094</td>\n",
       "      <td>0.477590</td>\n",
       "      <td>0.150450</td>\n",
       "      <td>13.371559</td>\n",
       "      <td>0.279137</td>\n",
       "    </tr>\n",
       "    <tr>\n",
       "      <th>min</th>\n",
       "      <td>1.000000</td>\n",
       "      <td>1.000000</td>\n",
       "      <td>20.000000</td>\n",
       "      <td>1.000000</td>\n",
       "      <td>1.000000</td>\n",
       "      <td>0.000000</td>\n",
       "      <td>0.000000</td>\n",
       "      <td>39.000000</td>\n",
       "      <td>0.000000</td>\n",
       "    </tr>\n",
       "    <tr>\n",
       "      <th>25%</th>\n",
       "      <td>19669.750000</td>\n",
       "      <td>1.000000</td>\n",
       "      <td>29.000000</td>\n",
       "      <td>3.000000</td>\n",
       "      <td>3.000000</td>\n",
       "      <td>0.000000</td>\n",
       "      <td>0.000000</td>\n",
       "      <td>51.000000</td>\n",
       "      <td>0.000000</td>\n",
       "    </tr>\n",
       "    <tr>\n",
       "      <th>50%</th>\n",
       "      <td>39225.500000</td>\n",
       "      <td>1.000000</td>\n",
       "      <td>33.000000</td>\n",
       "      <td>3.000000</td>\n",
       "      <td>5.000000</td>\n",
       "      <td>0.000000</td>\n",
       "      <td>0.000000</td>\n",
       "      <td>60.000000</td>\n",
       "      <td>0.000000</td>\n",
       "    </tr>\n",
       "    <tr>\n",
       "      <th>75%</th>\n",
       "      <td>58730.500000</td>\n",
       "      <td>1.000000</td>\n",
       "      <td>39.000000</td>\n",
       "      <td>4.000000</td>\n",
       "      <td>7.000000</td>\n",
       "      <td>1.000000</td>\n",
       "      <td>0.000000</td>\n",
       "      <td>76.000000</td>\n",
       "      <td>0.000000</td>\n",
       "    </tr>\n",
       "    <tr>\n",
       "      <th>max</th>\n",
       "      <td>78298.000000</td>\n",
       "      <td>10.000000</td>\n",
       "      <td>60.000000</td>\n",
       "      <td>5.000000</td>\n",
       "      <td>37.000000</td>\n",
       "      <td>1.000000</td>\n",
       "      <td>1.000000</td>\n",
       "      <td>99.000000</td>\n",
       "      <td>1.000000</td>\n",
       "    </tr>\n",
       "  </tbody>\n",
       "</table>\n",
       "</div>"
      ],
      "text/plain": [
       "        employee_id  no_of_trainings           age  previous_year_rating  \\\n",
       "count  54808.000000     54808.000000  54808.000000          50684.000000   \n",
       "mean   39195.830627         1.253011     34.803915              3.329256   \n",
       "std    22586.581449         0.609264      7.660169              1.259993   \n",
       "min        1.000000         1.000000     20.000000              1.000000   \n",
       "25%    19669.750000         1.000000     29.000000              3.000000   \n",
       "50%    39225.500000         1.000000     33.000000              3.000000   \n",
       "75%    58730.500000         1.000000     39.000000              4.000000   \n",
       "max    78298.000000        10.000000     60.000000              5.000000   \n",
       "\n",
       "       length_of_service  KPIs_met >80%   awards_won?  avg_training_score  \\\n",
       "count       54808.000000   54808.000000  54808.000000        54808.000000   \n",
       "mean            5.865512       0.351974      0.023172           63.386750   \n",
       "std             4.265094       0.477590      0.150450           13.371559   \n",
       "min             1.000000       0.000000      0.000000           39.000000   \n",
       "25%             3.000000       0.000000      0.000000           51.000000   \n",
       "50%             5.000000       0.000000      0.000000           60.000000   \n",
       "75%             7.000000       1.000000      0.000000           76.000000   \n",
       "max            37.000000       1.000000      1.000000           99.000000   \n",
       "\n",
       "        is_promoted  \n",
       "count  54808.000000  \n",
       "mean       0.085170  \n",
       "std        0.279137  \n",
       "min        0.000000  \n",
       "25%        0.000000  \n",
       "50%        0.000000  \n",
       "75%        0.000000  \n",
       "max        1.000000  "
      ]
     },
     "execution_count": 10,
     "metadata": {},
     "output_type": "execute_result"
    }
   ],
   "source": [
    "train_df.describe()"
   ]
  },
  {
   "cell_type": "markdown",
   "metadata": {},
   "source": [
    "***department***"
   ]
  },
  {
   "cell_type": "code",
   "execution_count": 11,
   "metadata": {},
   "outputs": [
    {
     "data": {
      "text/plain": [
       "<AxesSubplot:>"
      ]
     },
     "execution_count": 11,
     "metadata": {},
     "output_type": "execute_result"
    },
    {
     "data": {
      "image/png": "[encoded data removed]",
      "text/plain": [
       "<Figure size 432x288 with 1 Axes>"
      ]
     },
     "metadata": {
      "needs_background": "light"
     },
     "output_type": "display_data"
    }
   ],
   "source": [
    "train_df['department'].value_counts().plot(kind='barh')"
   ]
  },
  {
   "cell_type": "code",
   "execution_count": 12,
   "metadata": {},
   "outputs": [
    {
     "data": {
      "text/plain": [
       "<seaborn.axisgrid.FacetGrid at 0x7f91a5e3d280>"
      ]
     },
     "execution_count": 12,
     "metadata": {},
     "output_type": "execute_result"
    },
    {
     "data": {
      "image/png": "[encoded data removed]",
      "text/plain": [
       "<Figure size 432x216 with 2 Axes>"
      ]
     },
     "metadata": {
      "needs_background": "light"
     },
     "output_type": "display_data"
    }
   ],
   "source": [
    "g=sns.FacetGrid(train_df, col=\"is_promoted\")\n",
    "sns.set(style=\"ticks\")\n",
    "g.map(plt.hist, \"department\")\n",
    "g.set_xticklabels(rotation=90)"
   ]
  },
  {
   "cell_type": "code",
   "execution_count": 13,
   "metadata": {},
   "outputs": [
    {
     "data": {
      "text/plain": [
       "array(['region_7', 'region_22', 'region_19', 'region_23', 'region_26',\n",
       "       'region_2', 'region_20', 'region_34', 'region_1', 'region_4',\n",
       "       'region_29', 'region_31', 'region_15', 'region_14', 'region_11',\n",
       "       'region_5', 'region_28', 'region_17', 'region_13', 'region_16',\n",
       "       'region_25', 'region_10', 'region_27', 'region_30', 'region_12',\n",
       "       'region_21', 'region_8', 'region_32', 'region_6', 'region_33',\n",
       "       'region_24', 'region_3', 'region_9', 'region_18'], dtype=object)"
      ]
     },
     "execution_count": 13,
     "metadata": {},
     "output_type": "execute_result"
    }
   ],
   "source": [
    "train_df['region'].unique()"
   ]
  },
  {
   "cell_type": "markdown",
   "metadata": {},
   "source": [
    "# Missing Values"
   ]
  },
  {
   "cell_type": "code",
   "execution_count": 14,
   "metadata": {},
   "outputs": [
    {
     "name": "stdout",
     "output_type": "stream",
     "text": [
      "<class 'pandas.core.frame.DataFrame'>\n",
      "RangeIndex: 54808 entries, 0 to 54807\n",
      "Data columns (total 14 columns):\n",
      " #   Column                Non-Null Count  Dtype  \n",
      "---  ------                --------------  -----  \n",
      " 0   employee_id           54808 non-null  int64  \n",
      " 1   department            54808 non-null  object \n",
      " 2   region                54808 non-null  object \n",
      " 3   education             52399 non-null  object \n",
      " 4   gender                54808 non-null  object \n",
      " 5   recruitment_channel   54808 non-null  object \n",
      " 6   no_of_trainings       54808 non-null  int64  \n",
      " 7   age                   54808 non-null  int64  \n",
      " 8   previous_year_rating  50684 non-null  float64\n",
      " 9   length_of_service     54808 non-null  int64  \n",
      " 10  KPIs_met >80%         54808 non-null  int64  \n",
      " 11  awards_won?           54808 non-null  int64  \n",
      " 12  avg_training_score    54808 non-null  int64  \n",
      " 13  is_promoted           54808 non-null  int64  \n",
      "dtypes: float64(1), int64(8), object(5)\n",
      "memory usage: 5.9+ MB\n",
      "\n",
      "\n",
      "\n",
      "\n",
      "<class 'pandas.core.frame.DataFrame'>\n",
      "RangeIndex: 23490 entries, 0 to 23489\n",
      "Data columns (total 13 columns):\n",
      " #   Column                Non-Null Count  Dtype  \n",
      "---  ------                --------------  -----  \n",
      " 0   employee_id           23490 non-null  int64  \n",
      " 1   department            23490 non-null  object \n",
      " 2   region                23490 non-null  object \n",
      " 3   education             22456 non-null  object \n",
      " 4   gender                23490 non-null  object \n",
      " 5   recruitment_channel   23490 non-null  object \n",
      " 6   no_of_trainings       23490 non-null  int64  \n",
      " 7   age                   23490 non-null  int64  \n",
      " 8   previous_year_rating  21678 non-null  float64\n",
      " 9   length_of_service     23490 non-null  int64  \n",
      " 10  KPIs_met >80%         23490 non-null  int64  \n",
      " 11  awards_won?           23490 non-null  int64  \n",
      " 12  avg_training_score    23490 non-null  int64  \n",
      "dtypes: float64(1), int64(7), object(5)\n",
      "memory usage: 2.3+ MB\n"
     ]
    }
   ],
   "source": [
    "train_df.info()\n",
    "print(\"\\n\"*3)\n",
    "test_df.info()"
   ]
  },
  {
   "cell_type": "markdown",
   "metadata": {},
   "source": [
    "Education"
   ]
  },
  {
   "cell_type": "code",
   "execution_count": 15,
   "metadata": {},
   "outputs": [
    {
     "data": {
      "text/plain": [
       "<AxesSubplot:>"
      ]
     },
     "execution_count": 15,
     "metadata": {},
     "output_type": "execute_result"
    },
    {
     "data": {
      "image/png": "[encoded data removed]",
      "text/plain": [
       "<Figure size 432x288 with 1 Axes>"
      ]
     },
     "metadata": {},
     "output_type": "display_data"
    }
   ],
   "source": [
    "train_df['education'].value_counts().plot(kind='bar')"
   ]
  },
  {
   "cell_type": "code",
   "execution_count": 16,
   "metadata": {},
   "outputs": [
    {
     "data": {
      "text/html": [
       "<div>\n",
       "<style scoped>\n",
       "    .dataframe tbody tr th:only-of-type {\n",
       "        vertical-align: middle;\n",
       "    }\n",
       "\n",
       "    .dataframe tbody tr th {\n",
       "        vertical-align: top;\n",
       "    }\n",
       "\n",
       "    .dataframe thead th {\n",
       "        text-align: right;\n",
       "    }\n",
       "</style>\n",
       "<table border=\"1\" class=\"dataframe\">\n",
       "  <thead>\n",
       "    <tr style=\"text-align: right;\">\n",
       "      <th></th>\n",
       "      <th>employee_id</th>\n",
       "      <th>department</th>\n",
       "      <th>region</th>\n",
       "      <th>education</th>\n",
       "      <th>gender</th>\n",
       "      <th>recruitment_channel</th>\n",
       "      <th>no_of_trainings</th>\n",
       "      <th>age</th>\n",
       "      <th>previous_year_rating</th>\n",
       "      <th>length_of_service</th>\n",
       "      <th>KPIs_met &gt;80%</th>\n",
       "      <th>awards_won?</th>\n",
       "      <th>avg_training_score</th>\n",
       "      <th>is_promoted</th>\n",
       "    </tr>\n",
       "  </thead>\n",
       "  <tbody>\n",
       "    <tr>\n",
       "      <th>1</th>\n",
       "      <td>65141</td>\n",
       "      <td>Operations</td>\n",
       "      <td>region_22</td>\n",
       "      <td>Bachelor's</td>\n",
       "      <td>m</td>\n",
       "      <td>other</td>\n",
       "      <td>1</td>\n",
       "      <td>30</td>\n",
       "      <td>5.0</td>\n",
       "      <td>4</td>\n",
       "      <td>0</td>\n",
       "      <td>0</td>\n",
       "      <td>60</td>\n",
       "      <td>0</td>\n",
       "    </tr>\n",
       "    <tr>\n",
       "      <th>2</th>\n",
       "      <td>7513</td>\n",
       "      <td>Sales &amp; Marketing</td>\n",
       "      <td>region_19</td>\n",
       "      <td>Bachelor's</td>\n",
       "      <td>m</td>\n",
       "      <td>sourcing</td>\n",
       "      <td>1</td>\n",
       "      <td>34</td>\n",
       "      <td>3.0</td>\n",
       "      <td>7</td>\n",
       "      <td>0</td>\n",
       "      <td>0</td>\n",
       "      <td>50</td>\n",
       "      <td>0</td>\n",
       "    </tr>\n",
       "    <tr>\n",
       "      <th>3</th>\n",
       "      <td>2542</td>\n",
       "      <td>Sales &amp; Marketing</td>\n",
       "      <td>region_23</td>\n",
       "      <td>Bachelor's</td>\n",
       "      <td>m</td>\n",
       "      <td>other</td>\n",
       "      <td>2</td>\n",
       "      <td>39</td>\n",
       "      <td>1.0</td>\n",
       "      <td>10</td>\n",
       "      <td>0</td>\n",
       "      <td>0</td>\n",
       "      <td>50</td>\n",
       "      <td>0</td>\n",
       "    </tr>\n",
       "    <tr>\n",
       "      <th>4</th>\n",
       "      <td>48945</td>\n",
       "      <td>Technology</td>\n",
       "      <td>region_26</td>\n",
       "      <td>Bachelor's</td>\n",
       "      <td>m</td>\n",
       "      <td>other</td>\n",
       "      <td>1</td>\n",
       "      <td>45</td>\n",
       "      <td>3.0</td>\n",
       "      <td>2</td>\n",
       "      <td>0</td>\n",
       "      <td>0</td>\n",
       "      <td>73</td>\n",
       "      <td>0</td>\n",
       "    </tr>\n",
       "    <tr>\n",
       "      <th>5</th>\n",
       "      <td>58896</td>\n",
       "      <td>Analytics</td>\n",
       "      <td>region_2</td>\n",
       "      <td>Bachelor's</td>\n",
       "      <td>m</td>\n",
       "      <td>sourcing</td>\n",
       "      <td>2</td>\n",
       "      <td>31</td>\n",
       "      <td>3.0</td>\n",
       "      <td>7</td>\n",
       "      <td>0</td>\n",
       "      <td>0</td>\n",
       "      <td>85</td>\n",
       "      <td>0</td>\n",
       "    </tr>\n",
       "    <tr>\n",
       "      <th>...</th>\n",
       "      <td>...</td>\n",
       "      <td>...</td>\n",
       "      <td>...</td>\n",
       "      <td>...</td>\n",
       "      <td>...</td>\n",
       "      <td>...</td>\n",
       "      <td>...</td>\n",
       "      <td>...</td>\n",
       "      <td>...</td>\n",
       "      <td>...</td>\n",
       "      <td>...</td>\n",
       "      <td>...</td>\n",
       "      <td>...</td>\n",
       "      <td>...</td>\n",
       "    </tr>\n",
       "    <tr>\n",
       "      <th>54802</th>\n",
       "      <td>6915</td>\n",
       "      <td>Sales &amp; Marketing</td>\n",
       "      <td>region_14</td>\n",
       "      <td>Bachelor's</td>\n",
       "      <td>m</td>\n",
       "      <td>other</td>\n",
       "      <td>2</td>\n",
       "      <td>31</td>\n",
       "      <td>1.0</td>\n",
       "      <td>2</td>\n",
       "      <td>0</td>\n",
       "      <td>0</td>\n",
       "      <td>49</td>\n",
       "      <td>0</td>\n",
       "    </tr>\n",
       "    <tr>\n",
       "      <th>54803</th>\n",
       "      <td>3030</td>\n",
       "      <td>Technology</td>\n",
       "      <td>region_14</td>\n",
       "      <td>Bachelor's</td>\n",
       "      <td>m</td>\n",
       "      <td>sourcing</td>\n",
       "      <td>1</td>\n",
       "      <td>48</td>\n",
       "      <td>3.0</td>\n",
       "      <td>17</td>\n",
       "      <td>0</td>\n",
       "      <td>0</td>\n",
       "      <td>78</td>\n",
       "      <td>0</td>\n",
       "    </tr>\n",
       "    <tr>\n",
       "      <th>54805</th>\n",
       "      <td>13918</td>\n",
       "      <td>Analytics</td>\n",
       "      <td>region_1</td>\n",
       "      <td>Bachelor's</td>\n",
       "      <td>m</td>\n",
       "      <td>other</td>\n",
       "      <td>1</td>\n",
       "      <td>27</td>\n",
       "      <td>5.0</td>\n",
       "      <td>3</td>\n",
       "      <td>1</td>\n",
       "      <td>0</td>\n",
       "      <td>79</td>\n",
       "      <td>0</td>\n",
       "    </tr>\n",
       "    <tr>\n",
       "      <th>54806</th>\n",
       "      <td>13614</td>\n",
       "      <td>Sales &amp; Marketing</td>\n",
       "      <td>region_9</td>\n",
       "      <td>NaN</td>\n",
       "      <td>m</td>\n",
       "      <td>sourcing</td>\n",
       "      <td>1</td>\n",
       "      <td>29</td>\n",
       "      <td>1.0</td>\n",
       "      <td>2</td>\n",
       "      <td>0</td>\n",
       "      <td>0</td>\n",
       "      <td>45</td>\n",
       "      <td>0</td>\n",
       "    </tr>\n",
       "    <tr>\n",
       "      <th>54807</th>\n",
       "      <td>51526</td>\n",
       "      <td>HR</td>\n",
       "      <td>region_22</td>\n",
       "      <td>Bachelor's</td>\n",
       "      <td>m</td>\n",
       "      <td>other</td>\n",
       "      <td>1</td>\n",
       "      <td>27</td>\n",
       "      <td>1.0</td>\n",
       "      <td>5</td>\n",
       "      <td>0</td>\n",
       "      <td>0</td>\n",
       "      <td>49</td>\n",
       "      <td>0</td>\n",
       "    </tr>\n",
       "  </tbody>\n",
       "</table>\n",
       "<p>39883 rows × 14 columns</p>\n",
       "</div>"
      ],
      "text/plain": [
       "       employee_id         department     region   education gender  \\\n",
       "1            65141         Operations  region_22  Bachelor's      m   \n",
       "2             7513  Sales & Marketing  region_19  Bachelor's      m   \n",
       "3             2542  Sales & Marketing  region_23  Bachelor's      m   \n",
       "4            48945         Technology  region_26  Bachelor's      m   \n",
       "5            58896          Analytics   region_2  Bachelor's      m   \n",
       "...            ...                ...        ...         ...    ...   \n",
       "54802         6915  Sales & Marketing  region_14  Bachelor's      m   \n",
       "54803         3030         Technology  region_14  Bachelor's      m   \n",
       "54805        13918          Analytics   region_1  Bachelor's      m   \n",
       "54806        13614  Sales & Marketing   region_9         NaN      m   \n",
       "54807        51526                 HR  region_22  Bachelor's      m   \n",
       "\n",
       "      recruitment_channel  no_of_trainings  age  previous_year_rating  \\\n",
       "1                   other                1   30                   5.0   \n",
       "2                sourcing                1   34                   3.0   \n",
       "3                   other                2   39                   1.0   \n",
       "4                   other                1   45                   3.0   \n",
       "5                sourcing                2   31                   3.0   \n",
       "...                   ...              ...  ...                   ...   \n",
       "54802               other                2   31                   1.0   \n",
       "54803            sourcing                1   48                   3.0   \n",
       "54805               other                1   27                   5.0   \n",
       "54806            sourcing                1   29                   1.0   \n",
       "54807               other                1   27                   1.0   \n",
       "\n",
       "       length_of_service  KPIs_met >80%  awards_won?  avg_training_score  \\\n",
       "1                      4              0            0                  60   \n",
       "2                      7              0            0                  50   \n",
       "3                     10              0            0                  50   \n",
       "4                      2              0            0                  73   \n",
       "5                      7              0            0                  85   \n",
       "...                  ...            ...          ...                 ...   \n",
       "54802                  2              0            0                  49   \n",
       "54803                 17              0            0                  78   \n",
       "54805                  3              1            0                  79   \n",
       "54806                  2              0            0                  45   \n",
       "54807                  5              0            0                  49   \n",
       "\n",
       "       is_promoted  \n",
       "1                0  \n",
       "2                0  \n",
       "3                0  \n",
       "4                0  \n",
       "5                0  \n",
       "...            ...  \n",
       "54802            0  \n",
       "54803            0  \n",
       "54805            0  \n",
       "54806            0  \n",
       "54807            0  \n",
       "\n",
       "[39883 rows x 14 columns]"
      ]
     },
     "execution_count": 16,
     "metadata": {},
     "output_type": "execute_result"
    }
   ],
   "source": [
    "train_df[train_df['education'] != \"Master's & above\"] [train_df['education'] != \"Bachelor's\"] [train_df['education'] != \"Below Secondary\"]\n",
    "train_df[train_df['education'] != \"Master's & above\"]"
   ]
  },
  {
   "cell_type": "code",
   "execution_count": 17,
   "metadata": {},
   "outputs": [
    {
     "data": {
      "text/plain": [
       "<AxesSubplot:>"
      ]
     },
     "execution_count": 17,
     "metadata": {},
     "output_type": "execute_result"
    },
    {
     "data": {
      "image/png": "[encoded data removed]",
      "text/plain": [
       "<Figure size 432x288 with 1 Axes>"
      ]
     },
     "metadata": {},
     "output_type": "display_data"
    }
   ],
   "source": [
    "train_df['previous_year_rating'].plot(kind='box')"
   ]
  },
  {
   "cell_type": "code",
   "execution_count": 18,
   "metadata": {},
   "outputs": [
    {
     "data": {
      "text/plain": [
       "<AxesSubplot:ylabel='Density'>"
      ]
     },
     "execution_count": 18,
     "metadata": {},
     "output_type": "execute_result"
    },
    {
     "data": {
      "image/png": "[encoded data removed]",
      "text/plain": [
       "<Figure size 432x288 with 1 Axes>"
      ]
     },
     "metadata": {},
     "output_type": "display_data"
    }
   ],
   "source": [
    "train_df['previous_year_rating'].plot(kind='density')"
   ]
  },
  {
   "cell_type": "code",
   "execution_count": 19,
   "metadata": {},
   "outputs": [
    {
     "data": {
      "text/plain": [
       "count    50684.000000\n",
       "mean         3.329256\n",
       "std          1.259993\n",
       "min          1.000000\n",
       "25%          3.000000\n",
       "50%          3.000000\n",
       "75%          4.000000\n",
       "max          5.000000\n",
       "Name: previous_year_rating, dtype: float64"
      ]
     },
     "execution_count": 19,
     "metadata": {},
     "output_type": "execute_result"
    }
   ],
   "source": [
    "train_df['previous_year_rating'].describe()"
   ]
  },
  {
   "cell_type": "code",
   "execution_count": 20,
   "metadata": {},
   "outputs": [
    {
     "name": "stdout",
     "output_type": "stream",
     "text": [
      "Missing Values in Train Data\n",
      "Nan % in previous_year_rating: 7.524448985549554 %\n",
      "Nan % in education: 4.395343745438623 %\n"
     ]
    }
   ],
   "source": [
    "#percentage of Missing Values in train_df\n",
    "print(\"Missing Values in Train Data\")\n",
    "print(\"Nan % in previous_year_rating:\", 100-train_df['previous_year_rating'].value_counts().sum()/len(train_df['previous_year_rating'])*100,\"%\")\n",
    "print(\"Nan % in education:\", 100-train_df['education'].value_counts().sum()/len(train_df['education'])*100,\"%\")"
   ]
  },
  {
   "cell_type": "code",
   "execution_count": 21,
   "metadata": {},
   "outputs": [
    {
     "name": "stdout",
     "output_type": "stream",
     "text": [
      "Missing Values in Test Data\n",
      "Nan % in previous_year_rating: 7.713920817369086 %\n",
      "Nan % in education: 4.401873137505319 %\n"
     ]
    }
   ],
   "source": [
    "#percentage of Missing Values intest_df\n",
    "print(\"Missing Values in Test Data\")\n",
    "print(\"Nan % in previous_year_rating:\", 100-test_df['previous_year_rating'].value_counts().sum()/len(test_df['previous_year_rating'])*100,\"%\")\n",
    "print(\"Nan % in education:\", 100-test_df['education'].value_counts().sum()/len(test_df['education'])*100,\"%\")"
   ]
  },
  {
   "cell_type": "code",
   "execution_count": 22,
   "metadata": {},
   "outputs": [
    {
     "name": "stdout",
     "output_type": "stream",
     "text": [
      "Missing Values in Combine\n",
      "Nan % in previous_year_rating: 7.581291987023931 %\n",
      "Nan % in education: 4.397302613093572 %\n"
     ]
    }
   ],
   "source": [
    "#percentage of Missing Values in combine\n",
    "print(\"Missing Values in Combine\")\n",
    "print(\"Nan % in previous_year_rating:\", 100-combine['previous_year_rating'].value_counts().sum()/len(combine['previous_year_rating'])*100,\"%\")\n",
    "print(\"Nan % in education:\", 100-combine['education'].value_counts().sum()/len(combine['education'])*100,\"%\")"
   ]
  },
  {
   "cell_type": "code",
   "execution_count": 23,
   "metadata": {},
   "outputs": [
    {
     "data": {
      "text/plain": [
       "count    72362.000000\n",
       "mean         3.332219\n",
       "std          1.260982\n",
       "min          1.000000\n",
       "25%          3.000000\n",
       "50%          3.000000\n",
       "75%          4.000000\n",
       "max          5.000000\n",
       "Name: previous_year_rating, dtype: float64"
      ]
     },
     "execution_count": 23,
     "metadata": {},
     "output_type": "execute_result"
    }
   ],
   "source": [
    "combine['previous_year_rating'].describe()"
   ]
  },
  {
   "cell_type": "code",
   "execution_count": 24,
   "metadata": {},
   "outputs": [
    {
     "data": {
      "text/plain": [
       "0    3.0\n",
       "dtype: float64"
      ]
     },
     "execution_count": 24,
     "metadata": {},
     "output_type": "execute_result"
    }
   ],
   "source": [
    "freq=train_df['previous_year_rating'].mode()\n",
    "freq"
   ]
  },
  {
   "cell_type": "code",
   "execution_count": 25,
   "metadata": {},
   "outputs": [
    {
     "data": {
      "text/plain": [
       "array([ 5.,  3.,  1.,  4., nan,  2.])"
      ]
     },
     "execution_count": 25,
     "metadata": {},
     "output_type": "execute_result"
    }
   ],
   "source": [
    "train_df['previous_year_rating'].unique()"
   ]
  },
  {
   "cell_type": "code",
   "execution_count": 26,
   "metadata": {},
   "outputs": [],
   "source": [
    "#imputing using mode for 'previous_year_rating'\n",
    "train_df['previous_year_rating']=train_df['previous_year_rating'].fillna(3.0)\n",
    "test_df['previous_year_rating']=test_df['previous_year_rating'].fillna(3.0)"
   ]
  },
  {
   "cell_type": "code",
   "execution_count": 27,
   "metadata": {},
   "outputs": [
    {
     "name": "stdout",
     "output_type": "stream",
     "text": [
      "<class 'pandas.core.frame.DataFrame'>\n",
      "RangeIndex: 54808 entries, 0 to 54807\n",
      "Data columns (total 14 columns):\n",
      " #   Column                Non-Null Count  Dtype  \n",
      "---  ------                --------------  -----  \n",
      " 0   employee_id           54808 non-null  int64  \n",
      " 1   department            54808 non-null  object \n",
      " 2   region                54808 non-null  object \n",
      " 3   education             52399 non-null  object \n",
      " 4   gender                54808 non-null  object \n",
      " 5   recruitment_channel   54808 non-null  object \n",
      " 6   no_of_trainings       54808 non-null  int64  \n",
      " 7   age                   54808 non-null  int64  \n",
      " 8   previous_year_rating  54808 non-null  float64\n",
      " 9   length_of_service     54808 non-null  int64  \n",
      " 10  KPIs_met >80%         54808 non-null  int64  \n",
      " 11  awards_won?           54808 non-null  int64  \n",
      " 12  avg_training_score    54808 non-null  int64  \n",
      " 13  is_promoted           54808 non-null  int64  \n",
      "dtypes: float64(1), int64(8), object(5)\n",
      "memory usage: 5.9+ MB\n"
     ]
    }
   ],
   "source": [
    "train_df.info()"
   ]
  },
  {
   "cell_type": "code",
   "execution_count": 28,
   "metadata": {},
   "outputs": [
    {
     "data": {
      "text/html": [
       "<div>\n",
       "<style scoped>\n",
       "    .dataframe tbody tr th:only-of-type {\n",
       "        vertical-align: middle;\n",
       "    }\n",
       "\n",
       "    .dataframe tbody tr th {\n",
       "        vertical-align: top;\n",
       "    }\n",
       "\n",
       "    .dataframe thead th {\n",
       "        text-align: right;\n",
       "    }\n",
       "</style>\n",
       "<table border=\"1\" class=\"dataframe\">\n",
       "  <thead>\n",
       "    <tr style=\"text-align: right;\">\n",
       "      <th></th>\n",
       "      <th>employee_id</th>\n",
       "      <th>department</th>\n",
       "      <th>region</th>\n",
       "      <th>education</th>\n",
       "      <th>gender</th>\n",
       "      <th>recruitment_channel</th>\n",
       "      <th>no_of_trainings</th>\n",
       "      <th>age</th>\n",
       "      <th>previous_year_rating</th>\n",
       "      <th>length_of_service</th>\n",
       "      <th>KPIs_met &gt;80%</th>\n",
       "      <th>awards_won?</th>\n",
       "      <th>avg_training_score</th>\n",
       "      <th>is_promoted</th>\n",
       "    </tr>\n",
       "  </thead>\n",
       "  <tbody>\n",
       "    <tr>\n",
       "      <th>0</th>\n",
       "      <td>65438</td>\n",
       "      <td>Sales &amp; Marketing</td>\n",
       "      <td>region_7</td>\n",
       "      <td>Master's &amp; above</td>\n",
       "      <td>f</td>\n",
       "      <td>sourcing</td>\n",
       "      <td>1</td>\n",
       "      <td>35</td>\n",
       "      <td>5.0</td>\n",
       "      <td>8</td>\n",
       "      <td>1</td>\n",
       "      <td>0</td>\n",
       "      <td>49</td>\n",
       "      <td>0</td>\n",
       "    </tr>\n",
       "    <tr>\n",
       "      <th>1</th>\n",
       "      <td>65141</td>\n",
       "      <td>Operations</td>\n",
       "      <td>region_22</td>\n",
       "      <td>Bachelor's</td>\n",
       "      <td>m</td>\n",
       "      <td>other</td>\n",
       "      <td>1</td>\n",
       "      <td>30</td>\n",
       "      <td>5.0</td>\n",
       "      <td>4</td>\n",
       "      <td>0</td>\n",
       "      <td>0</td>\n",
       "      <td>60</td>\n",
       "      <td>0</td>\n",
       "    </tr>\n",
       "    <tr>\n",
       "      <th>2</th>\n",
       "      <td>7513</td>\n",
       "      <td>Sales &amp; Marketing</td>\n",
       "      <td>region_19</td>\n",
       "      <td>Bachelor's</td>\n",
       "      <td>m</td>\n",
       "      <td>sourcing</td>\n",
       "      <td>1</td>\n",
       "      <td>34</td>\n",
       "      <td>3.0</td>\n",
       "      <td>7</td>\n",
       "      <td>0</td>\n",
       "      <td>0</td>\n",
       "      <td>50</td>\n",
       "      <td>0</td>\n",
       "    </tr>\n",
       "    <tr>\n",
       "      <th>3</th>\n",
       "      <td>2542</td>\n",
       "      <td>Sales &amp; Marketing</td>\n",
       "      <td>region_23</td>\n",
       "      <td>Bachelor's</td>\n",
       "      <td>m</td>\n",
       "      <td>other</td>\n",
       "      <td>2</td>\n",
       "      <td>39</td>\n",
       "      <td>1.0</td>\n",
       "      <td>10</td>\n",
       "      <td>0</td>\n",
       "      <td>0</td>\n",
       "      <td>50</td>\n",
       "      <td>0</td>\n",
       "    </tr>\n",
       "    <tr>\n",
       "      <th>4</th>\n",
       "      <td>48945</td>\n",
       "      <td>Technology</td>\n",
       "      <td>region_26</td>\n",
       "      <td>Bachelor's</td>\n",
       "      <td>m</td>\n",
       "      <td>other</td>\n",
       "      <td>1</td>\n",
       "      <td>45</td>\n",
       "      <td>3.0</td>\n",
       "      <td>2</td>\n",
       "      <td>0</td>\n",
       "      <td>0</td>\n",
       "      <td>73</td>\n",
       "      <td>0</td>\n",
       "    </tr>\n",
       "  </tbody>\n",
       "</table>\n",
       "</div>"
      ],
      "text/plain": [
       "   employee_id         department     region         education gender  \\\n",
       "0        65438  Sales & Marketing   region_7  Master's & above      f   \n",
       "1        65141         Operations  region_22        Bachelor's      m   \n",
       "2         7513  Sales & Marketing  region_19        Bachelor's      m   \n",
       "3         2542  Sales & Marketing  region_23        Bachelor's      m   \n",
       "4        48945         Technology  region_26        Bachelor's      m   \n",
       "\n",
       "  recruitment_channel  no_of_trainings  age  previous_year_rating  \\\n",
       "0            sourcing                1   35                   5.0   \n",
       "1               other                1   30                   5.0   \n",
       "2            sourcing                1   34                   3.0   \n",
       "3               other                2   39                   1.0   \n",
       "4               other                1   45                   3.0   \n",
       "\n",
       "   length_of_service  KPIs_met >80%  awards_won?  avg_training_score  \\\n",
       "0                  8              1            0                  49   \n",
       "1                  4              0            0                  60   \n",
       "2                  7              0            0                  50   \n",
       "3                 10              0            0                  50   \n",
       "4                  2              0            0                  73   \n",
       "\n",
       "   is_promoted  \n",
       "0            0  \n",
       "1            0  \n",
       "2            0  \n",
       "3            0  \n",
       "4            0  "
      ]
     },
     "execution_count": 28,
     "metadata": {},
     "output_type": "execute_result"
    }
   ],
   "source": [
    "train_df.head()"
   ]
  },
  {
   "cell_type": "code",
   "execution_count": 29,
   "metadata": {},
   "outputs": [
    {
     "data": {
      "text/plain": [
       "count          52399\n",
       "unique             3\n",
       "top       Bachelor's\n",
       "freq           36669\n",
       "Name: education, dtype: object"
      ]
     },
     "execution_count": 29,
     "metadata": {},
     "output_type": "execute_result"
    }
   ],
   "source": [
    "train_df['education'].describe()"
   ]
  },
  {
   "cell_type": "code",
   "execution_count": 30,
   "metadata": {},
   "outputs": [],
   "source": [
    "#imputing using mode for 'education'\n",
    "train_df['education']=train_df['education'].fillna(\"Bachelor's\")\n",
    "test_df['education']=test_df['education'].fillna(\"Bachelor's\")"
   ]
  },
  {
   "cell_type": "code",
   "execution_count": 31,
   "metadata": {},
   "outputs": [
    {
     "name": "stdout",
     "output_type": "stream",
     "text": [
      "<class 'pandas.core.frame.DataFrame'>\n",
      "RangeIndex: 54808 entries, 0 to 54807\n",
      "Data columns (total 14 columns):\n",
      " #   Column                Non-Null Count  Dtype  \n",
      "---  ------                --------------  -----  \n",
      " 0   employee_id           54808 non-null  int64  \n",
      " 1   department            54808 non-null  object \n",
      " 2   region                54808 non-null  object \n",
      " 3   education             54808 non-null  object \n",
      " 4   gender                54808 non-null  object \n",
      " 5   recruitment_channel   54808 non-null  object \n",
      " 6   no_of_trainings       54808 non-null  int64  \n",
      " 7   age                   54808 non-null  int64  \n",
      " 8   previous_year_rating  54808 non-null  float64\n",
      " 9   length_of_service     54808 non-null  int64  \n",
      " 10  KPIs_met >80%         54808 non-null  int64  \n",
      " 11  awards_won?           54808 non-null  int64  \n",
      " 12  avg_training_score    54808 non-null  int64  \n",
      " 13  is_promoted           54808 non-null  int64  \n",
      "dtypes: float64(1), int64(8), object(5)\n",
      "memory usage: 5.9+ MB\n"
     ]
    }
   ],
   "source": [
    "train_df.info()"
   ]
  },
  {
   "cell_type": "code",
   "execution_count": 32,
   "metadata": {},
   "outputs": [
    {
     "name": "stdout",
     "output_type": "stream",
     "text": [
      "<class 'pandas.core.frame.DataFrame'>\n",
      "RangeIndex: 23490 entries, 0 to 23489\n",
      "Data columns (total 13 columns):\n",
      " #   Column                Non-Null Count  Dtype  \n",
      "---  ------                --------------  -----  \n",
      " 0   employee_id           23490 non-null  int64  \n",
      " 1   department            23490 non-null  object \n",
      " 2   region                23490 non-null  object \n",
      " 3   education             23490 non-null  object \n",
      " 4   gender                23490 non-null  object \n",
      " 5   recruitment_channel   23490 non-null  object \n",
      " 6   no_of_trainings       23490 non-null  int64  \n",
      " 7   age                   23490 non-null  int64  \n",
      " 8   previous_year_rating  23490 non-null  float64\n",
      " 9   length_of_service     23490 non-null  int64  \n",
      " 10  KPIs_met >80%         23490 non-null  int64  \n",
      " 11  awards_won?           23490 non-null  int64  \n",
      " 12  avg_training_score    23490 non-null  int64  \n",
      "dtypes: float64(1), int64(7), object(5)\n",
      "memory usage: 2.3+ MB\n"
     ]
    }
   ],
   "source": [
    "test_df.info()"
   ]
  },
  {
   "cell_type": "code",
   "execution_count": 33,
   "metadata": {},
   "outputs": [
    {
     "data": {
      "text/plain": [
       "Bachelor's          16612\n",
       "Master's & above     6504\n",
       "Below Secondary       374\n",
       "Name: education, dtype: int64"
      ]
     },
     "execution_count": 33,
     "metadata": {},
     "output_type": "execute_result"
    }
   ],
   "source": [
    "test_df['education'].value_counts()"
   ]
  },
  {
   "cell_type": "markdown",
   "metadata": {},
   "source": [
    "# Data Visualisation"
   ]
  },
  {
   "cell_type": "code",
   "execution_count": 34,
   "metadata": {},
   "outputs": [
    {
     "data": {
      "text/plain": [
       "Sales & Marketing    24155\n",
       "Operations           16112\n",
       "Procurement          10158\n",
       "Technology           10149\n",
       "Name: department, dtype: int64"
      ]
     },
     "execution_count": 34,
     "metadata": {},
     "output_type": "execute_result"
    }
   ],
   "source": [
    "combine['department'].value_counts().nlargest(4)"
   ]
  },
  {
   "cell_type": "code",
   "execution_count": 35,
   "metadata": {},
   "outputs": [
    {
     "data": {
      "text/plain": [
       "<Figure size 1440x720 with 0 Axes>"
      ]
     },
     "metadata": {},
     "output_type": "display_data"
    },
    {
     "data": {
      "image/png": "[encoded data removed]",
      "text/plain": [
       "<Figure size 1944x648 with 27 Axes>"
      ]
     },
     "metadata": {},
     "output_type": "display_data"
    }
   ],
   "source": [
    "plt.figure(figsize=(20,10))\n",
    "g = sns.FacetGrid(train_df, col=\"department\", row=\"education\")\n",
    "g =  g.map(plt.hist,'is_promoted')"
   ]
  },
  {
   "cell_type": "code",
   "execution_count": 36,
   "metadata": {},
   "outputs": [
    {
     "data": {
      "text/plain": [
       "<matplotlib.collections.PathCollection at 0x7f91a02eef10>"
      ]
     },
     "execution_count": 36,
     "metadata": {},
     "output_type": "execute_result"
    },
    {
     "data": {
      "image/png": "[encoded data removed]",
      "text/plain": [
       "<Figure size 432x288 with 1 Axes>"
      ]
     },
     "metadata": {},
     "output_type": "display_data"
    }
   ],
   "source": [
    "plt.scatter(train_df['KPIs_met >80%'],train_df['is_promoted'])"
   ]
  },
  {
   "cell_type": "code",
   "execution_count": 37,
   "metadata": {},
   "outputs": [
    {
     "data": {
      "text/html": [
       "<div>\n",
       "<style scoped>\n",
       "    .dataframe tbody tr th:only-of-type {\n",
       "        vertical-align: middle;\n",
       "    }\n",
       "\n",
       "    .dataframe tbody tr th {\n",
       "        vertical-align: top;\n",
       "    }\n",
       "\n",
       "    .dataframe thead th {\n",
       "        text-align: right;\n",
       "    }\n",
       "</style>\n",
       "<table border=\"1\" class=\"dataframe\">\n",
       "  <thead>\n",
       "    <tr style=\"text-align: right;\">\n",
       "      <th></th>\n",
       "      <th>employee_id</th>\n",
       "      <th>no_of_trainings</th>\n",
       "      <th>age</th>\n",
       "      <th>previous_year_rating</th>\n",
       "      <th>length_of_service</th>\n",
       "      <th>KPIs_met &gt;80%</th>\n",
       "      <th>awards_won?</th>\n",
       "      <th>avg_training_score</th>\n",
       "      <th>is_promoted</th>\n",
       "    </tr>\n",
       "  </thead>\n",
       "  <tbody>\n",
       "    <tr>\n",
       "      <th>employee_id</th>\n",
       "      <td>1.000000</td>\n",
       "      <td>-0.005121</td>\n",
       "      <td>0.000437</td>\n",
       "      <td>0.004209</td>\n",
       "      <td>0.001274</td>\n",
       "      <td>-0.002501</td>\n",
       "      <td>0.008420</td>\n",
       "      <td>-0.000586</td>\n",
       "      <td>0.001206</td>\n",
       "    </tr>\n",
       "    <tr>\n",
       "      <th>no_of_trainings</th>\n",
       "      <td>-0.005121</td>\n",
       "      <td>1.000000</td>\n",
       "      <td>-0.081278</td>\n",
       "      <td>-0.061564</td>\n",
       "      <td>-0.057275</td>\n",
       "      <td>-0.045576</td>\n",
       "      <td>-0.007628</td>\n",
       "      <td>0.042517</td>\n",
       "      <td>-0.024896</td>\n",
       "    </tr>\n",
       "    <tr>\n",
       "      <th>age</th>\n",
       "      <td>0.000437</td>\n",
       "      <td>-0.081278</td>\n",
       "      <td>1.000000</td>\n",
       "      <td>0.026810</td>\n",
       "      <td>0.657111</td>\n",
       "      <td>-0.025592</td>\n",
       "      <td>-0.008169</td>\n",
       "      <td>-0.048380</td>\n",
       "      <td>-0.017166</td>\n",
       "    </tr>\n",
       "    <tr>\n",
       "      <th>previous_year_rating</th>\n",
       "      <td>0.004209</td>\n",
       "      <td>-0.061564</td>\n",
       "      <td>0.026810</td>\n",
       "      <td>1.000000</td>\n",
       "      <td>0.023504</td>\n",
       "      <td>0.337367</td>\n",
       "      <td>0.026587</td>\n",
       "      <td>0.071926</td>\n",
       "      <td>0.153230</td>\n",
       "    </tr>\n",
       "    <tr>\n",
       "      <th>length_of_service</th>\n",
       "      <td>0.001274</td>\n",
       "      <td>-0.057275</td>\n",
       "      <td>0.657111</td>\n",
       "      <td>0.023504</td>\n",
       "      <td>1.000000</td>\n",
       "      <td>-0.077693</td>\n",
       "      <td>-0.039927</td>\n",
       "      <td>-0.038122</td>\n",
       "      <td>-0.010670</td>\n",
       "    </tr>\n",
       "    <tr>\n",
       "      <th>KPIs_met &gt;80%</th>\n",
       "      <td>-0.002501</td>\n",
       "      <td>-0.045576</td>\n",
       "      <td>-0.025592</td>\n",
       "      <td>0.337367</td>\n",
       "      <td>-0.077693</td>\n",
       "      <td>1.000000</td>\n",
       "      <td>0.097000</td>\n",
       "      <td>0.078391</td>\n",
       "      <td>0.221582</td>\n",
       "    </tr>\n",
       "    <tr>\n",
       "      <th>awards_won?</th>\n",
       "      <td>0.008420</td>\n",
       "      <td>-0.007628</td>\n",
       "      <td>-0.008169</td>\n",
       "      <td>0.026587</td>\n",
       "      <td>-0.039927</td>\n",
       "      <td>0.097000</td>\n",
       "      <td>1.000000</td>\n",
       "      <td>0.072138</td>\n",
       "      <td>0.195871</td>\n",
       "    </tr>\n",
       "    <tr>\n",
       "      <th>avg_training_score</th>\n",
       "      <td>-0.000586</td>\n",
       "      <td>0.042517</td>\n",
       "      <td>-0.048380</td>\n",
       "      <td>0.071926</td>\n",
       "      <td>-0.038122</td>\n",
       "      <td>0.078391</td>\n",
       "      <td>0.072138</td>\n",
       "      <td>1.000000</td>\n",
       "      <td>0.181147</td>\n",
       "    </tr>\n",
       "    <tr>\n",
       "      <th>is_promoted</th>\n",
       "      <td>0.001206</td>\n",
       "      <td>-0.024896</td>\n",
       "      <td>-0.017166</td>\n",
       "      <td>0.153230</td>\n",
       "      <td>-0.010670</td>\n",
       "      <td>0.221582</td>\n",
       "      <td>0.195871</td>\n",
       "      <td>0.181147</td>\n",
       "      <td>1.000000</td>\n",
       "    </tr>\n",
       "  </tbody>\n",
       "</table>\n",
       "</div>"
      ],
      "text/plain": [
       "                      employee_id  no_of_trainings       age  \\\n",
       "employee_id              1.000000        -0.005121  0.000437   \n",
       "no_of_trainings         -0.005121         1.000000 -0.081278   \n",
       "age                      0.000437        -0.081278  1.000000   \n",
       "previous_year_rating     0.004209        -0.061564  0.026810   \n",
       "length_of_service        0.001274        -0.057275  0.657111   \n",
       "KPIs_met >80%           -0.002501        -0.045576 -0.025592   \n",
       "awards_won?              0.008420        -0.007628 -0.008169   \n",
       "avg_training_score      -0.000586         0.042517 -0.048380   \n",
       "is_promoted              0.001206        -0.024896 -0.017166   \n",
       "\n",
       "                      previous_year_rating  length_of_service  KPIs_met >80%  \\\n",
       "employee_id                       0.004209           0.001274      -0.002501   \n",
       "no_of_trainings                  -0.061564          -0.057275      -0.045576   \n",
       "age                               0.026810           0.657111      -0.025592   \n",
       "previous_year_rating              1.000000           0.023504       0.337367   \n",
       "length_of_service                 0.023504           1.000000      -0.077693   \n",
       "KPIs_met >80%                     0.337367          -0.077693       1.000000   \n",
       "awards_won?                       0.026587          -0.039927       0.097000   \n",
       "avg_training_score                0.071926          -0.038122       0.078391   \n",
       "is_promoted                       0.153230          -0.010670       0.221582   \n",
       "\n",
       "                      awards_won?  avg_training_score  is_promoted  \n",
       "employee_id              0.008420           -0.000586     0.001206  \n",
       "no_of_trainings         -0.007628            0.042517    -0.024896  \n",
       "age                     -0.008169           -0.048380    -0.017166  \n",
       "previous_year_rating     0.026587            0.071926     0.153230  \n",
       "length_of_service       -0.039927           -0.038122    -0.010670  \n",
       "KPIs_met >80%            0.097000            0.078391     0.221582  \n",
       "awards_won?              1.000000            0.072138     0.195871  \n",
       "avg_training_score       0.072138            1.000000     0.181147  \n",
       "is_promoted              0.195871            0.181147     1.000000  "
      ]
     },
     "execution_count": 37,
     "metadata": {},
     "output_type": "execute_result"
    }
   ],
   "source": [
    "train_df.corr(method='pearson')"
   ]
  },
  {
   "cell_type": "code",
   "execution_count": 38,
   "metadata": {},
   "outputs": [
    {
     "data": {
      "text/plain": [
       "<AxesSubplot:>"
      ]
     },
     "execution_count": 38,
     "metadata": {},
     "output_type": "execute_result"
    },
    {
     "data": {
      "image/png": "[encoded data removed]",
      "text/plain": [
       "<Figure size 1440x720 with 1 Axes>"
      ]
     },
     "metadata": {},
     "output_type": "display_data"
    }
   ],
   "source": [
    "plt.figure(figsize=(20,10))\n",
    "train_df['avg_training_score'].value_counts().plot(kind='bar')"
   ]
  },
  {
   "cell_type": "code",
   "execution_count": 39,
   "metadata": {},
   "outputs": [
    {
     "data": {
      "text/plain": [
       "count    54808.000000\n",
       "mean        63.386750\n",
       "std         13.371559\n",
       "min         39.000000\n",
       "25%         51.000000\n",
       "50%         60.000000\n",
       "75%         76.000000\n",
       "max         99.000000\n",
       "Name: avg_training_score, dtype: float64"
      ]
     },
     "execution_count": 39,
     "metadata": {},
     "output_type": "execute_result"
    }
   ],
   "source": [
    "train_df['avg_training_score'].describe()"
   ]
  },
  {
   "cell_type": "code",
   "execution_count": 40,
   "metadata": {},
   "outputs": [
    {
     "data": {
      "text/html": [
       "<div>\n",
       "<style scoped>\n",
       "    .dataframe tbody tr th:only-of-type {\n",
       "        vertical-align: middle;\n",
       "    }\n",
       "\n",
       "    .dataframe tbody tr th {\n",
       "        vertical-align: top;\n",
       "    }\n",
       "\n",
       "    .dataframe thead th {\n",
       "        text-align: right;\n",
       "    }\n",
       "</style>\n",
       "<table border=\"1\" class=\"dataframe\">\n",
       "  <thead>\n",
       "    <tr style=\"text-align: right;\">\n",
       "      <th></th>\n",
       "      <th>employee_id</th>\n",
       "      <th>no_of_trainings</th>\n",
       "      <th>age</th>\n",
       "      <th>previous_year_rating</th>\n",
       "      <th>length_of_service</th>\n",
       "      <th>KPIs_met &gt;80%</th>\n",
       "      <th>awards_won?</th>\n",
       "      <th>avg_training_score</th>\n",
       "      <th>is_promoted</th>\n",
       "    </tr>\n",
       "  </thead>\n",
       "  <tbody>\n",
       "    <tr>\n",
       "      <th>employee_id</th>\n",
       "      <td>1.000000</td>\n",
       "      <td>-0.005121</td>\n",
       "      <td>0.000437</td>\n",
       "      <td>0.004209</td>\n",
       "      <td>0.001274</td>\n",
       "      <td>-0.002501</td>\n",
       "      <td>0.008420</td>\n",
       "      <td>-0.000586</td>\n",
       "      <td>0.001206</td>\n",
       "    </tr>\n",
       "    <tr>\n",
       "      <th>no_of_trainings</th>\n",
       "      <td>-0.005121</td>\n",
       "      <td>1.000000</td>\n",
       "      <td>-0.081278</td>\n",
       "      <td>-0.061564</td>\n",
       "      <td>-0.057275</td>\n",
       "      <td>-0.045576</td>\n",
       "      <td>-0.007628</td>\n",
       "      <td>0.042517</td>\n",
       "      <td>-0.024896</td>\n",
       "    </tr>\n",
       "    <tr>\n",
       "      <th>age</th>\n",
       "      <td>0.000437</td>\n",
       "      <td>-0.081278</td>\n",
       "      <td>1.000000</td>\n",
       "      <td>0.026810</td>\n",
       "      <td>0.657111</td>\n",
       "      <td>-0.025592</td>\n",
       "      <td>-0.008169</td>\n",
       "      <td>-0.048380</td>\n",
       "      <td>-0.017166</td>\n",
       "    </tr>\n",
       "    <tr>\n",
       "      <th>previous_year_rating</th>\n",
       "      <td>0.004209</td>\n",
       "      <td>-0.061564</td>\n",
       "      <td>0.026810</td>\n",
       "      <td>1.000000</td>\n",
       "      <td>0.023504</td>\n",
       "      <td>0.337367</td>\n",
       "      <td>0.026587</td>\n",
       "      <td>0.071926</td>\n",
       "      <td>0.153230</td>\n",
       "    </tr>\n",
       "    <tr>\n",
       "      <th>length_of_service</th>\n",
       "      <td>0.001274</td>\n",
       "      <td>-0.057275</td>\n",
       "      <td>0.657111</td>\n",
       "      <td>0.023504</td>\n",
       "      <td>1.000000</td>\n",
       "      <td>-0.077693</td>\n",
       "      <td>-0.039927</td>\n",
       "      <td>-0.038122</td>\n",
       "      <td>-0.010670</td>\n",
       "    </tr>\n",
       "    <tr>\n",
       "      <th>KPIs_met &gt;80%</th>\n",
       "      <td>-0.002501</td>\n",
       "      <td>-0.045576</td>\n",
       "      <td>-0.025592</td>\n",
       "      <td>0.337367</td>\n",
       "      <td>-0.077693</td>\n",
       "      <td>1.000000</td>\n",
       "      <td>0.097000</td>\n",
       "      <td>0.078391</td>\n",
       "      <td>0.221582</td>\n",
       "    </tr>\n",
       "    <tr>\n",
       "      <th>awards_won?</th>\n",
       "      <td>0.008420</td>\n",
       "      <td>-0.007628</td>\n",
       "      <td>-0.008169</td>\n",
       "      <td>0.026587</td>\n",
       "      <td>-0.039927</td>\n",
       "      <td>0.097000</td>\n",
       "      <td>1.000000</td>\n",
       "      <td>0.072138</td>\n",
       "      <td>0.195871</td>\n",
       "    </tr>\n",
       "    <tr>\n",
       "      <th>avg_training_score</th>\n",
       "      <td>-0.000586</td>\n",
       "      <td>0.042517</td>\n",
       "      <td>-0.048380</td>\n",
       "      <td>0.071926</td>\n",
       "      <td>-0.038122</td>\n",
       "      <td>0.078391</td>\n",
       "      <td>0.072138</td>\n",
       "      <td>1.000000</td>\n",
       "      <td>0.181147</td>\n",
       "    </tr>\n",
       "    <tr>\n",
       "      <th>is_promoted</th>\n",
       "      <td>0.001206</td>\n",
       "      <td>-0.024896</td>\n",
       "      <td>-0.017166</td>\n",
       "      <td>0.153230</td>\n",
       "      <td>-0.010670</td>\n",
       "      <td>0.221582</td>\n",
       "      <td>0.195871</td>\n",
       "      <td>0.181147</td>\n",
       "      <td>1.000000</td>\n",
       "    </tr>\n",
       "  </tbody>\n",
       "</table>\n",
       "</div>"
      ],
      "text/plain": [
       "                      employee_id  no_of_trainings       age  \\\n",
       "employee_id              1.000000        -0.005121  0.000437   \n",
       "no_of_trainings         -0.005121         1.000000 -0.081278   \n",
       "age                      0.000437        -0.081278  1.000000   \n",
       "previous_year_rating     0.004209        -0.061564  0.026810   \n",
       "length_of_service        0.001274        -0.057275  0.657111   \n",
       "KPIs_met >80%           -0.002501        -0.045576 -0.025592   \n",
       "awards_won?              0.008420        -0.007628 -0.008169   \n",
       "avg_training_score      -0.000586         0.042517 -0.048380   \n",
       "is_promoted              0.001206        -0.024896 -0.017166   \n",
       "\n",
       "                      previous_year_rating  length_of_service  KPIs_met >80%  \\\n",
       "employee_id                       0.004209           0.001274      -0.002501   \n",
       "no_of_trainings                  -0.061564          -0.057275      -0.045576   \n",
       "age                               0.026810           0.657111      -0.025592   \n",
       "previous_year_rating              1.000000           0.023504       0.337367   \n",
       "length_of_service                 0.023504           1.000000      -0.077693   \n",
       "KPIs_met >80%                     0.337367          -0.077693       1.000000   \n",
       "awards_won?                       0.026587          -0.039927       0.097000   \n",
       "avg_training_score                0.071926          -0.038122       0.078391   \n",
       "is_promoted                       0.153230          -0.010670       0.221582   \n",
       "\n",
       "                      awards_won?  avg_training_score  is_promoted  \n",
       "employee_id              0.008420           -0.000586     0.001206  \n",
       "no_of_trainings         -0.007628            0.042517    -0.024896  \n",
       "age                     -0.008169           -0.048380    -0.017166  \n",
       "previous_year_rating     0.026587            0.071926     0.153230  \n",
       "length_of_service       -0.039927           -0.038122    -0.010670  \n",
       "KPIs_met >80%            0.097000            0.078391     0.221582  \n",
       "awards_won?              1.000000            0.072138     0.195871  \n",
       "avg_training_score       0.072138            1.000000     0.181147  \n",
       "is_promoted              0.195871            0.181147     1.000000  "
      ]
     },
     "execution_count": 40,
     "metadata": {},
     "output_type": "execute_result"
    }
   ],
   "source": [
    "train_df.corr()"
   ]
  },
  {
   "cell_type": "code",
   "execution_count": 41,
   "metadata": {},
   "outputs": [
    {
     "data": {
      "text/html": [
       "<div>\n",
       "<style scoped>\n",
       "    .dataframe tbody tr th:only-of-type {\n",
       "        vertical-align: middle;\n",
       "    }\n",
       "\n",
       "    .dataframe tbody tr th {\n",
       "        vertical-align: top;\n",
       "    }\n",
       "\n",
       "    .dataframe thead th {\n",
       "        text-align: right;\n",
       "    }\n",
       "</style>\n",
       "<table border=\"1\" class=\"dataframe\">\n",
       "  <thead>\n",
       "    <tr style=\"text-align: right;\">\n",
       "      <th></th>\n",
       "      <th>KPIs_met &gt;80%</th>\n",
       "      <th>awards_won?</th>\n",
       "      <th>avg_training_score</th>\n",
       "      <th>previous_year_rating</th>\n",
       "      <th>is_promoted</th>\n",
       "    </tr>\n",
       "  </thead>\n",
       "  <tbody>\n",
       "    <tr>\n",
       "      <th>KPIs_met &gt;80%</th>\n",
       "      <td>1.000000</td>\n",
       "      <td>0.097000</td>\n",
       "      <td>0.078391</td>\n",
       "      <td>0.337367</td>\n",
       "      <td>0.221582</td>\n",
       "    </tr>\n",
       "    <tr>\n",
       "      <th>awards_won?</th>\n",
       "      <td>0.097000</td>\n",
       "      <td>1.000000</td>\n",
       "      <td>0.072138</td>\n",
       "      <td>0.026587</td>\n",
       "      <td>0.195871</td>\n",
       "    </tr>\n",
       "    <tr>\n",
       "      <th>avg_training_score</th>\n",
       "      <td>0.078391</td>\n",
       "      <td>0.072138</td>\n",
       "      <td>1.000000</td>\n",
       "      <td>0.071926</td>\n",
       "      <td>0.181147</td>\n",
       "    </tr>\n",
       "    <tr>\n",
       "      <th>previous_year_rating</th>\n",
       "      <td>0.337367</td>\n",
       "      <td>0.026587</td>\n",
       "      <td>0.071926</td>\n",
       "      <td>1.000000</td>\n",
       "      <td>0.153230</td>\n",
       "    </tr>\n",
       "    <tr>\n",
       "      <th>is_promoted</th>\n",
       "      <td>0.221582</td>\n",
       "      <td>0.195871</td>\n",
       "      <td>0.181147</td>\n",
       "      <td>0.153230</td>\n",
       "      <td>1.000000</td>\n",
       "    </tr>\n",
       "  </tbody>\n",
       "</table>\n",
       "</div>"
      ],
      "text/plain": [
       "                      KPIs_met >80%  awards_won?  avg_training_score  \\\n",
       "KPIs_met >80%              1.000000     0.097000            0.078391   \n",
       "awards_won?                0.097000     1.000000            0.072138   \n",
       "avg_training_score         0.078391     0.072138            1.000000   \n",
       "previous_year_rating       0.337367     0.026587            0.071926   \n",
       "is_promoted                0.221582     0.195871            0.181147   \n",
       "\n",
       "                      previous_year_rating  is_promoted  \n",
       "KPIs_met >80%                     0.337367     0.221582  \n",
       "awards_won?                       0.026587     0.195871  \n",
       "avg_training_score                0.071926     0.181147  \n",
       "previous_year_rating              1.000000     0.153230  \n",
       "is_promoted                       0.153230     1.000000  "
      ]
     },
     "execution_count": 41,
     "metadata": {},
     "output_type": "execute_result"
    }
   ],
   "source": [
    "train_df[['KPIs_met >80%','awards_won?','avg_training_score','previous_year_rating','is_promoted']].corr()"
   ]
  },
  {
   "cell_type": "code",
   "execution_count": 42,
   "metadata": {},
   "outputs": [
    {
     "data": {
      "text/plain": [
       "Sales & Marketing    16840\n",
       "Operations           11348\n",
       "Procurement           7138\n",
       "Technology            7138\n",
       "Analytics             5352\n",
       "Finance               2536\n",
       "HR                    2418\n",
       "Legal                 1039\n",
       "R&D                    999\n",
       "Name: department, dtype: int64"
      ]
     },
     "execution_count": 42,
     "metadata": {},
     "output_type": "execute_result"
    }
   ],
   "source": [
    "train_df['department'].value_counts()"
   ]
  },
  {
   "cell_type": "code",
   "execution_count": 43,
   "metadata": {},
   "outputs": [
    {
     "data": {
      "text/plain": [
       "<AxesSubplot:>"
      ]
     },
     "execution_count": 43,
     "metadata": {},
     "output_type": "execute_result"
    },
    {
     "data": {
      "image/png": "[encoded data removed]",
      "text/plain": [
       "<Figure size 432x288 with 1 Axes>"
      ]
     },
     "metadata": {},
     "output_type": "display_data"
    }
   ],
   "source": [
    "train_df['recruitment_channel'].value_counts().plot(kind='bar')"
   ]
  },
  {
   "cell_type": "code",
   "execution_count": 44,
   "metadata": {},
   "outputs": [
    {
     "data": {
      "text/plain": [
       "Sales & Marketing    16840\n",
       "Operations           11348\n",
       "Procurement           7138\n",
       "Technology            7138\n",
       "Analytics             5352\n",
       "Finance               2536\n",
       "HR                    2418\n",
       "Legal                 1039\n",
       "R&D                    999\n",
       "Name: department, dtype: int64"
      ]
     },
     "execution_count": 44,
     "metadata": {},
     "output_type": "execute_result"
    }
   ],
   "source": [
    "train_df['department'].value_counts()"
   ]
  },
  {
   "cell_type": "code",
   "execution_count": 45,
   "metadata": {
    "scrolled": false
   },
   "outputs": [
    {
     "data": {
      "text/html": [
       "<div>\n",
       "<style scoped>\n",
       "    .dataframe tbody tr th:only-of-type {\n",
       "        vertical-align: middle;\n",
       "    }\n",
       "\n",
       "    .dataframe tbody tr th {\n",
       "        vertical-align: top;\n",
       "    }\n",
       "\n",
       "    .dataframe thead th {\n",
       "        text-align: right;\n",
       "    }\n",
       "</style>\n",
       "<table border=\"1\" class=\"dataframe\">\n",
       "  <thead>\n",
       "    <tr style=\"text-align: right;\">\n",
       "      <th></th>\n",
       "      <th>employee_id</th>\n",
       "      <th>department</th>\n",
       "      <th>region</th>\n",
       "      <th>education</th>\n",
       "      <th>gender</th>\n",
       "      <th>recruitment_channel</th>\n",
       "      <th>no_of_trainings</th>\n",
       "      <th>age</th>\n",
       "      <th>previous_year_rating</th>\n",
       "      <th>length_of_service</th>\n",
       "      <th>KPIs_met &gt;80%</th>\n",
       "      <th>awards_won?</th>\n",
       "      <th>avg_training_score</th>\n",
       "      <th>is_promoted</th>\n",
       "    </tr>\n",
       "  </thead>\n",
       "  <tbody>\n",
       "    <tr>\n",
       "      <th>344</th>\n",
       "      <td>70197</td>\n",
       "      <td>R&amp;D</td>\n",
       "      <td>region_22</td>\n",
       "      <td>Master's &amp; above</td>\n",
       "      <td>m</td>\n",
       "      <td>other</td>\n",
       "      <td>1</td>\n",
       "      <td>30</td>\n",
       "      <td>4.0</td>\n",
       "      <td>2</td>\n",
       "      <td>1</td>\n",
       "      <td>0</td>\n",
       "      <td>96</td>\n",
       "      <td>1</td>\n",
       "    </tr>\n",
       "    <tr>\n",
       "      <th>536</th>\n",
       "      <td>6731</td>\n",
       "      <td>R&amp;D</td>\n",
       "      <td>region_29</td>\n",
       "      <td>Bachelor's</td>\n",
       "      <td>m</td>\n",
       "      <td>sourcing</td>\n",
       "      <td>1</td>\n",
       "      <td>30</td>\n",
       "      <td>5.0</td>\n",
       "      <td>1</td>\n",
       "      <td>0</td>\n",
       "      <td>0</td>\n",
       "      <td>96</td>\n",
       "      <td>1</td>\n",
       "    </tr>\n",
       "    <tr>\n",
       "      <th>560</th>\n",
       "      <td>21230</td>\n",
       "      <td>R&amp;D</td>\n",
       "      <td>region_7</td>\n",
       "      <td>Bachelor's</td>\n",
       "      <td>m</td>\n",
       "      <td>sourcing</td>\n",
       "      <td>2</td>\n",
       "      <td>32</td>\n",
       "      <td>5.0</td>\n",
       "      <td>3</td>\n",
       "      <td>1</td>\n",
       "      <td>0</td>\n",
       "      <td>83</td>\n",
       "      <td>1</td>\n",
       "    </tr>\n",
       "    <tr>\n",
       "      <th>1128</th>\n",
       "      <td>73853</td>\n",
       "      <td>R&amp;D</td>\n",
       "      <td>region_4</td>\n",
       "      <td>Master's &amp; above</td>\n",
       "      <td>m</td>\n",
       "      <td>other</td>\n",
       "      <td>1</td>\n",
       "      <td>42</td>\n",
       "      <td>4.0</td>\n",
       "      <td>8</td>\n",
       "      <td>1</td>\n",
       "      <td>0</td>\n",
       "      <td>85</td>\n",
       "      <td>1</td>\n",
       "    </tr>\n",
       "    <tr>\n",
       "      <th>1354</th>\n",
       "      <td>34392</td>\n",
       "      <td>R&amp;D</td>\n",
       "      <td>region_26</td>\n",
       "      <td>Bachelor's</td>\n",
       "      <td>m</td>\n",
       "      <td>sourcing</td>\n",
       "      <td>2</td>\n",
       "      <td>40</td>\n",
       "      <td>3.0</td>\n",
       "      <td>2</td>\n",
       "      <td>1</td>\n",
       "      <td>1</td>\n",
       "      <td>84</td>\n",
       "      <td>1</td>\n",
       "    </tr>\n",
       "    <tr>\n",
       "      <th>...</th>\n",
       "      <td>...</td>\n",
       "      <td>...</td>\n",
       "      <td>...</td>\n",
       "      <td>...</td>\n",
       "      <td>...</td>\n",
       "      <td>...</td>\n",
       "      <td>...</td>\n",
       "      <td>...</td>\n",
       "      <td>...</td>\n",
       "      <td>...</td>\n",
       "      <td>...</td>\n",
       "      <td>...</td>\n",
       "      <td>...</td>\n",
       "      <td>...</td>\n",
       "    </tr>\n",
       "    <tr>\n",
       "      <th>52691</th>\n",
       "      <td>41480</td>\n",
       "      <td>R&amp;D</td>\n",
       "      <td>region_22</td>\n",
       "      <td>Bachelor's</td>\n",
       "      <td>m</td>\n",
       "      <td>other</td>\n",
       "      <td>2</td>\n",
       "      <td>26</td>\n",
       "      <td>4.0</td>\n",
       "      <td>2</td>\n",
       "      <td>1</td>\n",
       "      <td>0</td>\n",
       "      <td>87</td>\n",
       "      <td>1</td>\n",
       "    </tr>\n",
       "    <tr>\n",
       "      <th>53721</th>\n",
       "      <td>35646</td>\n",
       "      <td>R&amp;D</td>\n",
       "      <td>region_4</td>\n",
       "      <td>Master's &amp; above</td>\n",
       "      <td>m</td>\n",
       "      <td>sourcing</td>\n",
       "      <td>1</td>\n",
       "      <td>34</td>\n",
       "      <td>3.0</td>\n",
       "      <td>4</td>\n",
       "      <td>0</td>\n",
       "      <td>1</td>\n",
       "      <td>85</td>\n",
       "      <td>1</td>\n",
       "    </tr>\n",
       "    <tr>\n",
       "      <th>53731</th>\n",
       "      <td>75316</td>\n",
       "      <td>R&amp;D</td>\n",
       "      <td>region_25</td>\n",
       "      <td>Bachelor's</td>\n",
       "      <td>m</td>\n",
       "      <td>sourcing</td>\n",
       "      <td>1</td>\n",
       "      <td>31</td>\n",
       "      <td>5.0</td>\n",
       "      <td>5</td>\n",
       "      <td>1</td>\n",
       "      <td>0</td>\n",
       "      <td>82</td>\n",
       "      <td>1</td>\n",
       "    </tr>\n",
       "    <tr>\n",
       "      <th>54327</th>\n",
       "      <td>23777</td>\n",
       "      <td>R&amp;D</td>\n",
       "      <td>region_22</td>\n",
       "      <td>Bachelor's</td>\n",
       "      <td>m</td>\n",
       "      <td>other</td>\n",
       "      <td>2</td>\n",
       "      <td>30</td>\n",
       "      <td>4.0</td>\n",
       "      <td>4</td>\n",
       "      <td>1</td>\n",
       "      <td>0</td>\n",
       "      <td>84</td>\n",
       "      <td>1</td>\n",
       "    </tr>\n",
       "    <tr>\n",
       "      <th>54535</th>\n",
       "      <td>74499</td>\n",
       "      <td>R&amp;D</td>\n",
       "      <td>region_22</td>\n",
       "      <td>Master's &amp; above</td>\n",
       "      <td>m</td>\n",
       "      <td>other</td>\n",
       "      <td>2</td>\n",
       "      <td>28</td>\n",
       "      <td>3.0</td>\n",
       "      <td>1</td>\n",
       "      <td>1</td>\n",
       "      <td>0</td>\n",
       "      <td>83</td>\n",
       "      <td>1</td>\n",
       "    </tr>\n",
       "  </tbody>\n",
       "</table>\n",
       "<p>69 rows × 14 columns</p>\n",
       "</div>"
      ],
      "text/plain": [
       "       employee_id department     region         education gender  \\\n",
       "344          70197        R&D  region_22  Master's & above      m   \n",
       "536           6731        R&D  region_29        Bachelor's      m   \n",
       "560          21230        R&D   region_7        Bachelor's      m   \n",
       "1128         73853        R&D   region_4  Master's & above      m   \n",
       "1354         34392        R&D  region_26        Bachelor's      m   \n",
       "...            ...        ...        ...               ...    ...   \n",
       "52691        41480        R&D  region_22        Bachelor's      m   \n",
       "53721        35646        R&D   region_4  Master's & above      m   \n",
       "53731        75316        R&D  region_25        Bachelor's      m   \n",
       "54327        23777        R&D  region_22        Bachelor's      m   \n",
       "54535        74499        R&D  region_22  Master's & above      m   \n",
       "\n",
       "      recruitment_channel  no_of_trainings  age  previous_year_rating  \\\n",
       "344                 other                1   30                   4.0   \n",
       "536              sourcing                1   30                   5.0   \n",
       "560              sourcing                2   32                   5.0   \n",
       "1128                other                1   42                   4.0   \n",
       "1354             sourcing                2   40                   3.0   \n",
       "...                   ...              ...  ...                   ...   \n",
       "52691               other                2   26                   4.0   \n",
       "53721            sourcing                1   34                   3.0   \n",
       "53731            sourcing                1   31                   5.0   \n",
       "54327               other                2   30                   4.0   \n",
       "54535               other                2   28                   3.0   \n",
       "\n",
       "       length_of_service  KPIs_met >80%  awards_won?  avg_training_score  \\\n",
       "344                    2              1            0                  96   \n",
       "536                    1              0            0                  96   \n",
       "560                    3              1            0                  83   \n",
       "1128                   8              1            0                  85   \n",
       "1354                   2              1            1                  84   \n",
       "...                  ...            ...          ...                 ...   \n",
       "52691                  2              1            0                  87   \n",
       "53721                  4              0            1                  85   \n",
       "53731                  5              1            0                  82   \n",
       "54327                  4              1            0                  84   \n",
       "54535                  1              1            0                  83   \n",
       "\n",
       "       is_promoted  \n",
       "344              1  \n",
       "536              1  \n",
       "560              1  \n",
       "1128             1  \n",
       "1354             1  \n",
       "...            ...  \n",
       "52691            1  \n",
       "53721            1  \n",
       "53731            1  \n",
       "54327            1  \n",
       "54535            1  \n",
       "\n",
       "[69 rows x 14 columns]"
      ]
     },
     "execution_count": 45,
     "metadata": {},
     "output_type": "execute_result"
    }
   ],
   "source": [
    "options = [1]   \n",
    "# selecting rows based on condition \n",
    "train_df.loc[(train_df['department'] == 'R&D') & \n",
    "              train_df['is_promoted'].isin(options)]"
   ]
  },
  {
   "cell_type": "markdown",
   "metadata": {},
   "source": [
    "# Feature Engineering"
   ]
  },
  {
   "cell_type": "code",
   "execution_count": 46,
   "metadata": {},
   "outputs": [
    {
     "data": {
      "text/plain": [
       "Index(['employee_id', 'department', 'region', 'education', 'gender',\n",
       "       'recruitment_channel', 'no_of_trainings', 'age', 'previous_year_rating',\n",
       "       'length_of_service', 'KPIs_met >80%', 'awards_won?',\n",
       "       'avg_training_score', 'is_promoted'],\n",
       "      dtype='object')"
      ]
     },
     "execution_count": 46,
     "metadata": {},
     "output_type": "execute_result"
    }
   ],
   "source": [
    "train_df.columns"
   ]
  },
  {
   "cell_type": "code",
   "execution_count": 47,
   "metadata": {},
   "outputs": [
    {
     "data": {
      "image/png": "[encoded data removed]",
      "text/plain": [
       "<Figure size 648x432 with 6 Axes>"
      ]
     },
     "metadata": {},
     "output_type": "display_data"
    }
   ],
   "source": [
    "g = sns.FacetGrid(train_df, row='KPIs_met >80%',col='recruitment_channel')\n",
    "g = g.map(plt.hist,'previous_year_rating')"
   ]
  },
  {
   "cell_type": "markdown",
   "metadata": {},
   "source": [
    "Feature Importance"
   ]
  },
  {
   "cell_type": "code",
   "execution_count": 48,
   "metadata": {},
   "outputs": [
    {
     "data": {
      "image/png": "[encoded data removed]",
      "text/plain": [
       "<Figure size 1440x1440 with 2 Axes>"
      ]
     },
     "metadata": {},
     "output_type": "display_data"
    }
   ],
   "source": [
    "#get correlations of each features in dataset\n",
    "corrmat = train_df.corr()\n",
    "top_corr_features = corrmat.index\n",
    "plt.figure(figsize=(20,20))\n",
    "#plot heat map\n",
    "g=sns.heatmap(train_df[top_corr_features].corr(),annot=True,cmap=\"YlGnBu\")"
   ]
  },
  {
   "cell_type": "code",
   "execution_count": 49,
   "metadata": {},
   "outputs": [
    {
     "data": {
      "text/html": [
       "<div>\n",
       "<style scoped>\n",
       "    .dataframe tbody tr th:only-of-type {\n",
       "        vertical-align: middle;\n",
       "    }\n",
       "\n",
       "    .dataframe tbody tr th {\n",
       "        vertical-align: top;\n",
       "    }\n",
       "\n",
       "    .dataframe thead th {\n",
       "        text-align: right;\n",
       "    }\n",
       "</style>\n",
       "<table border=\"1\" class=\"dataframe\">\n",
       "  <thead>\n",
       "    <tr style=\"text-align: right;\">\n",
       "      <th></th>\n",
       "      <th>employee_id</th>\n",
       "      <th>department</th>\n",
       "      <th>region</th>\n",
       "      <th>education</th>\n",
       "      <th>gender</th>\n",
       "      <th>recruitment_channel</th>\n",
       "      <th>no_of_trainings</th>\n",
       "      <th>age</th>\n",
       "      <th>previous_year_rating</th>\n",
       "      <th>length_of_service</th>\n",
       "      <th>KPIs_met &gt;80%</th>\n",
       "      <th>awards_won?</th>\n",
       "      <th>avg_training_score</th>\n",
       "      <th>is_promoted</th>\n",
       "    </tr>\n",
       "  </thead>\n",
       "  <tbody>\n",
       "    <tr>\n",
       "      <th>0</th>\n",
       "      <td>65438</td>\n",
       "      <td>Sales &amp; Marketing</td>\n",
       "      <td>region_7</td>\n",
       "      <td>Master's &amp; above</td>\n",
       "      <td>f</td>\n",
       "      <td>sourcing</td>\n",
       "      <td>1</td>\n",
       "      <td>35</td>\n",
       "      <td>5.0</td>\n",
       "      <td>8</td>\n",
       "      <td>1</td>\n",
       "      <td>0</td>\n",
       "      <td>49</td>\n",
       "      <td>0</td>\n",
       "    </tr>\n",
       "    <tr>\n",
       "      <th>1</th>\n",
       "      <td>65141</td>\n",
       "      <td>Operations</td>\n",
       "      <td>region_22</td>\n",
       "      <td>Bachelor's</td>\n",
       "      <td>m</td>\n",
       "      <td>other</td>\n",
       "      <td>1</td>\n",
       "      <td>30</td>\n",
       "      <td>5.0</td>\n",
       "      <td>4</td>\n",
       "      <td>0</td>\n",
       "      <td>0</td>\n",
       "      <td>60</td>\n",
       "      <td>0</td>\n",
       "    </tr>\n",
       "    <tr>\n",
       "      <th>2</th>\n",
       "      <td>7513</td>\n",
       "      <td>Sales &amp; Marketing</td>\n",
       "      <td>region_19</td>\n",
       "      <td>Bachelor's</td>\n",
       "      <td>m</td>\n",
       "      <td>sourcing</td>\n",
       "      <td>1</td>\n",
       "      <td>34</td>\n",
       "      <td>3.0</td>\n",
       "      <td>7</td>\n",
       "      <td>0</td>\n",
       "      <td>0</td>\n",
       "      <td>50</td>\n",
       "      <td>0</td>\n",
       "    </tr>\n",
       "    <tr>\n",
       "      <th>3</th>\n",
       "      <td>2542</td>\n",
       "      <td>Sales &amp; Marketing</td>\n",
       "      <td>region_23</td>\n",
       "      <td>Bachelor's</td>\n",
       "      <td>m</td>\n",
       "      <td>other</td>\n",
       "      <td>2</td>\n",
       "      <td>39</td>\n",
       "      <td>1.0</td>\n",
       "      <td>10</td>\n",
       "      <td>0</td>\n",
       "      <td>0</td>\n",
       "      <td>50</td>\n",
       "      <td>0</td>\n",
       "    </tr>\n",
       "    <tr>\n",
       "      <th>4</th>\n",
       "      <td>48945</td>\n",
       "      <td>Technology</td>\n",
       "      <td>region_26</td>\n",
       "      <td>Bachelor's</td>\n",
       "      <td>m</td>\n",
       "      <td>other</td>\n",
       "      <td>1</td>\n",
       "      <td>45</td>\n",
       "      <td>3.0</td>\n",
       "      <td>2</td>\n",
       "      <td>0</td>\n",
       "      <td>0</td>\n",
       "      <td>73</td>\n",
       "      <td>0</td>\n",
       "    </tr>\n",
       "    <tr>\n",
       "      <th>...</th>\n",
       "      <td>...</td>\n",
       "      <td>...</td>\n",
       "      <td>...</td>\n",
       "      <td>...</td>\n",
       "      <td>...</td>\n",
       "      <td>...</td>\n",
       "      <td>...</td>\n",
       "      <td>...</td>\n",
       "      <td>...</td>\n",
       "      <td>...</td>\n",
       "      <td>...</td>\n",
       "      <td>...</td>\n",
       "      <td>...</td>\n",
       "      <td>...</td>\n",
       "    </tr>\n",
       "    <tr>\n",
       "      <th>54803</th>\n",
       "      <td>3030</td>\n",
       "      <td>Technology</td>\n",
       "      <td>region_14</td>\n",
       "      <td>Bachelor's</td>\n",
       "      <td>m</td>\n",
       "      <td>sourcing</td>\n",
       "      <td>1</td>\n",
       "      <td>48</td>\n",
       "      <td>3.0</td>\n",
       "      <td>17</td>\n",
       "      <td>0</td>\n",
       "      <td>0</td>\n",
       "      <td>78</td>\n",
       "      <td>0</td>\n",
       "    </tr>\n",
       "    <tr>\n",
       "      <th>54804</th>\n",
       "      <td>74592</td>\n",
       "      <td>Operations</td>\n",
       "      <td>region_27</td>\n",
       "      <td>Master's &amp; above</td>\n",
       "      <td>f</td>\n",
       "      <td>other</td>\n",
       "      <td>1</td>\n",
       "      <td>37</td>\n",
       "      <td>2.0</td>\n",
       "      <td>6</td>\n",
       "      <td>0</td>\n",
       "      <td>0</td>\n",
       "      <td>56</td>\n",
       "      <td>0</td>\n",
       "    </tr>\n",
       "    <tr>\n",
       "      <th>54805</th>\n",
       "      <td>13918</td>\n",
       "      <td>Analytics</td>\n",
       "      <td>region_1</td>\n",
       "      <td>Bachelor's</td>\n",
       "      <td>m</td>\n",
       "      <td>other</td>\n",
       "      <td>1</td>\n",
       "      <td>27</td>\n",
       "      <td>5.0</td>\n",
       "      <td>3</td>\n",
       "      <td>1</td>\n",
       "      <td>0</td>\n",
       "      <td>79</td>\n",
       "      <td>0</td>\n",
       "    </tr>\n",
       "    <tr>\n",
       "      <th>54806</th>\n",
       "      <td>13614</td>\n",
       "      <td>Sales &amp; Marketing</td>\n",
       "      <td>region_9</td>\n",
       "      <td>Bachelor's</td>\n",
       "      <td>m</td>\n",
       "      <td>sourcing</td>\n",
       "      <td>1</td>\n",
       "      <td>29</td>\n",
       "      <td>1.0</td>\n",
       "      <td>2</td>\n",
       "      <td>0</td>\n",
       "      <td>0</td>\n",
       "      <td>45</td>\n",
       "      <td>0</td>\n",
       "    </tr>\n",
       "    <tr>\n",
       "      <th>54807</th>\n",
       "      <td>51526</td>\n",
       "      <td>HR</td>\n",
       "      <td>region_22</td>\n",
       "      <td>Bachelor's</td>\n",
       "      <td>m</td>\n",
       "      <td>other</td>\n",
       "      <td>1</td>\n",
       "      <td>27</td>\n",
       "      <td>1.0</td>\n",
       "      <td>5</td>\n",
       "      <td>0</td>\n",
       "      <td>0</td>\n",
       "      <td>49</td>\n",
       "      <td>0</td>\n",
       "    </tr>\n",
       "  </tbody>\n",
       "</table>\n",
       "<p>54808 rows × 14 columns</p>\n",
       "</div>"
      ],
      "text/plain": [
       "       employee_id         department     region         education gender  \\\n",
       "0            65438  Sales & Marketing   region_7  Master's & above      f   \n",
       "1            65141         Operations  region_22        Bachelor's      m   \n",
       "2             7513  Sales & Marketing  region_19        Bachelor's      m   \n",
       "3             2542  Sales & Marketing  region_23        Bachelor's      m   \n",
       "4            48945         Technology  region_26        Bachelor's      m   \n",
       "...            ...                ...        ...               ...    ...   \n",
       "54803         3030         Technology  region_14        Bachelor's      m   \n",
       "54804        74592         Operations  region_27  Master's & above      f   \n",
       "54805        13918          Analytics   region_1        Bachelor's      m   \n",
       "54806        13614  Sales & Marketing   region_9        Bachelor's      m   \n",
       "54807        51526                 HR  region_22        Bachelor's      m   \n",
       "\n",
       "      recruitment_channel  no_of_trainings  age  previous_year_rating  \\\n",
       "0                sourcing                1   35                   5.0   \n",
       "1                   other                1   30                   5.0   \n",
       "2                sourcing                1   34                   3.0   \n",
       "3                   other                2   39                   1.0   \n",
       "4                   other                1   45                   3.0   \n",
       "...                   ...              ...  ...                   ...   \n",
       "54803            sourcing                1   48                   3.0   \n",
       "54804               other                1   37                   2.0   \n",
       "54805               other                1   27                   5.0   \n",
       "54806            sourcing                1   29                   1.0   \n",
       "54807               other                1   27                   1.0   \n",
       "\n",
       "       length_of_service  KPIs_met >80%  awards_won?  avg_training_score  \\\n",
       "0                      8              1            0                  49   \n",
       "1                      4              0            0                  60   \n",
       "2                      7              0            0                  50   \n",
       "3                     10              0            0                  50   \n",
       "4                      2              0            0                  73   \n",
       "...                  ...            ...          ...                 ...   \n",
       "54803                 17              0            0                  78   \n",
       "54804                  6              0            0                  56   \n",
       "54805                  3              1            0                  79   \n",
       "54806                  2              0            0                  45   \n",
       "54807                  5              0            0                  49   \n",
       "\n",
       "       is_promoted  \n",
       "0                0  \n",
       "1                0  \n",
       "2                0  \n",
       "3                0  \n",
       "4                0  \n",
       "...            ...  \n",
       "54803            0  \n",
       "54804            0  \n",
       "54805            0  \n",
       "54806            0  \n",
       "54807            0  \n",
       "\n",
       "[54808 rows x 14 columns]"
      ]
     },
     "execution_count": 49,
     "metadata": {},
     "output_type": "execute_result"
    }
   ],
   "source": [
    "train_df"
   ]
  },
  {
   "cell_type": "code",
   "execution_count": 50,
   "metadata": {},
   "outputs": [
    {
     "data": {
      "text/plain": [
       "<seaborn.axisgrid.FacetGrid at 0x7f91a7abbd90>"
      ]
     },
     "execution_count": 50,
     "metadata": {},
     "output_type": "execute_result"
    },
    {
     "data": {
      "image/png": "[encoded data removed]",
      "text/plain": [
       "<Figure size 722.675x216 with 3 Axes>"
      ]
     },
     "metadata": {},
     "output_type": "display_data"
    }
   ],
   "source": [
    "g = sns.FacetGrid(train_df, col=\"education\",hue='is_promoted')\n",
    "g.map(sns.scatterplot,'KPIs_met >80%','avg_training_score',alpha=.4)\n",
    "g.add_legend()"
   ]
  },
  {
   "cell_type": "code",
   "execution_count": 51,
   "metadata": {},
   "outputs": [
    {
     "data": {
      "text/plain": [
       "<AxesSubplot:>"
      ]
     },
     "execution_count": 51,
     "metadata": {},
     "output_type": "execute_result"
    },
    {
     "data": {
      "image/png": "[encoded data removed]",
      "text/plain": [
       "<Figure size 432x288 with 1 Axes>"
      ]
     },
     "metadata": {},
     "output_type": "display_data"
    }
   ],
   "source": [
    "train_df['education'].value_counts().plot(kind='bar')"
   ]
  },
  {
   "cell_type": "code",
   "execution_count": 52,
   "metadata": {
    "scrolled": true
   },
   "outputs": [
    {
     "data": {
      "text/html": [
       "<div>\n",
       "<style scoped>\n",
       "    .dataframe tbody tr th:only-of-type {\n",
       "        vertical-align: middle;\n",
       "    }\n",
       "\n",
       "    .dataframe tbody tr th {\n",
       "        vertical-align: top;\n",
       "    }\n",
       "\n",
       "    .dataframe thead th {\n",
       "        text-align: right;\n",
       "    }\n",
       "</style>\n",
       "<table border=\"1\" class=\"dataframe\">\n",
       "  <thead>\n",
       "    <tr style=\"text-align: right;\">\n",
       "      <th></th>\n",
       "      <th>employee_id</th>\n",
       "      <th>department</th>\n",
       "      <th>region</th>\n",
       "      <th>education</th>\n",
       "      <th>gender</th>\n",
       "      <th>recruitment_channel</th>\n",
       "      <th>no_of_trainings</th>\n",
       "      <th>age</th>\n",
       "      <th>previous_year_rating</th>\n",
       "      <th>length_of_service</th>\n",
       "      <th>KPIs_met &gt;80%</th>\n",
       "      <th>awards_won?</th>\n",
       "      <th>avg_training_score</th>\n",
       "      <th>is_promoted</th>\n",
       "    </tr>\n",
       "  </thead>\n",
       "  <tbody>\n",
       "  </tbody>\n",
       "</table>\n",
       "</div>"
      ],
      "text/plain": [
       "Empty DataFrame\n",
       "Columns: [employee_id, department, region, education, gender, recruitment_channel, no_of_trainings, age, previous_year_rating, length_of_service, KPIs_met >80%, awards_won?, avg_training_score, is_promoted]\n",
       "Index: []"
      ]
     },
     "execution_count": 52,
     "metadata": {},
     "output_type": "execute_result"
    }
   ],
   "source": [
    "options = [0]   \n",
    "# selecting rows based on condition \n",
    "train_df.loc[(train_df['department'] == 'legal') & \n",
    "              train_df['is_promoted'].isin(options)] "
   ]
  },
  {
   "cell_type": "markdown",
   "metadata": {},
   "source": [
    "# Data Encoding"
   ]
  },
  {
   "cell_type": "code",
   "execution_count": 53,
   "metadata": {
    "scrolled": true
   },
   "outputs": [
    {
     "name": "stdout",
     "output_type": "stream",
     "text": [
      "       employee_id\n",
      "2047             1\n",
      "19228            1\n",
      "4887             1\n",
      "6934             1\n",
      "789              1\n",
      "...            ...\n",
      "71176            1\n",
      "44543            1\n",
      "48637            1\n",
      "36347            1\n",
      "4098             1\n",
      "\n",
      "[54808 rows x 1 columns]\n",
      "                   department\n",
      "Sales & Marketing       16840\n",
      "Operations              11348\n",
      "Procurement              7138\n",
      "Technology               7138\n",
      "Analytics                5352\n",
      "Finance                  2536\n",
      "HR                       2418\n",
      "Legal                    1039\n",
      "R&D                       999\n",
      "           region\n",
      "region_2    12343\n",
      "region_22    6428\n",
      "region_7     4843\n",
      "region_15    2808\n",
      "region_13    2648\n",
      "region_26    2260\n",
      "region_31    1935\n",
      "region_4     1703\n",
      "region_27    1659\n",
      "region_16    1465\n",
      "region_28    1318\n",
      "region_11    1315\n",
      "region_23    1175\n",
      "region_29     994\n",
      "region_32     945\n",
      "region_19     874\n",
      "region_20     850\n",
      "region_14     827\n",
      "region_25     819\n",
      "region_17     796\n",
      "region_5      766\n",
      "region_6      690\n",
      "region_30     657\n",
      "region_8      655\n",
      "region_10     648\n",
      "region_1      610\n",
      "region_24     508\n",
      "region_12     500\n",
      "region_9      420\n",
      "region_21     411\n",
      "region_3      346\n",
      "region_34     292\n",
      "region_33     269\n",
      "region_18      31\n",
      "                  education\n",
      "Bachelor's            39078\n",
      "Master's & above      14925\n",
      "Below Secondary         805\n",
      "   gender\n",
      "m   38496\n",
      "f   16312\n",
      "          recruitment_channel\n",
      "other                   30446\n",
      "sourcing                23220\n",
      "referred                 1142\n",
      "    no_of_trainings\n",
      "1             44378\n",
      "2              7987\n",
      "3              1776\n",
      "4               468\n",
      "5               128\n",
      "6                44\n",
      "7                12\n",
      "10                5\n",
      "9                 5\n",
      "8                 5\n",
      "     age\n",
      "30  3665\n",
      "31  3534\n",
      "32  3534\n",
      "29  3405\n",
      "33  3210\n",
      "28  3147\n",
      "34  3076\n",
      "27  2827\n",
      "35  2711\n",
      "36  2517\n",
      "37  2165\n",
      "26  2060\n",
      "38  1923\n",
      "39  1695\n",
      "40  1663\n",
      "25  1299\n",
      "41  1289\n",
      "42  1149\n",
      "43   992\n",
      "44   847\n",
      "24   845\n",
      "45   760\n",
      "46   697\n",
      "47   557\n",
      "48   557\n",
      "50   521\n",
      "49   441\n",
      "23   428\n",
      "51   389\n",
      "53   364\n",
      "52   351\n",
      "54   313\n",
      "55   294\n",
      "56   264\n",
      "57   238\n",
      "22   231\n",
      "60   217\n",
      "58   213\n",
      "59   209\n",
      "20   113\n",
      "21    98\n",
      "     previous_year_rating\n",
      "3.0                 22742\n",
      "5.0                 11741\n",
      "4.0                  9877\n",
      "1.0                  6223\n",
      "2.0                  4225\n",
      "    length_of_service\n",
      "3                7033\n",
      "4                6836\n",
      "2                6684\n",
      "5                5832\n",
      "7                5551\n",
      "6                4734\n",
      "1                4547\n",
      "8                2883\n",
      "9                2629\n",
      "10               2193\n",
      "11                916\n",
      "12                794\n",
      "13                687\n",
      "15                593\n",
      "14                549\n",
      "16                548\n",
      "17                432\n",
      "18                392\n",
      "19                329\n",
      "20                128\n",
      "21                 78\n",
      "24                 70\n",
      "23                 65\n",
      "22                 61\n",
      "25                 51\n",
      "26                 41\n",
      "27                 36\n",
      "28                 30\n",
      "29                 30\n",
      "31                 20\n",
      "30                 12\n",
      "32                 10\n",
      "33                  9\n",
      "34                  4\n",
      "37                  1\n",
      "   KPIs_met >80%\n",
      "0          35517\n",
      "1          19291\n",
      "   awards_won?\n",
      "0        53538\n",
      "1         1270\n",
      "    avg_training_score\n",
      "50                2716\n",
      "49                2681\n",
      "48                2437\n",
      "51                2347\n",
      "60                2155\n",
      "..                 ...\n",
      "98                  37\n",
      "99                  35\n",
      "41                  26\n",
      "40                   5\n",
      "39                   2\n",
      "\n",
      "[61 rows x 1 columns]\n",
      "   is_promoted\n",
      "0        50140\n",
      "1         4668\n"
     ]
    }
   ],
   "source": [
    "for i in train_df:\n",
    "   print  (pd.DataFrame(train_df['{}'.format(i)].value_counts()))"
   ]
  },
  {
   "cell_type": "code",
   "execution_count": 54,
   "metadata": {},
   "outputs": [],
   "source": [
    "Filter_train=train_df.drop(columns=['employee_id','region','age','gender','recruitment_channel'],axis=1)\n",
    "#Filter_train['gender']=Filter_train['gender'].replace({'f':0,'m':1})\n",
    "#Filter_train['education']=Filter_train['education'].replace({\"Below Secondary\":0,\"Bachelor's\":1,\"Master's & above\":2})\n",
    "\n"
   ]
  },
  {
   "cell_type": "code",
   "execution_count": 55,
   "metadata": {},
   "outputs": [],
   "source": [
    "dummies_dept=pd.get_dummies(Filter_train.department)\n",
    "dummies_edu=pd.get_dummies(Filter_train.education)\n"
   ]
  },
  {
   "cell_type": "code",
   "execution_count": 56,
   "metadata": {},
   "outputs": [
    {
     "data": {
      "text/html": [
       "<div>\n",
       "<style scoped>\n",
       "    .dataframe tbody tr th:only-of-type {\n",
       "        vertical-align: middle;\n",
       "    }\n",
       "\n",
       "    .dataframe tbody tr th {\n",
       "        vertical-align: top;\n",
       "    }\n",
       "\n",
       "    .dataframe thead th {\n",
       "        text-align: right;\n",
       "    }\n",
       "</style>\n",
       "<table border=\"1\" class=\"dataframe\">\n",
       "  <thead>\n",
       "    <tr style=\"text-align: right;\">\n",
       "      <th></th>\n",
       "      <th>department</th>\n",
       "      <th>education</th>\n",
       "      <th>no_of_trainings</th>\n",
       "      <th>previous_year_rating</th>\n",
       "      <th>length_of_service</th>\n",
       "      <th>KPIs_met &gt;80%</th>\n",
       "      <th>awards_won?</th>\n",
       "      <th>avg_training_score</th>\n",
       "      <th>is_promoted</th>\n",
       "      <th>Analytics</th>\n",
       "      <th>...</th>\n",
       "      <th>HR</th>\n",
       "      <th>Legal</th>\n",
       "      <th>Operations</th>\n",
       "      <th>Procurement</th>\n",
       "      <th>R&amp;D</th>\n",
       "      <th>Sales &amp; Marketing</th>\n",
       "      <th>Technology</th>\n",
       "      <th>Bachelor's</th>\n",
       "      <th>Below Secondary</th>\n",
       "      <th>Master's &amp; above</th>\n",
       "    </tr>\n",
       "  </thead>\n",
       "  <tbody>\n",
       "    <tr>\n",
       "      <th>0</th>\n",
       "      <td>Sales &amp; Marketing</td>\n",
       "      <td>Master's &amp; above</td>\n",
       "      <td>1</td>\n",
       "      <td>5.0</td>\n",
       "      <td>8</td>\n",
       "      <td>1</td>\n",
       "      <td>0</td>\n",
       "      <td>49</td>\n",
       "      <td>0</td>\n",
       "      <td>0</td>\n",
       "      <td>...</td>\n",
       "      <td>0</td>\n",
       "      <td>0</td>\n",
       "      <td>0</td>\n",
       "      <td>0</td>\n",
       "      <td>0</td>\n",
       "      <td>1</td>\n",
       "      <td>0</td>\n",
       "      <td>0</td>\n",
       "      <td>0</td>\n",
       "      <td>1</td>\n",
       "    </tr>\n",
       "    <tr>\n",
       "      <th>1</th>\n",
       "      <td>Operations</td>\n",
       "      <td>Bachelor's</td>\n",
       "      <td>1</td>\n",
       "      <td>5.0</td>\n",
       "      <td>4</td>\n",
       "      <td>0</td>\n",
       "      <td>0</td>\n",
       "      <td>60</td>\n",
       "      <td>0</td>\n",
       "      <td>0</td>\n",
       "      <td>...</td>\n",
       "      <td>0</td>\n",
       "      <td>0</td>\n",
       "      <td>1</td>\n",
       "      <td>0</td>\n",
       "      <td>0</td>\n",
       "      <td>0</td>\n",
       "      <td>0</td>\n",
       "      <td>1</td>\n",
       "      <td>0</td>\n",
       "      <td>0</td>\n",
       "    </tr>\n",
       "    <tr>\n",
       "      <th>2</th>\n",
       "      <td>Sales &amp; Marketing</td>\n",
       "      <td>Bachelor's</td>\n",
       "      <td>1</td>\n",
       "      <td>3.0</td>\n",
       "      <td>7</td>\n",
       "      <td>0</td>\n",
       "      <td>0</td>\n",
       "      <td>50</td>\n",
       "      <td>0</td>\n",
       "      <td>0</td>\n",
       "      <td>...</td>\n",
       "      <td>0</td>\n",
       "      <td>0</td>\n",
       "      <td>0</td>\n",
       "      <td>0</td>\n",
       "      <td>0</td>\n",
       "      <td>1</td>\n",
       "      <td>0</td>\n",
       "      <td>1</td>\n",
       "      <td>0</td>\n",
       "      <td>0</td>\n",
       "    </tr>\n",
       "    <tr>\n",
       "      <th>3</th>\n",
       "      <td>Sales &amp; Marketing</td>\n",
       "      <td>Bachelor's</td>\n",
       "      <td>2</td>\n",
       "      <td>1.0</td>\n",
       "      <td>10</td>\n",
       "      <td>0</td>\n",
       "      <td>0</td>\n",
       "      <td>50</td>\n",
       "      <td>0</td>\n",
       "      <td>0</td>\n",
       "      <td>...</td>\n",
       "      <td>0</td>\n",
       "      <td>0</td>\n",
       "      <td>0</td>\n",
       "      <td>0</td>\n",
       "      <td>0</td>\n",
       "      <td>1</td>\n",
       "      <td>0</td>\n",
       "      <td>1</td>\n",
       "      <td>0</td>\n",
       "      <td>0</td>\n",
       "    </tr>\n",
       "    <tr>\n",
       "      <th>4</th>\n",
       "      <td>Technology</td>\n",
       "      <td>Bachelor's</td>\n",
       "      <td>1</td>\n",
       "      <td>3.0</td>\n",
       "      <td>2</td>\n",
       "      <td>0</td>\n",
       "      <td>0</td>\n",
       "      <td>73</td>\n",
       "      <td>0</td>\n",
       "      <td>0</td>\n",
       "      <td>...</td>\n",
       "      <td>0</td>\n",
       "      <td>0</td>\n",
       "      <td>0</td>\n",
       "      <td>0</td>\n",
       "      <td>0</td>\n",
       "      <td>0</td>\n",
       "      <td>1</td>\n",
       "      <td>1</td>\n",
       "      <td>0</td>\n",
       "      <td>0</td>\n",
       "    </tr>\n",
       "    <tr>\n",
       "      <th>...</th>\n",
       "      <td>...</td>\n",
       "      <td>...</td>\n",
       "      <td>...</td>\n",
       "      <td>...</td>\n",
       "      <td>...</td>\n",
       "      <td>...</td>\n",
       "      <td>...</td>\n",
       "      <td>...</td>\n",
       "      <td>...</td>\n",
       "      <td>...</td>\n",
       "      <td>...</td>\n",
       "      <td>...</td>\n",
       "      <td>...</td>\n",
       "      <td>...</td>\n",
       "      <td>...</td>\n",
       "      <td>...</td>\n",
       "      <td>...</td>\n",
       "      <td>...</td>\n",
       "      <td>...</td>\n",
       "      <td>...</td>\n",
       "      <td>...</td>\n",
       "    </tr>\n",
       "    <tr>\n",
       "      <th>54803</th>\n",
       "      <td>Technology</td>\n",
       "      <td>Bachelor's</td>\n",
       "      <td>1</td>\n",
       "      <td>3.0</td>\n",
       "      <td>17</td>\n",
       "      <td>0</td>\n",
       "      <td>0</td>\n",
       "      <td>78</td>\n",
       "      <td>0</td>\n",
       "      <td>0</td>\n",
       "      <td>...</td>\n",
       "      <td>0</td>\n",
       "      <td>0</td>\n",
       "      <td>0</td>\n",
       "      <td>0</td>\n",
       "      <td>0</td>\n",
       "      <td>0</td>\n",
       "      <td>1</td>\n",
       "      <td>1</td>\n",
       "      <td>0</td>\n",
       "      <td>0</td>\n",
       "    </tr>\n",
       "    <tr>\n",
       "      <th>54804</th>\n",
       "      <td>Operations</td>\n",
       "      <td>Master's &amp; above</td>\n",
       "      <td>1</td>\n",
       "      <td>2.0</td>\n",
       "      <td>6</td>\n",
       "      <td>0</td>\n",
       "      <td>0</td>\n",
       "      <td>56</td>\n",
       "      <td>0</td>\n",
       "      <td>0</td>\n",
       "      <td>...</td>\n",
       "      <td>0</td>\n",
       "      <td>0</td>\n",
       "      <td>1</td>\n",
       "      <td>0</td>\n",
       "      <td>0</td>\n",
       "      <td>0</td>\n",
       "      <td>0</td>\n",
       "      <td>0</td>\n",
       "      <td>0</td>\n",
       "      <td>1</td>\n",
       "    </tr>\n",
       "    <tr>\n",
       "      <th>54805</th>\n",
       "      <td>Analytics</td>\n",
       "      <td>Bachelor's</td>\n",
       "      <td>1</td>\n",
       "      <td>5.0</td>\n",
       "      <td>3</td>\n",
       "      <td>1</td>\n",
       "      <td>0</td>\n",
       "      <td>79</td>\n",
       "      <td>0</td>\n",
       "      <td>1</td>\n",
       "      <td>...</td>\n",
       "      <td>0</td>\n",
       "      <td>0</td>\n",
       "      <td>0</td>\n",
       "      <td>0</td>\n",
       "      <td>0</td>\n",
       "      <td>0</td>\n",
       "      <td>0</td>\n",
       "      <td>1</td>\n",
       "      <td>0</td>\n",
       "      <td>0</td>\n",
       "    </tr>\n",
       "    <tr>\n",
       "      <th>54806</th>\n",
       "      <td>Sales &amp; Marketing</td>\n",
       "      <td>Bachelor's</td>\n",
       "      <td>1</td>\n",
       "      <td>1.0</td>\n",
       "      <td>2</td>\n",
       "      <td>0</td>\n",
       "      <td>0</td>\n",
       "      <td>45</td>\n",
       "      <td>0</td>\n",
       "      <td>0</td>\n",
       "      <td>...</td>\n",
       "      <td>0</td>\n",
       "      <td>0</td>\n",
       "      <td>0</td>\n",
       "      <td>0</td>\n",
       "      <td>0</td>\n",
       "      <td>1</td>\n",
       "      <td>0</td>\n",
       "      <td>1</td>\n",
       "      <td>0</td>\n",
       "      <td>0</td>\n",
       "    </tr>\n",
       "    <tr>\n",
       "      <th>54807</th>\n",
       "      <td>HR</td>\n",
       "      <td>Bachelor's</td>\n",
       "      <td>1</td>\n",
       "      <td>1.0</td>\n",
       "      <td>5</td>\n",
       "      <td>0</td>\n",
       "      <td>0</td>\n",
       "      <td>49</td>\n",
       "      <td>0</td>\n",
       "      <td>0</td>\n",
       "      <td>...</td>\n",
       "      <td>1</td>\n",
       "      <td>0</td>\n",
       "      <td>0</td>\n",
       "      <td>0</td>\n",
       "      <td>0</td>\n",
       "      <td>0</td>\n",
       "      <td>0</td>\n",
       "      <td>1</td>\n",
       "      <td>0</td>\n",
       "      <td>0</td>\n",
       "    </tr>\n",
       "  </tbody>\n",
       "</table>\n",
       "<p>54808 rows × 21 columns</p>\n",
       "</div>"
      ],
      "text/plain": [
       "              department         education  no_of_trainings  \\\n",
       "0      Sales & Marketing  Master's & above                1   \n",
       "1             Operations        Bachelor's                1   \n",
       "2      Sales & Marketing        Bachelor's                1   \n",
       "3      Sales & Marketing        Bachelor's                2   \n",
       "4             Technology        Bachelor's                1   \n",
       "...                  ...               ...              ...   \n",
       "54803         Technology        Bachelor's                1   \n",
       "54804         Operations  Master's & above                1   \n",
       "54805          Analytics        Bachelor's                1   \n",
       "54806  Sales & Marketing        Bachelor's                1   \n",
       "54807                 HR        Bachelor's                1   \n",
       "\n",
       "       previous_year_rating  length_of_service  KPIs_met >80%  awards_won?  \\\n",
       "0                       5.0                  8              1            0   \n",
       "1                       5.0                  4              0            0   \n",
       "2                       3.0                  7              0            0   \n",
       "3                       1.0                 10              0            0   \n",
       "4                       3.0                  2              0            0   \n",
       "...                     ...                ...            ...          ...   \n",
       "54803                   3.0                 17              0            0   \n",
       "54804                   2.0                  6              0            0   \n",
       "54805                   5.0                  3              1            0   \n",
       "54806                   1.0                  2              0            0   \n",
       "54807                   1.0                  5              0            0   \n",
       "\n",
       "       avg_training_score  is_promoted  Analytics  ...  HR  Legal  Operations  \\\n",
       "0                      49            0          0  ...   0      0           0   \n",
       "1                      60            0          0  ...   0      0           1   \n",
       "2                      50            0          0  ...   0      0           0   \n",
       "3                      50            0          0  ...   0      0           0   \n",
       "4                      73            0          0  ...   0      0           0   \n",
       "...                   ...          ...        ...  ...  ..    ...         ...   \n",
       "54803                  78            0          0  ...   0      0           0   \n",
       "54804                  56            0          0  ...   0      0           1   \n",
       "54805                  79            0          1  ...   0      0           0   \n",
       "54806                  45            0          0  ...   0      0           0   \n",
       "54807                  49            0          0  ...   1      0           0   \n",
       "\n",
       "       Procurement  R&D  Sales & Marketing  Technology  Bachelor's  \\\n",
       "0                0    0                  1           0           0   \n",
       "1                0    0                  0           0           1   \n",
       "2                0    0                  1           0           1   \n",
       "3                0    0                  1           0           1   \n",
       "4                0    0                  0           1           1   \n",
       "...            ...  ...                ...         ...         ...   \n",
       "54803            0    0                  0           1           1   \n",
       "54804            0    0                  0           0           0   \n",
       "54805            0    0                  0           0           1   \n",
       "54806            0    0                  1           0           1   \n",
       "54807            0    0                  0           0           1   \n",
       "\n",
       "       Below Secondary  Master's & above  \n",
       "0                    0                 1  \n",
       "1                    0                 0  \n",
       "2                    0                 0  \n",
       "3                    0                 0  \n",
       "4                    0                 0  \n",
       "...                ...               ...  \n",
       "54803                0                 0  \n",
       "54804                0                 1  \n",
       "54805                0                 0  \n",
       "54806                0                 0  \n",
       "54807                0                 0  \n",
       "\n",
       "[54808 rows x 21 columns]"
      ]
     },
     "execution_count": 56,
     "metadata": {},
     "output_type": "execute_result"
    }
   ],
   "source": [
    "merged=pd.concat([Filter_train,dummies_dept,dummies_edu], axis='columns')\n",
    "merged"
   ]
  },
  {
   "cell_type": "code",
   "execution_count": 57,
   "metadata": {},
   "outputs": [],
   "source": [
    "#Rule of thumb\n",
    "Preprocessed = merged.drop(['Technology','department','education','Below Secondary'], axis='columns')\n"
   ]
  },
  {
   "cell_type": "code",
   "execution_count": 58,
   "metadata": {},
   "outputs": [
    {
     "data": {
      "text/html": [
       "<div>\n",
       "<style scoped>\n",
       "    .dataframe tbody tr th:only-of-type {\n",
       "        vertical-align: middle;\n",
       "    }\n",
       "\n",
       "    .dataframe tbody tr th {\n",
       "        vertical-align: top;\n",
       "    }\n",
       "\n",
       "    .dataframe thead th {\n",
       "        text-align: right;\n",
       "    }\n",
       "</style>\n",
       "<table border=\"1\" class=\"dataframe\">\n",
       "  <thead>\n",
       "    <tr style=\"text-align: right;\">\n",
       "      <th></th>\n",
       "      <th>no_of_trainings</th>\n",
       "      <th>previous_year_rating</th>\n",
       "      <th>length_of_service</th>\n",
       "      <th>KPIs_met &gt;80%</th>\n",
       "      <th>awards_won?</th>\n",
       "      <th>avg_training_score</th>\n",
       "      <th>is_promoted</th>\n",
       "      <th>Analytics</th>\n",
       "      <th>Finance</th>\n",
       "      <th>HR</th>\n",
       "      <th>Legal</th>\n",
       "      <th>Operations</th>\n",
       "      <th>Procurement</th>\n",
       "      <th>R&amp;D</th>\n",
       "      <th>Sales &amp; Marketing</th>\n",
       "      <th>Bachelor's</th>\n",
       "      <th>Master's &amp; above</th>\n",
       "    </tr>\n",
       "  </thead>\n",
       "  <tbody>\n",
       "    <tr>\n",
       "      <th>0</th>\n",
       "      <td>1</td>\n",
       "      <td>5.0</td>\n",
       "      <td>8</td>\n",
       "      <td>1</td>\n",
       "      <td>0</td>\n",
       "      <td>49</td>\n",
       "      <td>0</td>\n",
       "      <td>0</td>\n",
       "      <td>0</td>\n",
       "      <td>0</td>\n",
       "      <td>0</td>\n",
       "      <td>0</td>\n",
       "      <td>0</td>\n",
       "      <td>0</td>\n",
       "      <td>1</td>\n",
       "      <td>0</td>\n",
       "      <td>1</td>\n",
       "    </tr>\n",
       "    <tr>\n",
       "      <th>1</th>\n",
       "      <td>1</td>\n",
       "      <td>5.0</td>\n",
       "      <td>4</td>\n",
       "      <td>0</td>\n",
       "      <td>0</td>\n",
       "      <td>60</td>\n",
       "      <td>0</td>\n",
       "      <td>0</td>\n",
       "      <td>0</td>\n",
       "      <td>0</td>\n",
       "      <td>0</td>\n",
       "      <td>1</td>\n",
       "      <td>0</td>\n",
       "      <td>0</td>\n",
       "      <td>0</td>\n",
       "      <td>1</td>\n",
       "      <td>0</td>\n",
       "    </tr>\n",
       "    <tr>\n",
       "      <th>2</th>\n",
       "      <td>1</td>\n",
       "      <td>3.0</td>\n",
       "      <td>7</td>\n",
       "      <td>0</td>\n",
       "      <td>0</td>\n",
       "      <td>50</td>\n",
       "      <td>0</td>\n",
       "      <td>0</td>\n",
       "      <td>0</td>\n",
       "      <td>0</td>\n",
       "      <td>0</td>\n",
       "      <td>0</td>\n",
       "      <td>0</td>\n",
       "      <td>0</td>\n",
       "      <td>1</td>\n",
       "      <td>1</td>\n",
       "      <td>0</td>\n",
       "    </tr>\n",
       "    <tr>\n",
       "      <th>3</th>\n",
       "      <td>2</td>\n",
       "      <td>1.0</td>\n",
       "      <td>10</td>\n",
       "      <td>0</td>\n",
       "      <td>0</td>\n",
       "      <td>50</td>\n",
       "      <td>0</td>\n",
       "      <td>0</td>\n",
       "      <td>0</td>\n",
       "      <td>0</td>\n",
       "      <td>0</td>\n",
       "      <td>0</td>\n",
       "      <td>0</td>\n",
       "      <td>0</td>\n",
       "      <td>1</td>\n",
       "      <td>1</td>\n",
       "      <td>0</td>\n",
       "    </tr>\n",
       "    <tr>\n",
       "      <th>4</th>\n",
       "      <td>1</td>\n",
       "      <td>3.0</td>\n",
       "      <td>2</td>\n",
       "      <td>0</td>\n",
       "      <td>0</td>\n",
       "      <td>73</td>\n",
       "      <td>0</td>\n",
       "      <td>0</td>\n",
       "      <td>0</td>\n",
       "      <td>0</td>\n",
       "      <td>0</td>\n",
       "      <td>0</td>\n",
       "      <td>0</td>\n",
       "      <td>0</td>\n",
       "      <td>0</td>\n",
       "      <td>1</td>\n",
       "      <td>0</td>\n",
       "    </tr>\n",
       "    <tr>\n",
       "      <th>...</th>\n",
       "      <td>...</td>\n",
       "      <td>...</td>\n",
       "      <td>...</td>\n",
       "      <td>...</td>\n",
       "      <td>...</td>\n",
       "      <td>...</td>\n",
       "      <td>...</td>\n",
       "      <td>...</td>\n",
       "      <td>...</td>\n",
       "      <td>...</td>\n",
       "      <td>...</td>\n",
       "      <td>...</td>\n",
       "      <td>...</td>\n",
       "      <td>...</td>\n",
       "      <td>...</td>\n",
       "      <td>...</td>\n",
       "      <td>...</td>\n",
       "    </tr>\n",
       "    <tr>\n",
       "      <th>54803</th>\n",
       "      <td>1</td>\n",
       "      <td>3.0</td>\n",
       "      <td>17</td>\n",
       "      <td>0</td>\n",
       "      <td>0</td>\n",
       "      <td>78</td>\n",
       "      <td>0</td>\n",
       "      <td>0</td>\n",
       "      <td>0</td>\n",
       "      <td>0</td>\n",
       "      <td>0</td>\n",
       "      <td>0</td>\n",
       "      <td>0</td>\n",
       "      <td>0</td>\n",
       "      <td>0</td>\n",
       "      <td>1</td>\n",
       "      <td>0</td>\n",
       "    </tr>\n",
       "    <tr>\n",
       "      <th>54804</th>\n",
       "      <td>1</td>\n",
       "      <td>2.0</td>\n",
       "      <td>6</td>\n",
       "      <td>0</td>\n",
       "      <td>0</td>\n",
       "      <td>56</td>\n",
       "      <td>0</td>\n",
       "      <td>0</td>\n",
       "      <td>0</td>\n",
       "      <td>0</td>\n",
       "      <td>0</td>\n",
       "      <td>1</td>\n",
       "      <td>0</td>\n",
       "      <td>0</td>\n",
       "      <td>0</td>\n",
       "      <td>0</td>\n",
       "      <td>1</td>\n",
       "    </tr>\n",
       "    <tr>\n",
       "      <th>54805</th>\n",
       "      <td>1</td>\n",
       "      <td>5.0</td>\n",
       "      <td>3</td>\n",
       "      <td>1</td>\n",
       "      <td>0</td>\n",
       "      <td>79</td>\n",
       "      <td>0</td>\n",
       "      <td>1</td>\n",
       "      <td>0</td>\n",
       "      <td>0</td>\n",
       "      <td>0</td>\n",
       "      <td>0</td>\n",
       "      <td>0</td>\n",
       "      <td>0</td>\n",
       "      <td>0</td>\n",
       "      <td>1</td>\n",
       "      <td>0</td>\n",
       "    </tr>\n",
       "    <tr>\n",
       "      <th>54806</th>\n",
       "      <td>1</td>\n",
       "      <td>1.0</td>\n",
       "      <td>2</td>\n",
       "      <td>0</td>\n",
       "      <td>0</td>\n",
       "      <td>45</td>\n",
       "      <td>0</td>\n",
       "      <td>0</td>\n",
       "      <td>0</td>\n",
       "      <td>0</td>\n",
       "      <td>0</td>\n",
       "      <td>0</td>\n",
       "      <td>0</td>\n",
       "      <td>0</td>\n",
       "      <td>1</td>\n",
       "      <td>1</td>\n",
       "      <td>0</td>\n",
       "    </tr>\n",
       "    <tr>\n",
       "      <th>54807</th>\n",
       "      <td>1</td>\n",
       "      <td>1.0</td>\n",
       "      <td>5</td>\n",
       "      <td>0</td>\n",
       "      <td>0</td>\n",
       "      <td>49</td>\n",
       "      <td>0</td>\n",
       "      <td>0</td>\n",
       "      <td>0</td>\n",
       "      <td>1</td>\n",
       "      <td>0</td>\n",
       "      <td>0</td>\n",
       "      <td>0</td>\n",
       "      <td>0</td>\n",
       "      <td>0</td>\n",
       "      <td>1</td>\n",
       "      <td>0</td>\n",
       "    </tr>\n",
       "  </tbody>\n",
       "</table>\n",
       "<p>54808 rows × 17 columns</p>\n",
       "</div>"
      ],
      "text/plain": [
       "       no_of_trainings  previous_year_rating  length_of_service  \\\n",
       "0                    1                   5.0                  8   \n",
       "1                    1                   5.0                  4   \n",
       "2                    1                   3.0                  7   \n",
       "3                    2                   1.0                 10   \n",
       "4                    1                   3.0                  2   \n",
       "...                ...                   ...                ...   \n",
       "54803                1                   3.0                 17   \n",
       "54804                1                   2.0                  6   \n",
       "54805                1                   5.0                  3   \n",
       "54806                1                   1.0                  2   \n",
       "54807                1                   1.0                  5   \n",
       "\n",
       "       KPIs_met >80%  awards_won?  avg_training_score  is_promoted  Analytics  \\\n",
       "0                  1            0                  49            0          0   \n",
       "1                  0            0                  60            0          0   \n",
       "2                  0            0                  50            0          0   \n",
       "3                  0            0                  50            0          0   \n",
       "4                  0            0                  73            0          0   \n",
       "...              ...          ...                 ...          ...        ...   \n",
       "54803              0            0                  78            0          0   \n",
       "54804              0            0                  56            0          0   \n",
       "54805              1            0                  79            0          1   \n",
       "54806              0            0                  45            0          0   \n",
       "54807              0            0                  49            0          0   \n",
       "\n",
       "       Finance  HR  Legal  Operations  Procurement  R&D  Sales & Marketing  \\\n",
       "0            0   0      0           0            0    0                  1   \n",
       "1            0   0      0           1            0    0                  0   \n",
       "2            0   0      0           0            0    0                  1   \n",
       "3            0   0      0           0            0    0                  1   \n",
       "4            0   0      0           0            0    0                  0   \n",
       "...        ...  ..    ...         ...          ...  ...                ...   \n",
       "54803        0   0      0           0            0    0                  0   \n",
       "54804        0   0      0           1            0    0                  0   \n",
       "54805        0   0      0           0            0    0                  0   \n",
       "54806        0   0      0           0            0    0                  1   \n",
       "54807        0   1      0           0            0    0                  0   \n",
       "\n",
       "       Bachelor's  Master's & above  \n",
       "0               0                 1  \n",
       "1               1                 0  \n",
       "2               1                 0  \n",
       "3               1                 0  \n",
       "4               1                 0  \n",
       "...           ...               ...  \n",
       "54803           1                 0  \n",
       "54804           0                 1  \n",
       "54805           1                 0  \n",
       "54806           1                 0  \n",
       "54807           1                 0  \n",
       "\n",
       "[54808 rows x 17 columns]"
      ]
     },
     "execution_count": 58,
     "metadata": {},
     "output_type": "execute_result"
    }
   ],
   "source": [
    "Preprocessed"
   ]
  },
  {
   "cell_type": "code",
   "execution_count": 59,
   "metadata": {},
   "outputs": [],
   "source": [
    "X=Preprocessed.drop(['is_promoted'],axis='columns')\n",
    "y=Preprocessed.is_promoted"
   ]
  },
  {
   "cell_type": "markdown",
   "metadata": {},
   "source": [
    "# TEST DATA ENCODING"
   ]
  },
  {
   "cell_type": "code",
   "execution_count": 60,
   "metadata": {},
   "outputs": [],
   "source": [
    "Filter_test=test_df.drop(columns=['employee_id','region','age','gender','recruitment_channel'],axis=1)\n",
    "#Filter_test['gender']=Filter_test['gender'].replace({'f':0,'m':1})\n",
    "#Filter_test['education']=Filter_test['education'].replace({\"Below Secondary\":0,\"Bachelor's\":1,\"Master's & above\":2})"
   ]
  },
  {
   "cell_type": "code",
   "execution_count": 61,
   "metadata": {},
   "outputs": [],
   "source": [
    "dummies_dept_test=pd.get_dummies(Filter_test.department)\n",
    "dummies_edu_test=pd.get_dummies(Filter_test.education)"
   ]
  },
  {
   "cell_type": "code",
   "execution_count": 62,
   "metadata": {},
   "outputs": [],
   "source": [
    "#dummies_channel_test=pd.get_dummies(Filter_test.recruitment_channel)\n",
    "merged_test=pd.concat([Filter_test,dummies_dept_test,dummies_edu_test], axis='columns')"
   ]
  },
  {
   "cell_type": "code",
   "execution_count": 63,
   "metadata": {},
   "outputs": [
    {
     "data": {
      "text/html": [
       "<div>\n",
       "<style scoped>\n",
       "    .dataframe tbody tr th:only-of-type {\n",
       "        vertical-align: middle;\n",
       "    }\n",
       "\n",
       "    .dataframe tbody tr th {\n",
       "        vertical-align: top;\n",
       "    }\n",
       "\n",
       "    .dataframe thead th {\n",
       "        text-align: right;\n",
       "    }\n",
       "</style>\n",
       "<table border=\"1\" class=\"dataframe\">\n",
       "  <thead>\n",
       "    <tr style=\"text-align: right;\">\n",
       "      <th></th>\n",
       "      <th>no_of_trainings</th>\n",
       "      <th>previous_year_rating</th>\n",
       "      <th>length_of_service</th>\n",
       "      <th>KPIs_met &gt;80%</th>\n",
       "      <th>awards_won?</th>\n",
       "      <th>avg_training_score</th>\n",
       "      <th>Analytics</th>\n",
       "      <th>Finance</th>\n",
       "      <th>HR</th>\n",
       "      <th>Legal</th>\n",
       "      <th>Operations</th>\n",
       "      <th>Procurement</th>\n",
       "      <th>R&amp;D</th>\n",
       "      <th>Sales &amp; Marketing</th>\n",
       "      <th>Bachelor's</th>\n",
       "      <th>Master's &amp; above</th>\n",
       "    </tr>\n",
       "  </thead>\n",
       "  <tbody>\n",
       "    <tr>\n",
       "      <th>0</th>\n",
       "      <td>1</td>\n",
       "      <td>3.0</td>\n",
       "      <td>1</td>\n",
       "      <td>1</td>\n",
       "      <td>0</td>\n",
       "      <td>77</td>\n",
       "      <td>0</td>\n",
       "      <td>0</td>\n",
       "      <td>0</td>\n",
       "      <td>0</td>\n",
       "      <td>0</td>\n",
       "      <td>0</td>\n",
       "      <td>0</td>\n",
       "      <td>0</td>\n",
       "      <td>1</td>\n",
       "      <td>0</td>\n",
       "    </tr>\n",
       "    <tr>\n",
       "      <th>1</th>\n",
       "      <td>1</td>\n",
       "      <td>3.0</td>\n",
       "      <td>5</td>\n",
       "      <td>0</td>\n",
       "      <td>0</td>\n",
       "      <td>51</td>\n",
       "      <td>0</td>\n",
       "      <td>0</td>\n",
       "      <td>1</td>\n",
       "      <td>0</td>\n",
       "      <td>0</td>\n",
       "      <td>0</td>\n",
       "      <td>0</td>\n",
       "      <td>0</td>\n",
       "      <td>1</td>\n",
       "      <td>0</td>\n",
       "    </tr>\n",
       "    <tr>\n",
       "      <th>2</th>\n",
       "      <td>1</td>\n",
       "      <td>1.0</td>\n",
       "      <td>4</td>\n",
       "      <td>0</td>\n",
       "      <td>0</td>\n",
       "      <td>47</td>\n",
       "      <td>0</td>\n",
       "      <td>0</td>\n",
       "      <td>0</td>\n",
       "      <td>0</td>\n",
       "      <td>0</td>\n",
       "      <td>0</td>\n",
       "      <td>0</td>\n",
       "      <td>1</td>\n",
       "      <td>1</td>\n",
       "      <td>0</td>\n",
       "    </tr>\n",
       "    <tr>\n",
       "      <th>3</th>\n",
       "      <td>3</td>\n",
       "      <td>2.0</td>\n",
       "      <td>9</td>\n",
       "      <td>0</td>\n",
       "      <td>0</td>\n",
       "      <td>65</td>\n",
       "      <td>0</td>\n",
       "      <td>0</td>\n",
       "      <td>0</td>\n",
       "      <td>0</td>\n",
       "      <td>0</td>\n",
       "      <td>1</td>\n",
       "      <td>0</td>\n",
       "      <td>0</td>\n",
       "      <td>1</td>\n",
       "      <td>0</td>\n",
       "    </tr>\n",
       "    <tr>\n",
       "      <th>4</th>\n",
       "      <td>1</td>\n",
       "      <td>4.0</td>\n",
       "      <td>7</td>\n",
       "      <td>0</td>\n",
       "      <td>0</td>\n",
       "      <td>61</td>\n",
       "      <td>0</td>\n",
       "      <td>1</td>\n",
       "      <td>0</td>\n",
       "      <td>0</td>\n",
       "      <td>0</td>\n",
       "      <td>0</td>\n",
       "      <td>0</td>\n",
       "      <td>0</td>\n",
       "      <td>1</td>\n",
       "      <td>0</td>\n",
       "    </tr>\n",
       "    <tr>\n",
       "      <th>...</th>\n",
       "      <td>...</td>\n",
       "      <td>...</td>\n",
       "      <td>...</td>\n",
       "      <td>...</td>\n",
       "      <td>...</td>\n",
       "      <td>...</td>\n",
       "      <td>...</td>\n",
       "      <td>...</td>\n",
       "      <td>...</td>\n",
       "      <td>...</td>\n",
       "      <td>...</td>\n",
       "      <td>...</td>\n",
       "      <td>...</td>\n",
       "      <td>...</td>\n",
       "      <td>...</td>\n",
       "      <td>...</td>\n",
       "    </tr>\n",
       "    <tr>\n",
       "      <th>23485</th>\n",
       "      <td>1</td>\n",
       "      <td>3.0</td>\n",
       "      <td>1</td>\n",
       "      <td>0</td>\n",
       "      <td>0</td>\n",
       "      <td>61</td>\n",
       "      <td>0</td>\n",
       "      <td>0</td>\n",
       "      <td>0</td>\n",
       "      <td>1</td>\n",
       "      <td>0</td>\n",
       "      <td>0</td>\n",
       "      <td>0</td>\n",
       "      <td>0</td>\n",
       "      <td>0</td>\n",
       "      <td>0</td>\n",
       "    </tr>\n",
       "    <tr>\n",
       "      <th>23486</th>\n",
       "      <td>1</td>\n",
       "      <td>3.0</td>\n",
       "      <td>7</td>\n",
       "      <td>0</td>\n",
       "      <td>0</td>\n",
       "      <td>74</td>\n",
       "      <td>0</td>\n",
       "      <td>0</td>\n",
       "      <td>0</td>\n",
       "      <td>0</td>\n",
       "      <td>0</td>\n",
       "      <td>0</td>\n",
       "      <td>0</td>\n",
       "      <td>0</td>\n",
       "      <td>1</td>\n",
       "      <td>0</td>\n",
       "    </tr>\n",
       "    <tr>\n",
       "      <th>23487</th>\n",
       "      <td>1</td>\n",
       "      <td>4.0</td>\n",
       "      <td>4</td>\n",
       "      <td>0</td>\n",
       "      <td>0</td>\n",
       "      <td>50</td>\n",
       "      <td>0</td>\n",
       "      <td>0</td>\n",
       "      <td>1</td>\n",
       "      <td>0</td>\n",
       "      <td>0</td>\n",
       "      <td>0</td>\n",
       "      <td>0</td>\n",
       "      <td>0</td>\n",
       "      <td>1</td>\n",
       "      <td>0</td>\n",
       "    </tr>\n",
       "    <tr>\n",
       "      <th>23488</th>\n",
       "      <td>3</td>\n",
       "      <td>3.0</td>\n",
       "      <td>1</td>\n",
       "      <td>0</td>\n",
       "      <td>0</td>\n",
       "      <td>70</td>\n",
       "      <td>0</td>\n",
       "      <td>0</td>\n",
       "      <td>0</td>\n",
       "      <td>0</td>\n",
       "      <td>0</td>\n",
       "      <td>1</td>\n",
       "      <td>0</td>\n",
       "      <td>0</td>\n",
       "      <td>1</td>\n",
       "      <td>0</td>\n",
       "    </tr>\n",
       "    <tr>\n",
       "      <th>23489</th>\n",
       "      <td>3</td>\n",
       "      <td>5.0</td>\n",
       "      <td>5</td>\n",
       "      <td>1</td>\n",
       "      <td>0</td>\n",
       "      <td>89</td>\n",
       "      <td>0</td>\n",
       "      <td>0</td>\n",
       "      <td>0</td>\n",
       "      <td>0</td>\n",
       "      <td>0</td>\n",
       "      <td>0</td>\n",
       "      <td>0</td>\n",
       "      <td>0</td>\n",
       "      <td>0</td>\n",
       "      <td>1</td>\n",
       "    </tr>\n",
       "  </tbody>\n",
       "</table>\n",
       "<p>23490 rows × 16 columns</p>\n",
       "</div>"
      ],
      "text/plain": [
       "       no_of_trainings  previous_year_rating  length_of_service  \\\n",
       "0                    1                   3.0                  1   \n",
       "1                    1                   3.0                  5   \n",
       "2                    1                   1.0                  4   \n",
       "3                    3                   2.0                  9   \n",
       "4                    1                   4.0                  7   \n",
       "...                ...                   ...                ...   \n",
       "23485                1                   3.0                  1   \n",
       "23486                1                   3.0                  7   \n",
       "23487                1                   4.0                  4   \n",
       "23488                3                   3.0                  1   \n",
       "23489                3                   5.0                  5   \n",
       "\n",
       "       KPIs_met >80%  awards_won?  avg_training_score  Analytics  Finance  HR  \\\n",
       "0                  1            0                  77          0        0   0   \n",
       "1                  0            0                  51          0        0   1   \n",
       "2                  0            0                  47          0        0   0   \n",
       "3                  0            0                  65          0        0   0   \n",
       "4                  0            0                  61          0        1   0   \n",
       "...              ...          ...                 ...        ...      ...  ..   \n",
       "23485              0            0                  61          0        0   0   \n",
       "23486              0            0                  74          0        0   0   \n",
       "23487              0            0                  50          0        0   1   \n",
       "23488              0            0                  70          0        0   0   \n",
       "23489              1            0                  89          0        0   0   \n",
       "\n",
       "       Legal  Operations  Procurement  R&D  Sales & Marketing  Bachelor's  \\\n",
       "0          0           0            0    0                  0           1   \n",
       "1          0           0            0    0                  0           1   \n",
       "2          0           0            0    0                  1           1   \n",
       "3          0           0            1    0                  0           1   \n",
       "4          0           0            0    0                  0           1   \n",
       "...      ...         ...          ...  ...                ...         ...   \n",
       "23485      1           0            0    0                  0           0   \n",
       "23486      0           0            0    0                  0           1   \n",
       "23487      0           0            0    0                  0           1   \n",
       "23488      0           0            1    0                  0           1   \n",
       "23489      0           0            0    0                  0           0   \n",
       "\n",
       "       Master's & above  \n",
       "0                     0  \n",
       "1                     0  \n",
       "2                     0  \n",
       "3                     0  \n",
       "4                     0  \n",
       "...                 ...  \n",
       "23485                 0  \n",
       "23486                 0  \n",
       "23487                 0  \n",
       "23488                 0  \n",
       "23489                 1  \n",
       "\n",
       "[23490 rows x 16 columns]"
      ]
     },
     "execution_count": 63,
     "metadata": {},
     "output_type": "execute_result"
    }
   ],
   "source": [
    "#Rule of thumb\n",
    "Final_Test = merged_test.drop(['Technology','department','education','Below Secondary'], axis='columns')\n",
    "Final_Test"
   ]
  },
  {
   "cell_type": "markdown",
   "metadata": {},
   "source": [
    "# Univariate Selection"
   ]
  },
  {
   "cell_type": "code",
   "execution_count": 64,
   "metadata": {},
   "outputs": [],
   "source": [
    "#apply SelectKBest class to extract top 10 best features\n",
    "bestfeatures = SelectKBest(score_func=chi2, k=10)\n",
    "fit = bestfeatures.fit(X,y)"
   ]
  },
  {
   "cell_type": "code",
   "execution_count": 65,
   "metadata": {},
   "outputs": [],
   "source": [
    "dfscores = pd.DataFrame(fit.scores_)\n",
    "dfcolumns = pd.DataFrame(X.columns)"
   ]
  },
  {
   "cell_type": "code",
   "execution_count": 66,
   "metadata": {},
   "outputs": [],
   "source": [
    "#concat two dataframes for better visualization \n",
    "featureScores = pd.concat([dfcolumns,dfscores],axis=1)\n",
    "featureScores.columns = ['Specs','Score']  #naming the dataframe columns"
   ]
  },
  {
   "cell_type": "code",
   "execution_count": 67,
   "metadata": {},
   "outputs": [
    {
     "data": {
      "text/html": [
       "<div>\n",
       "<style scoped>\n",
       "    .dataframe tbody tr th:only-of-type {\n",
       "        vertical-align: middle;\n",
       "    }\n",
       "\n",
       "    .dataframe tbody tr th {\n",
       "        vertical-align: top;\n",
       "    }\n",
       "\n",
       "    .dataframe thead th {\n",
       "        text-align: right;\n",
       "    }\n",
       "</style>\n",
       "<table border=\"1\" class=\"dataframe\">\n",
       "  <thead>\n",
       "    <tr style=\"text-align: right;\">\n",
       "      <th></th>\n",
       "      <th>Specs</th>\n",
       "      <th>Score</th>\n",
       "    </tr>\n",
       "  </thead>\n",
       "  <tbody>\n",
       "    <tr>\n",
       "      <th>0</th>\n",
       "      <td>no_of_trainings</td>\n",
       "      <td>10.063491</td>\n",
       "    </tr>\n",
       "    <tr>\n",
       "      <th>1</th>\n",
       "      <td>previous_year_rating</td>\n",
       "      <td>574.656810</td>\n",
       "    </tr>\n",
       "    <tr>\n",
       "      <th>2</th>\n",
       "      <td>length_of_service</td>\n",
       "      <td>19.351084</td>\n",
       "    </tr>\n",
       "    <tr>\n",
       "      <th>3</th>\n",
       "      <td>KPIs_met &gt;80%</td>\n",
       "      <td>1743.827117</td>\n",
       "    </tr>\n",
       "    <tr>\n",
       "      <th>4</th>\n",
       "      <td>awards_won?</td>\n",
       "      <td>2054.009313</td>\n",
       "    </tr>\n",
       "    <tr>\n",
       "      <th>5</th>\n",
       "      <td>avg_training_score</td>\n",
       "      <td>5072.973743</td>\n",
       "    </tr>\n",
       "    <tr>\n",
       "      <th>6</th>\n",
       "      <td>Analytics</td>\n",
       "      <td>7.565959</td>\n",
       "    </tr>\n",
       "    <tr>\n",
       "      <th>7</th>\n",
       "      <td>Finance</td>\n",
       "      <td>0.505199</td>\n",
       "    </tr>\n",
       "    <tr>\n",
       "      <th>8</th>\n",
       "      <td>HR</td>\n",
       "      <td>25.964640</td>\n",
       "    </tr>\n",
       "    <tr>\n",
       "      <th>9</th>\n",
       "      <td>Legal</td>\n",
       "      <td>15.560025</td>\n",
       "    </tr>\n",
       "    <tr>\n",
       "      <th>10</th>\n",
       "      <td>Operations</td>\n",
       "      <td>3.609118</td>\n",
       "    </tr>\n",
       "    <tr>\n",
       "      <th>11</th>\n",
       "      <td>Procurement</td>\n",
       "      <td>11.523545</td>\n",
       "    </tr>\n",
       "    <tr>\n",
       "      <th>12</th>\n",
       "      <td>R&amp;D</td>\n",
       "      <td>3.323861</td>\n",
       "    </tr>\n",
       "    <tr>\n",
       "      <th>13</th>\n",
       "      <td>Sales &amp; Marketing</td>\n",
       "      <td>37.312181</td>\n",
       "    </tr>\n",
       "    <tr>\n",
       "      <th>14</th>\n",
       "      <td>Bachelor's</td>\n",
       "      <td>12.911507</td>\n",
       "    </tr>\n",
       "    <tr>\n",
       "      <th>15</th>\n",
       "      <td>Master's &amp; above</td>\n",
       "      <td>34.340794</td>\n",
       "    </tr>\n",
       "  </tbody>\n",
       "</table>\n",
       "</div>"
      ],
      "text/plain": [
       "                   Specs        Score\n",
       "0        no_of_trainings    10.063491\n",
       "1   previous_year_rating   574.656810\n",
       "2      length_of_service    19.351084\n",
       "3          KPIs_met >80%  1743.827117\n",
       "4            awards_won?  2054.009313\n",
       "5     avg_training_score  5072.973743\n",
       "6              Analytics     7.565959\n",
       "7                Finance     0.505199\n",
       "8                     HR    25.964640\n",
       "9                  Legal    15.560025\n",
       "10            Operations     3.609118\n",
       "11           Procurement    11.523545\n",
       "12                   R&D     3.323861\n",
       "13     Sales & Marketing    37.312181\n",
       "14            Bachelor's    12.911507\n",
       "15      Master's & above    34.340794"
      ]
     },
     "execution_count": 67,
     "metadata": {},
     "output_type": "execute_result"
    }
   ],
   "source": [
    "featureScores"
   ]
  },
  {
   "cell_type": "code",
   "execution_count": 68,
   "metadata": {},
   "outputs": [
    {
     "data": {
      "text/plain": [
       "<AxesSubplot:>"
      ]
     },
     "execution_count": 68,
     "metadata": {},
     "output_type": "execute_result"
    },
    {
     "data": {
      "image/png": "[encoded data removed]",
      "text/plain": [
       "<Figure size 432x288 with 1 Axes>"
      ]
     },
     "metadata": {},
     "output_type": "display_data"
    }
   ],
   "source": [
    "featureScores.plot(kind='bar')"
   ]
  },
  {
   "cell_type": "markdown",
   "metadata": {},
   "source": [
    "# Feature Importance"
   ]
  },
  {
   "cell_type": "code",
   "execution_count": 69,
   "metadata": {},
   "outputs": [],
   "source": [
    "model = ExtraTreesClassifier()"
   ]
  },
  {
   "cell_type": "code",
   "execution_count": 70,
   "metadata": {},
   "outputs": [
    {
     "data": {
      "text/plain": [
       "ExtraTreesClassifier()"
      ]
     },
     "execution_count": 70,
     "metadata": {},
     "output_type": "execute_result"
    }
   ],
   "source": [
    "model.fit(X,y)"
   ]
  },
  {
   "cell_type": "code",
   "execution_count": 71,
   "metadata": {},
   "outputs": [
    {
     "name": "stdout",
     "output_type": "stream",
     "text": [
      "[0.03026648 0.0625799  0.18151089 0.06881683 0.05083536 0.48527251\n",
      " 0.01370853 0.00897848 0.00403478 0.00309029 0.02681839 0.02098981\n",
      " 0.00853008 0.02817547 0.003211   0.0031812 ]\n"
     ]
    }
   ],
   "source": [
    "print(model.feature_importances_) #use inbuilt class feature_importances of tree based classifiers"
   ]
  },
  {
   "cell_type": "code",
   "execution_count": 72,
   "metadata": {},
   "outputs": [
    {
     "data": {
      "image/png": "[encoded data removed]",
      "text/plain": [
       "<Figure size 432x288 with 1 Axes>"
      ]
     },
     "metadata": {},
     "output_type": "display_data"
    }
   ],
   "source": [
    "\n",
    "#plot graph of feature importances for better visualization\n",
    "feat_importances = pd.Series(model.feature_importances_, index=X.columns)\n",
    "feat_importances.nlargest(10).plot(kind='barh')\n",
    "plt.show()"
   ]
  },
  {
   "cell_type": "code",
   "execution_count": 73,
   "metadata": {},
   "outputs": [
    {
     "data": {
      "text/html": [
       "<div>\n",
       "<style scoped>\n",
       "    .dataframe tbody tr th:only-of-type {\n",
       "        vertical-align: middle;\n",
       "    }\n",
       "\n",
       "    .dataframe tbody tr th {\n",
       "        vertical-align: top;\n",
       "    }\n",
       "\n",
       "    .dataframe thead th {\n",
       "        text-align: right;\n",
       "    }\n",
       "</style>\n",
       "<table border=\"1\" class=\"dataframe\">\n",
       "  <thead>\n",
       "    <tr style=\"text-align: right;\">\n",
       "      <th></th>\n",
       "      <th>no_of_trainings</th>\n",
       "      <th>previous_year_rating</th>\n",
       "      <th>length_of_service</th>\n",
       "      <th>KPIs_met &gt;80%</th>\n",
       "      <th>awards_won?</th>\n",
       "      <th>avg_training_score</th>\n",
       "      <th>Analytics</th>\n",
       "      <th>Finance</th>\n",
       "      <th>HR</th>\n",
       "      <th>Legal</th>\n",
       "      <th>Operations</th>\n",
       "      <th>Procurement</th>\n",
       "      <th>R&amp;D</th>\n",
       "      <th>Sales &amp; Marketing</th>\n",
       "      <th>Bachelor's</th>\n",
       "      <th>Master's &amp; above</th>\n",
       "    </tr>\n",
       "  </thead>\n",
       "  <tbody>\n",
       "    <tr>\n",
       "      <th>0</th>\n",
       "      <td>1</td>\n",
       "      <td>5.0</td>\n",
       "      <td>8</td>\n",
       "      <td>1</td>\n",
       "      <td>0</td>\n",
       "      <td>49</td>\n",
       "      <td>0</td>\n",
       "      <td>0</td>\n",
       "      <td>0</td>\n",
       "      <td>0</td>\n",
       "      <td>0</td>\n",
       "      <td>0</td>\n",
       "      <td>0</td>\n",
       "      <td>1</td>\n",
       "      <td>0</td>\n",
       "      <td>1</td>\n",
       "    </tr>\n",
       "    <tr>\n",
       "      <th>1</th>\n",
       "      <td>1</td>\n",
       "      <td>5.0</td>\n",
       "      <td>4</td>\n",
       "      <td>0</td>\n",
       "      <td>0</td>\n",
       "      <td>60</td>\n",
       "      <td>0</td>\n",
       "      <td>0</td>\n",
       "      <td>0</td>\n",
       "      <td>0</td>\n",
       "      <td>1</td>\n",
       "      <td>0</td>\n",
       "      <td>0</td>\n",
       "      <td>0</td>\n",
       "      <td>1</td>\n",
       "      <td>0</td>\n",
       "    </tr>\n",
       "    <tr>\n",
       "      <th>2</th>\n",
       "      <td>1</td>\n",
       "      <td>3.0</td>\n",
       "      <td>7</td>\n",
       "      <td>0</td>\n",
       "      <td>0</td>\n",
       "      <td>50</td>\n",
       "      <td>0</td>\n",
       "      <td>0</td>\n",
       "      <td>0</td>\n",
       "      <td>0</td>\n",
       "      <td>0</td>\n",
       "      <td>0</td>\n",
       "      <td>0</td>\n",
       "      <td>1</td>\n",
       "      <td>1</td>\n",
       "      <td>0</td>\n",
       "    </tr>\n",
       "    <tr>\n",
       "      <th>3</th>\n",
       "      <td>2</td>\n",
       "      <td>1.0</td>\n",
       "      <td>10</td>\n",
       "      <td>0</td>\n",
       "      <td>0</td>\n",
       "      <td>50</td>\n",
       "      <td>0</td>\n",
       "      <td>0</td>\n",
       "      <td>0</td>\n",
       "      <td>0</td>\n",
       "      <td>0</td>\n",
       "      <td>0</td>\n",
       "      <td>0</td>\n",
       "      <td>1</td>\n",
       "      <td>1</td>\n",
       "      <td>0</td>\n",
       "    </tr>\n",
       "    <tr>\n",
       "      <th>4</th>\n",
       "      <td>1</td>\n",
       "      <td>3.0</td>\n",
       "      <td>2</td>\n",
       "      <td>0</td>\n",
       "      <td>0</td>\n",
       "      <td>73</td>\n",
       "      <td>0</td>\n",
       "      <td>0</td>\n",
       "      <td>0</td>\n",
       "      <td>0</td>\n",
       "      <td>0</td>\n",
       "      <td>0</td>\n",
       "      <td>0</td>\n",
       "      <td>0</td>\n",
       "      <td>1</td>\n",
       "      <td>0</td>\n",
       "    </tr>\n",
       "    <tr>\n",
       "      <th>...</th>\n",
       "      <td>...</td>\n",
       "      <td>...</td>\n",
       "      <td>...</td>\n",
       "      <td>...</td>\n",
       "      <td>...</td>\n",
       "      <td>...</td>\n",
       "      <td>...</td>\n",
       "      <td>...</td>\n",
       "      <td>...</td>\n",
       "      <td>...</td>\n",
       "      <td>...</td>\n",
       "      <td>...</td>\n",
       "      <td>...</td>\n",
       "      <td>...</td>\n",
       "      <td>...</td>\n",
       "      <td>...</td>\n",
       "    </tr>\n",
       "    <tr>\n",
       "      <th>54803</th>\n",
       "      <td>1</td>\n",
       "      <td>3.0</td>\n",
       "      <td>17</td>\n",
       "      <td>0</td>\n",
       "      <td>0</td>\n",
       "      <td>78</td>\n",
       "      <td>0</td>\n",
       "      <td>0</td>\n",
       "      <td>0</td>\n",
       "      <td>0</td>\n",
       "      <td>0</td>\n",
       "      <td>0</td>\n",
       "      <td>0</td>\n",
       "      <td>0</td>\n",
       "      <td>1</td>\n",
       "      <td>0</td>\n",
       "    </tr>\n",
       "    <tr>\n",
       "      <th>54804</th>\n",
       "      <td>1</td>\n",
       "      <td>2.0</td>\n",
       "      <td>6</td>\n",
       "      <td>0</td>\n",
       "      <td>0</td>\n",
       "      <td>56</td>\n",
       "      <td>0</td>\n",
       "      <td>0</td>\n",
       "      <td>0</td>\n",
       "      <td>0</td>\n",
       "      <td>1</td>\n",
       "      <td>0</td>\n",
       "      <td>0</td>\n",
       "      <td>0</td>\n",
       "      <td>0</td>\n",
       "      <td>1</td>\n",
       "    </tr>\n",
       "    <tr>\n",
       "      <th>54805</th>\n",
       "      <td>1</td>\n",
       "      <td>5.0</td>\n",
       "      <td>3</td>\n",
       "      <td>1</td>\n",
       "      <td>0</td>\n",
       "      <td>79</td>\n",
       "      <td>1</td>\n",
       "      <td>0</td>\n",
       "      <td>0</td>\n",
       "      <td>0</td>\n",
       "      <td>0</td>\n",
       "      <td>0</td>\n",
       "      <td>0</td>\n",
       "      <td>0</td>\n",
       "      <td>1</td>\n",
       "      <td>0</td>\n",
       "    </tr>\n",
       "    <tr>\n",
       "      <th>54806</th>\n",
       "      <td>1</td>\n",
       "      <td>1.0</td>\n",
       "      <td>2</td>\n",
       "      <td>0</td>\n",
       "      <td>0</td>\n",
       "      <td>45</td>\n",
       "      <td>0</td>\n",
       "      <td>0</td>\n",
       "      <td>0</td>\n",
       "      <td>0</td>\n",
       "      <td>0</td>\n",
       "      <td>0</td>\n",
       "      <td>0</td>\n",
       "      <td>1</td>\n",
       "      <td>1</td>\n",
       "      <td>0</td>\n",
       "    </tr>\n",
       "    <tr>\n",
       "      <th>54807</th>\n",
       "      <td>1</td>\n",
       "      <td>1.0</td>\n",
       "      <td>5</td>\n",
       "      <td>0</td>\n",
       "      <td>0</td>\n",
       "      <td>49</td>\n",
       "      <td>0</td>\n",
       "      <td>0</td>\n",
       "      <td>1</td>\n",
       "      <td>0</td>\n",
       "      <td>0</td>\n",
       "      <td>0</td>\n",
       "      <td>0</td>\n",
       "      <td>0</td>\n",
       "      <td>1</td>\n",
       "      <td>0</td>\n",
       "    </tr>\n",
       "  </tbody>\n",
       "</table>\n",
       "<p>54808 rows × 16 columns</p>\n",
       "</div>"
      ],
      "text/plain": [
       "       no_of_trainings  previous_year_rating  length_of_service  \\\n",
       "0                    1                   5.0                  8   \n",
       "1                    1                   5.0                  4   \n",
       "2                    1                   3.0                  7   \n",
       "3                    2                   1.0                 10   \n",
       "4                    1                   3.0                  2   \n",
       "...                ...                   ...                ...   \n",
       "54803                1                   3.0                 17   \n",
       "54804                1                   2.0                  6   \n",
       "54805                1                   5.0                  3   \n",
       "54806                1                   1.0                  2   \n",
       "54807                1                   1.0                  5   \n",
       "\n",
       "       KPIs_met >80%  awards_won?  avg_training_score  Analytics  Finance  HR  \\\n",
       "0                  1            0                  49          0        0   0   \n",
       "1                  0            0                  60          0        0   0   \n",
       "2                  0            0                  50          0        0   0   \n",
       "3                  0            0                  50          0        0   0   \n",
       "4                  0            0                  73          0        0   0   \n",
       "...              ...          ...                 ...        ...      ...  ..   \n",
       "54803              0            0                  78          0        0   0   \n",
       "54804              0            0                  56          0        0   0   \n",
       "54805              1            0                  79          1        0   0   \n",
       "54806              0            0                  45          0        0   0   \n",
       "54807              0            0                  49          0        0   1   \n",
       "\n",
       "       Legal  Operations  Procurement  R&D  Sales & Marketing  Bachelor's  \\\n",
       "0          0           0            0    0                  1           0   \n",
       "1          0           1            0    0                  0           1   \n",
       "2          0           0            0    0                  1           1   \n",
       "3          0           0            0    0                  1           1   \n",
       "4          0           0            0    0                  0           1   \n",
       "...      ...         ...          ...  ...                ...         ...   \n",
       "54803      0           0            0    0                  0           1   \n",
       "54804      0           1            0    0                  0           0   \n",
       "54805      0           0            0    0                  0           1   \n",
       "54806      0           0            0    0                  1           1   \n",
       "54807      0           0            0    0                  0           1   \n",
       "\n",
       "       Master's & above  \n",
       "0                     1  \n",
       "1                     0  \n",
       "2                     0  \n",
       "3                     0  \n",
       "4                     0  \n",
       "...                 ...  \n",
       "54803                 0  \n",
       "54804                 1  \n",
       "54805                 0  \n",
       "54806                 0  \n",
       "54807                 0  \n",
       "\n",
       "[54808 rows x 16 columns]"
      ]
     },
     "execution_count": 73,
     "metadata": {},
     "output_type": "execute_result"
    }
   ],
   "source": [
    "X"
   ]
  },
  {
   "cell_type": "code",
   "execution_count": 74,
   "metadata": {},
   "outputs": [
    {
     "data": {
      "text/plain": [
       "Index(['no_of_trainings', 'previous_year_rating', 'length_of_service',\n",
       "       'KPIs_met >80%', 'awards_won?', 'avg_training_score', 'Analytics',\n",
       "       'Finance', 'HR', 'Legal', 'Operations', 'Procurement', 'R&D',\n",
       "       'Sales & Marketing', 'Bachelor's', 'Master's & above'],\n",
       "      dtype='object')"
      ]
     },
     "execution_count": 74,
     "metadata": {},
     "output_type": "execute_result"
    }
   ],
   "source": [
    "#Selected Features\n",
    "X.columns"
   ]
  },
  {
   "cell_type": "markdown",
   "metadata": {},
   "source": [
    "# Normalising and Standardizing Data"
   ]
  },
  {
   "cell_type": "code",
   "execution_count": 75,
   "metadata": {},
   "outputs": [
    {
     "data": {
      "text/plain": [
       "array([[0.02002404, 0.10012022, 0.16019235, ..., 0.02002404, 0.        ,\n",
       "        0.02002404],\n",
       "       [0.01656574, 0.0828287 , 0.06626296, ..., 0.        , 0.01656574,\n",
       "        0.        ],\n",
       "       [0.01976038, 0.05928113, 0.13832263, ..., 0.01976038, 0.01976038,\n",
       "        0.        ],\n",
       "       ...,\n",
       "       [0.01261987, 0.06309933, 0.0378596 , ..., 0.        , 0.01261987,\n",
       "        0.        ],\n",
       "       [0.02217846, 0.02217846, 0.04435691, ..., 0.02217846, 0.02217846,\n",
       "        0.        ],\n",
       "       [0.02028602, 0.02028602, 0.1014301 , ..., 0.        , 0.02028602,\n",
       "        0.        ]])"
      ]
     },
     "execution_count": 75,
     "metadata": {},
     "output_type": "execute_result"
    }
   ],
   "source": [
    "#Normalized Data\n",
    "normalized_X = preprocessing.normalize(X)\n",
    "normalized_X"
   ]
  },
  {
   "cell_type": "code",
   "execution_count": 76,
   "metadata": {},
   "outputs": [
    {
     "data": {
      "text/plain": [
       "array([[-0.41527615,  1.39576589,  0.50045956, ...,  1.50154315,\n",
       "        -1.57616545,  1.63469502],\n",
       "       [-0.41527615,  1.39576589, -0.43739464, ..., -0.66598153,\n",
       "         0.63445116, -0.6117349 ],\n",
       "       [-0.41527615, -0.25065148,  0.26599601, ...,  1.50154315,\n",
       "         0.63445116, -0.6117349 ],\n",
       "       ...,\n",
       "       [-0.41527615,  1.39576589, -0.67185819, ..., -0.66598153,\n",
       "         0.63445116, -0.6117349 ],\n",
       "       [-0.41527615, -1.89706886, -0.90632174, ...,  1.50154315,\n",
       "         0.63445116, -0.6117349 ],\n",
       "       [-0.41527615, -1.89706886, -0.20293109, ..., -0.66598153,\n",
       "         0.63445116, -0.6117349 ]])"
      ]
     },
     "execution_count": 76,
     "metadata": {},
     "output_type": "execute_result"
    }
   ],
   "source": [
    "#Standardized Data\n",
    "standardised_X = preprocessing.scale(X)\n",
    "standardised_X"
   ]
  },
  {
   "cell_type": "code",
   "execution_count": 77,
   "metadata": {},
   "outputs": [
    {
     "data": {
      "text/plain": [
       "14.356779712812056"
      ]
     },
     "execution_count": 77,
     "metadata": {},
     "output_type": "execute_result"
    }
   ],
   "source": [
    "standardised_X.max()"
   ]
  },
  {
   "cell_type": "code",
   "execution_count": 78,
   "metadata": {},
   "outputs": [
    {
     "data": {
      "text/plain": [
       "0.9997769931211817"
      ]
     },
     "execution_count": 78,
     "metadata": {},
     "output_type": "execute_result"
    }
   ],
   "source": [
    "normalized_X.max()"
   ]
  },
  {
   "cell_type": "markdown",
   "metadata": {},
   "source": [
    "# Train Test Split"
   ]
  },
  {
   "cell_type": "code",
   "execution_count": 79,
   "metadata": {},
   "outputs": [],
   "source": [
    "from sklearn.model_selection import train_test_split"
   ]
  },
  {
   "cell_type": "code",
   "execution_count": 80,
   "metadata": {},
   "outputs": [],
   "source": [
    "X_train,X_test,y_train,y_test=train_test_split(standardised_X,y,test_size=0.3, random_state=0)"
   ]
  },
  {
   "cell_type": "code",
   "execution_count": 81,
   "metadata": {},
   "outputs": [
    {
     "name": "stdout",
     "output_type": "stream",
     "text": [
      "(38365, 16)\n",
      "(16443, 16)\n",
      "(38365,)\n",
      "(16443,)\n"
     ]
    }
   ],
   "source": [
    "print(X_train.shape)\n",
    "print(X_test.shape)\n",
    "print(y_train.shape)\n",
    "print(y_test.shape)"
   ]
  },
  {
   "cell_type": "markdown",
   "metadata": {},
   "source": [
    "# SMOTE FOR IMBALANCE DATASET"
   ]
  },
  {
   "cell_type": "code",
   "execution_count": null,
   "metadata": {},
   "outputs": [],
   "source": []
  },
  {
   "cell_type": "code",
   "execution_count": 82,
   "metadata": {},
   "outputs": [
    {
     "data": {
      "text/plain": [
       "{0: 35083, 1: 3282}"
      ]
     },
     "execution_count": 82,
     "metadata": {},
     "output_type": "execute_result"
    }
   ],
   "source": [
    "unique, count = np.unique(y_train, return_counts=True)\n",
    "Y_train_dict_value_count = { k:v for (k,v) in zip(unique, count)}\n",
    "Y_train_dict_value_count"
   ]
  },
  {
   "cell_type": "code",
   "execution_count": 83,
   "metadata": {},
   "outputs": [],
   "source": [
    "sm = SMOTE(random_state=12, sampling_strategy= 0.5)\n",
    "x_train_res, y_train_res = sm.fit_sample(X_train, y_train)"
   ]
  },
  {
   "cell_type": "code",
   "execution_count": 84,
   "metadata": {},
   "outputs": [
    {
     "data": {
      "text/plain": [
       "{0: 35083, 1: 17541}"
      ]
     },
     "execution_count": 84,
     "metadata": {},
     "output_type": "execute_result"
    }
   ],
   "source": [
    "unique, count = np.unique(y_train_res, return_counts=True)\n",
    "y_train_smote_value_count = { k:v for (k,v) in zip(unique, count)}\n",
    "y_train_smote_value_count"
   ]
  },
  {
   "cell_type": "markdown",
   "metadata": {},
   "source": [
    "# K-fold"
   ]
  },
  {
   "cell_type": "code",
   "execution_count": 86,
   "metadata": {},
   "outputs": [],
   "source": [
    "weights = np.arange(1,11,1)\n",
    "param_grid = {'scale_pos_weight':weights}"
   ]
  },
  {
   "cell_type": "code",
   "execution_count": 87,
   "metadata": {},
   "outputs": [
    {
     "data": {
      "text/plain": [
       "{'scale_pos_weight': array([ 1,  2,  3,  4,  5,  6,  7,  8,  9, 10])}"
      ]
     },
     "execution_count": 87,
     "metadata": {},
     "output_type": "execute_result"
    }
   ],
   "source": [
    "param_grid"
   ]
  },
  {
   "cell_type": "code",
   "execution_count": 82,
   "metadata": {},
   "outputs": [],
   "source": [
    "Model=XGBClassifier()"
   ]
  },
  {
   "cell_type": "code",
   "execution_count": 142,
   "metadata": {},
   "outputs": [],
   "source": [
    "SKF = KFold(n_splits=10, shuffle=True, random_state=1)"
   ]
  },
  {
   "cell_type": "code",
   "execution_count": 172,
   "metadata": {},
   "outputs": [],
   "source": [
    "grid = GridSearchCV(estimator=Model, param_grid=param_grid, n_jobs=-1, cv=SKF, scoring='f1')"
   ]
  },
  {
   "cell_type": "code",
   "execution_count": 173,
   "metadata": {},
   "outputs": [],
   "source": [
    "grid_result = grid.fit(X, y)"
   ]
  },
  {
   "cell_type": "code",
   "execution_count": 174,
   "metadata": {},
   "outputs": [
    {
     "name": "stdout",
     "output_type": "stream",
     "text": [
      "Best: 0.511546 using {'scale_pos_weight': 2}\n"
     ]
    }
   ],
   "source": [
    "print(\"Best: %f using %s\" % (grid_result.best_score_, grid_result.best_params_))"
   ]
  },
  {
   "cell_type": "code",
   "execution_count": 175,
   "metadata": {},
   "outputs": [
    {
     "name": "stdout",
     "output_type": "stream",
     "text": [
      "0.505903 (0.016081) with: {'scale_pos_weight': 1}\n",
      "0.511546 (0.012808) with: {'scale_pos_weight': 2}\n",
      "0.507027 (0.013993) with: {'scale_pos_weight': 3}\n",
      "0.484117 (0.011115) with: {'scale_pos_weight': 4}\n",
      "0.457657 (0.007884) with: {'scale_pos_weight': 5}\n",
      "0.438242 (0.007750) with: {'scale_pos_weight': 6}\n",
      "0.417414 (0.005170) with: {'scale_pos_weight': 7}\n",
      "0.406986 (0.005675) with: {'scale_pos_weight': 8}\n",
      "0.399352 (0.009272) with: {'scale_pos_weight': 9}\n",
      "0.396174 (0.007888) with: {'scale_pos_weight': 10}\n"
     ]
    }
   ],
   "source": [
    "# report all configurations\n",
    "means = grid_result.cv_results_['mean_test_score']\n",
    "stds = grid_result.cv_results_['std_test_score']\n",
    "params = grid_result.cv_results_['params']\n",
    "for mean, stdev, param in zip(means, stds, params):\n",
    "    print(\"%f (%f) with: %r\" % (mean, stdev, param))\n",
    "\n"
   ]
  },
  {
   "cell_type": "code",
   "execution_count": 153,
   "metadata": {},
   "outputs": [
    {
     "name": "stdout",
     "output_type": "stream",
     "text": [
      "Cross-validation scores:\n",
      "0.43989101385443713\n"
     ]
    }
   ],
   "source": [
    "print(\"Cross-validation scores:\\n{}\".format(cross_val_score(Model,X,y, cv=SKF,scoring='f1').mean()))"
   ]
  },
  {
   "cell_type": "code",
   "execution_count": 141,
   "metadata": {},
   "outputs": [],
   "source": [
    "def best_model(x,y):\n",
    "    model=[LogisticRegression,DecisionTreeClassifier,RandomForestClassifier,KNeighborsClassifier,XGBClassifier]\n",
    "    skf = StratifiedKFold()\n",
    "    for i in model:\n",
    "        print(i,\"\\n\",\"Cross-validation scores:\\n{}\".format(cross_val_score(i(), x,y, cv=skf,scoring='f1').mean()))\n"
   ]
  },
  {
   "cell_type": "code",
   "execution_count": 142,
   "metadata": {
    "scrolled": false
   },
   "outputs": [
    {
     "name": "stderr",
     "output_type": "stream",
     "text": [
      "/Users/yugeshnaidu/opt/anaconda3/lib/python3.7/site-packages/sklearn/model_selection/_split.py:629: FutureWarning: The default value of n_split will change from 3 to 5 in version 0.22. Specify it explicitly to silence this warning.\n",
      "  warnings.warn(NSPLIT_WARNING, FutureWarning)\n",
      "/Users/yugeshnaidu/opt/anaconda3/lib/python3.7/site-packages/sklearn/linear_model/logistic.py:432: FutureWarning: Default solver will be changed to 'lbfgs' in 0.22. Specify a solver to silence this warning.\n",
      "  FutureWarning)\n",
      "/Users/yugeshnaidu/opt/anaconda3/lib/python3.7/site-packages/sklearn/metrics/classification.py:1437: UndefinedMetricWarning: F-score is ill-defined and being set to 0.0 due to no predicted samples.\n",
      "  'precision', 'predicted', average, warn_for)\n",
      "/Users/yugeshnaidu/opt/anaconda3/lib/python3.7/site-packages/sklearn/linear_model/logistic.py:432: FutureWarning: Default solver will be changed to 'lbfgs' in 0.22. Specify a solver to silence this warning.\n",
      "  FutureWarning)\n",
      "/Users/yugeshnaidu/opt/anaconda3/lib/python3.7/site-packages/sklearn/metrics/classification.py:1437: UndefinedMetricWarning: F-score is ill-defined and being set to 0.0 due to no predicted samples.\n",
      "  'precision', 'predicted', average, warn_for)\n",
      "/Users/yugeshnaidu/opt/anaconda3/lib/python3.7/site-packages/sklearn/linear_model/logistic.py:432: FutureWarning: Default solver will be changed to 'lbfgs' in 0.22. Specify a solver to silence this warning.\n",
      "  FutureWarning)\n",
      "/Users/yugeshnaidu/opt/anaconda3/lib/python3.7/site-packages/sklearn/metrics/classification.py:1437: UndefinedMetricWarning: F-score is ill-defined and being set to 0.0 due to no predicted samples.\n",
      "  'precision', 'predicted', average, warn_for)\n"
     ]
    },
    {
     "name": "stdout",
     "output_type": "stream",
     "text": [
      "<class 'sklearn.linear_model.logistic.LogisticRegression'> \n",
      " Cross-validation scores:\n",
      "0.0\n",
      "<class 'sklearn.tree.tree.DecisionTreeClassifier'> \n",
      " Cross-validation scores:\n",
      "0.4454049871768983\n"
     ]
    },
    {
     "name": "stderr",
     "output_type": "stream",
     "text": [
      "/Users/yugeshnaidu/opt/anaconda3/lib/python3.7/site-packages/sklearn/ensemble/forest.py:245: FutureWarning: The default value of n_estimators will change from 10 in version 0.20 to 100 in 0.22.\n",
      "  \"10 in version 0.20 to 100 in 0.22.\", FutureWarning)\n",
      "/Users/yugeshnaidu/opt/anaconda3/lib/python3.7/site-packages/sklearn/ensemble/forest.py:245: FutureWarning: The default value of n_estimators will change from 10 in version 0.20 to 100 in 0.22.\n",
      "  \"10 in version 0.20 to 100 in 0.22.\", FutureWarning)\n",
      "/Users/yugeshnaidu/opt/anaconda3/lib/python3.7/site-packages/sklearn/ensemble/forest.py:245: FutureWarning: The default value of n_estimators will change from 10 in version 0.20 to 100 in 0.22.\n",
      "  \"10 in version 0.20 to 100 in 0.22.\", FutureWarning)\n"
     ]
    },
    {
     "name": "stdout",
     "output_type": "stream",
     "text": [
      "<class 'sklearn.ensemble.forest.RandomForestClassifier'> \n",
      " Cross-validation scores:\n",
      "0.4587366512388351\n",
      "<class 'sklearn.neighbors.classification.KNeighborsClassifier'> \n",
      " Cross-validation scores:\n",
      "0.23228611634414822\n",
      "<class 'xgboost.sklearn.XGBClassifier'> \n",
      " Cross-validation scores:\n",
      "0.4248534908735728\n"
     ]
    }
   ],
   "source": [
    "best_model(normalized_X,y)"
   ]
  },
  {
   "cell_type": "markdown",
   "metadata": {},
   "source": [
    "# HYPERPARAMETER TUNING"
   ]
  },
  {
   "cell_type": "markdown",
   "metadata": {},
   "source": [
    "**USING OPTUNA**"
   ]
  },
  {
   "cell_type": "code",
   "execution_count": 178,
   "metadata": {},
   "outputs": [],
   "source": [
    "from sklearn.model_selection import RandomizedSearchCV, GridSearchCV"
   ]
  },
  {
   "cell_type": "code",
   "execution_count": 87,
   "metadata": {},
   "outputs": [],
   "source": [
    "import optuna"
   ]
  },
  {
   "cell_type": "code",
   "execution_count": 145,
   "metadata": {},
   "outputs": [],
   "source": [
    "param_grid={'min_child_weight' : np.arange(0,2,0.2),\n",
    "           'gamma': np.arange(0,2,0.2),\n",
    "           'learning_rate': (0,2,0.2)}"
   ]
  },
  {
   "cell_type": "code",
   "execution_count": 144,
   "metadata": {},
   "outputs": [
    {
     "data": {
      "text/plain": [
       "array([0. , 0.2, 0.4, 0.6, 0.8, 1. , 1.2, 1.4, 1.6, 1.8])"
      ]
     },
     "execution_count": 144,
     "metadata": {},
     "output_type": "execute_result"
    }
   ],
   "source": [
    "np.arange(0,2,0.2)"
   ]
  },
  {
   "cell_type": "code",
   "execution_count": 97,
   "metadata": {},
   "outputs": [],
   "source": [
    "def objective(trial):\n",
    "    booster = trial.suggest_categorical('booster', ['gbtree','dart','gblinear'])\n",
    "    tree_method = trial.suggest_categorical('tree_method', ['exact', 'hist'])\n",
    "    eta = trial.suggest_loguniform('eta', 1e-5,1)\n",
    "    gamma = trial.suggest_loguniform('gamma', 1e-5,10)\n",
    "    max_depth = trial.suggest_int('max_depth', 1,10)\n",
    "    min_child_weight = trial.suggest_loguniform('min_child_weight', 1e-5,10)\n",
    "    max_delta_step = trial.suggest_loguniform('max_delta_step', 1e-5,1)\n",
    "    reg_lambda = trial.suggest_loguniform('reg_lambda', 1e-5,1)\n",
    "    scale_pos_weight = trial.suggest_loguniform('scale_pos_weight', 1e-5,1)\n",
    "    \n",
    "    xgboost_tuna = XGBClassifier(\n",
    "        random_state=42, \n",
    "        booster=booster,\n",
    "        tree_method=tree_method,\n",
    "        gamma=gamma,\n",
    "        max_depth = max_depth,\n",
    "        min_child_weight = min_child_weight,\n",
    "        eta = eta,\n",
    "        max_delta_step=max_delta_step,\n",
    "        reg_lambda=reg_lambda,\n",
    "        scale_pos_weight = scale_pos_weight,\n",
    "    )\n",
    "    \n",
    "    xgboost_tuna.fit(X_train, y_train)\n",
    "    tuna_pred_test = xgboost_tuna.predict(X_test)\n",
    "    \n",
    "    return (f1_score(y_test, tuna_pred_test))\n",
    "                                              \n",
    "                                                                                \n"
   ]
  },
  {
   "cell_type": "code",
   "execution_count": 98,
   "metadata": {
    "scrolled": true
   },
   "outputs": [
    {
     "name": "stderr",
     "output_type": "stream",
     "text": [
      "\u001b[32m[I 2020-10-23 23:15:09,454]\u001b[0m A new study created in memory with name: no-name-7a7c973d-f141-45ef-9996-477998cb2d70\u001b[0m\n",
      "\u001b[32m[I 2020-10-23 23:15:11,196]\u001b[0m Trial 0 finished with value: 0.10655737704918034 and parameters: {'booster': 'dart', 'tree_method': 'hist', 'eta': 0.11220785018156765, 'gamma': 0.00010777141526284825, 'max_depth': 9, 'min_child_weight': 9.700812998881176e-05, 'max_delta_step': 0.0003147263919766572, 'reg_lambda': 0.0006811932902963203, 'scale_pos_weight': 0.106717032586143}. Best is trial 0 with value: 0.10655737704918034.\u001b[0m\n",
      "\u001b[32m[I 2020-10-23 23:15:11,987]\u001b[0m Trial 1 finished with value: 0.0 and parameters: {'booster': 'dart', 'tree_method': 'hist', 'eta': 0.01679464483417112, 'gamma': 0.0025559367703979195, 'max_depth': 4, 'min_child_weight': 0.13327503971975926, 'max_delta_step': 5.09098460760178e-05, 'reg_lambda': 0.0265106667961423, 'scale_pos_weight': 0.002323544001697586}. Best is trial 1 with value: 0.0.\u001b[0m\n",
      "\u001b[32m[I 2020-10-23 23:15:12,793]\u001b[0m Trial 2 finished with value: 0.0 and parameters: {'booster': 'dart', 'tree_method': 'hist', 'eta': 0.016592649045986528, 'gamma': 0.05680835635246623, 'max_depth': 7, 'min_child_weight': 0.00012677236827218384, 'max_delta_step': 4.2569058221626324e-05, 'reg_lambda': 0.002597279772491729, 'scale_pos_weight': 0.03735044772900852}. Best is trial 1 with value: 0.0.\u001b[0m\n",
      "\u001b[32m[I 2020-10-23 23:15:13,514]\u001b[0m Trial 3 finished with value: 0.0 and parameters: {'booster': 'gbtree', 'tree_method': 'exact', 'eta': 0.0761227827200288, 'gamma': 0.01930160005285792, 'max_depth': 4, 'min_child_weight': 2.6784161304467577, 'max_delta_step': 0.00018678464474168062, 'reg_lambda': 0.06299219939857024, 'scale_pos_weight': 8.317549487493536e-05}. Best is trial 1 with value: 0.0.\u001b[0m\n",
      "\u001b[32m[I 2020-10-23 23:15:14,565]\u001b[0m Trial 4 finished with value: 0.0 and parameters: {'booster': 'gbtree', 'tree_method': 'exact', 'eta': 0.6435673464426923, 'gamma': 0.000290368645568415, 'max_depth': 7, 'min_child_weight': 0.019275253699816915, 'max_delta_step': 0.0003714353696696281, 'reg_lambda': 6.134504021367266e-05, 'scale_pos_weight': 0.002402142998769514}. Best is trial 1 with value: 0.0.\u001b[0m\n",
      "\u001b[32m[I 2020-10-23 23:15:15,392]\u001b[0m Trial 5 finished with value: 0.0 and parameters: {'booster': 'dart', 'tree_method': 'hist', 'eta': 0.21140440861496226, 'gamma': 0.1692623859621658, 'max_depth': 3, 'min_child_weight': 0.0013223177009427608, 'max_delta_step': 0.009184192935049344, 'reg_lambda': 0.004080364695734532, 'scale_pos_weight': 0.00026933510996476494}. Best is trial 1 with value: 0.0.\u001b[0m\n"
     ]
    },
    {
     "name": "stdout",
     "output_type": "stream",
     "text": [
      "[23:15:15] WARNING: /Users/runner/miniforge3/conda-bld/xgboost_1598185652448/work/src/learner.cc:516: \n",
      "Parameters: { gamma, max_delta_step, max_depth, min_child_weight, tree_method } might not be used.\n",
      "\n",
      "  This may not be accurate due to some parameters are only used in language bindings but\n",
      "  passed down to XGBoost core.  Or some parameters are not used but slip through this\n",
      "  verification. Please open an issue if you find above cases.\n",
      "\n",
      "\n"
     ]
    },
    {
     "name": "stderr",
     "output_type": "stream",
     "text": [
      "\u001b[32m[I 2020-10-23 23:15:15,868]\u001b[0m Trial 6 finished with value: 0.0 and parameters: {'booster': 'gblinear', 'tree_method': 'hist', 'eta': 0.0006920865067946598, 'gamma': 3.0129580377202242e-05, 'max_depth': 4, 'min_child_weight': 5.517087881903249, 'max_delta_step': 0.04135164302237255, 'reg_lambda': 0.0002139126818400622, 'scale_pos_weight': 0.016764692605545008}. Best is trial 1 with value: 0.0.\u001b[0m\n"
     ]
    },
    {
     "name": "stdout",
     "output_type": "stream",
     "text": [
      "[23:15:15] WARNING: /Users/runner/miniforge3/conda-bld/xgboost_1598185652448/work/src/learner.cc:516: \n",
      "Parameters: { gamma, max_delta_step, max_depth, min_child_weight, tree_method } might not be used.\n",
      "\n",
      "  This may not be accurate due to some parameters are only used in language bindings but\n",
      "  passed down to XGBoost core.  Or some parameters are not used but slip through this\n",
      "  verification. Please open an issue if you find above cases.\n",
      "\n",
      "\n"
     ]
    },
    {
     "name": "stderr",
     "output_type": "stream",
     "text": [
      "\u001b[32m[I 2020-10-23 23:15:16,328]\u001b[0m Trial 7 finished with value: 0.0 and parameters: {'booster': 'gblinear', 'tree_method': 'exact', 'eta': 0.003731451247217156, 'gamma': 0.00321283849058045, 'max_depth': 6, 'min_child_weight': 0.21172340907519177, 'max_delta_step': 0.0009888637037902554, 'reg_lambda': 1.1314564020595279e-05, 'scale_pos_weight': 0.026212128684230823}. Best is trial 1 with value: 0.0.\u001b[0m\n"
     ]
    },
    {
     "name": "stdout",
     "output_type": "stream",
     "text": [
      "[23:15:16] WARNING: /Users/runner/miniforge3/conda-bld/xgboost_1598185652448/work/src/learner.cc:516: \n",
      "Parameters: { gamma, max_delta_step, max_depth, min_child_weight, tree_method } might not be used.\n",
      "\n",
      "  This may not be accurate due to some parameters are only used in language bindings but\n",
      "  passed down to XGBoost core.  Or some parameters are not used but slip through this\n",
      "  verification. Please open an issue if you find above cases.\n",
      "\n",
      "\n"
     ]
    },
    {
     "name": "stderr",
     "output_type": "stream",
     "text": [
      "\u001b[32m[I 2020-10-23 23:15:16,795]\u001b[0m Trial 8 finished with value: 0.043447792571829014 and parameters: {'booster': 'gblinear', 'tree_method': 'hist', 'eta': 0.31937216484336767, 'gamma': 0.0002804983953235618, 'max_depth': 9, 'min_child_weight': 9.418590821449088, 'max_delta_step': 0.6370735007237226, 'reg_lambda': 4.067939672458689e-05, 'scale_pos_weight': 0.5696565526109268}. Best is trial 1 with value: 0.0.\u001b[0m\n",
      "\u001b[32m[I 2020-10-23 23:15:17,557]\u001b[0m Trial 9 finished with value: 0.0 and parameters: {'booster': 'dart', 'tree_method': 'hist', 'eta': 0.00017674858665627928, 'gamma': 0.5323806415382906, 'max_depth': 4, 'min_child_weight': 0.021175582491222478, 'max_delta_step': 0.0002443705827515248, 'reg_lambda': 0.0017242145350391557, 'scale_pos_weight': 0.0028470297965362927}. Best is trial 1 with value: 0.0.\u001b[0m\n",
      "\u001b[32m[I 2020-10-23 23:15:18,385]\u001b[0m Trial 10 finished with value: 0.0 and parameters: {'booster': 'dart', 'tree_method': 'hist', 'eta': 1.486292465213481e-05, 'gamma': 6.029682926947969, 'max_depth': 1, 'min_child_weight': 0.3309200024148525, 'max_delta_step': 1.898690550714443e-05, 'reg_lambda': 0.9396940183644096, 'scale_pos_weight': 2.614193416893157e-05}. Best is trial 1 with value: 0.0.\u001b[0m\n",
      "\u001b[32m[I 2020-10-23 23:15:19,203]\u001b[0m Trial 11 finished with value: 0.0 and parameters: {'booster': 'dart', 'tree_method': 'hist', 'eta': 0.012985012898564425, 'gamma': 0.00592994076783908, 'max_depth': 7, 'min_child_weight': 1.2530036338785619e-05, 'max_delta_step': 1.28221403803578e-05, 'reg_lambda': 0.018769442632131355, 'scale_pos_weight': 0.0009631769490976152}. Best is trial 1 with value: 0.0.\u001b[0m\n",
      "\u001b[32m[I 2020-10-23 23:15:20,028]\u001b[0m Trial 12 finished with value: 0.0 and parameters: {'booster': 'dart', 'tree_method': 'hist', 'eta': 0.021888191019112057, 'gamma': 0.08125763491528046, 'max_depth': 1, 'min_child_weight': 0.0005732668660705362, 'max_delta_step': 3.680815209943809e-05, 'reg_lambda': 0.19875798474720321, 'scale_pos_weight': 0.023952834877939953}. Best is trial 1 with value: 0.0.\u001b[0m\n",
      "\u001b[32m[I 2020-10-23 23:15:20,852]\u001b[0m Trial 13 finished with value: 0.0 and parameters: {'booster': 'dart', 'tree_method': 'hist', 'eta': 0.0016938036694988837, 'gamma': 4.217384618643962, 'max_depth': 6, 'min_child_weight': 0.20527980002227514, 'max_delta_step': 1.0076180582588743e-05, 'reg_lambda': 0.009836625773400403, 'scale_pos_weight': 0.468147721177992}. Best is trial 1 with value: 0.0.\u001b[0m\n",
      "\u001b[32m[I 2020-10-23 23:15:21,656]\u001b[0m Trial 14 finished with value: 0.0 and parameters: {'booster': 'dart', 'tree_method': 'hist', 'eta': 0.030382423929708673, 'gamma': 0.002598963579036591, 'max_depth': 10, 'min_child_weight': 1.144515900641152e-05, 'max_delta_step': 4.512519217706678e-05, 'reg_lambda': 0.041915816510725845, 'scale_pos_weight': 0.13005321700231823}. Best is trial 1 with value: 0.0.\u001b[0m\n",
      "\u001b[32m[I 2020-10-23 23:15:21,996]\u001b[0m Trial 15 finished with value: 0.0 and parameters: {'booster': 'gbtree', 'tree_method': 'hist', 'eta': 0.005900623508518737, 'gamma': 0.030557443226914935, 'max_depth': 8, 'min_child_weight': 0.001219575739216009, 'max_delta_step': 0.003927482996271779, 'reg_lambda': 0.3334339088745773, 'scale_pos_weight': 0.009004560672187094}. Best is trial 1 with value: 0.0.\u001b[0m\n",
      "\u001b[32m[I 2020-10-23 23:15:22,788]\u001b[0m Trial 16 finished with value: 0.0 and parameters: {'booster': 'dart', 'tree_method': 'hist', 'eta': 0.00030200218022077515, 'gamma': 0.7041861084452313, 'max_depth': 2, 'min_child_weight': 0.00010376189738869251, 'max_delta_step': 5.2153348455148484e-05, 'reg_lambda': 0.0011441357160844048, 'scale_pos_weight': 0.00044761881230532467}. Best is trial 1 with value: 0.0.\u001b[0m\n",
      "\u001b[32m[I 2020-10-23 23:15:23,868]\u001b[0m Trial 17 finished with value: 0.0 and parameters: {'booster': 'dart', 'tree_method': 'exact', 'eta': 8.080685787897168e-05, 'gamma': 0.6581176584678907, 'max_depth': 2, 'min_child_weight': 0.008570235419288766, 'max_delta_step': 0.00010861634245527375, 'reg_lambda': 0.0002445573090802431, 'scale_pos_weight': 0.00035298014402832196}. Best is trial 1 with value: 0.0.\u001b[0m\n",
      "\u001b[32m[I 2020-10-23 23:15:25,012]\u001b[0m Trial 18 finished with value: 0.0 and parameters: {'booster': 'dart', 'tree_method': 'exact', 'eta': 1.0407261048962409e-05, 'gamma': 1.527084110402388, 'max_depth': 2, 'min_child_weight': 0.004415761458003319, 'max_delta_step': 0.0013466662460805006, 'reg_lambda': 0.0002727020420198761, 'scale_pos_weight': 1.2254660685808449e-05}. Best is trial 1 with value: 0.0.\u001b[0m\n",
      "\u001b[32m[I 2020-10-23 23:15:25,326]\u001b[0m Trial 19 finished with value: 0.0 and parameters: {'booster': 'gbtree', 'tree_method': 'hist', 'eta': 0.00020488437082072903, 'gamma': 0.48458700741260863, 'max_depth': 3, 'min_child_weight': 0.03697809104234767, 'max_delta_step': 0.0007742038523132995, 'reg_lambda': 0.0013641264268699387, 'scale_pos_weight': 0.0005224072578161923}. Best is trial 1 with value: 0.0.\u001b[0m\n",
      "\u001b[32m[I 2020-10-23 23:15:26,648]\u001b[0m Trial 20 finished with value: 0.0 and parameters: {'booster': 'dart', 'tree_method': 'exact', 'eta': 4.647838943299771e-05, 'gamma': 8.359710474051045, 'max_depth': 5, 'min_child_weight': 0.008161381869077765, 'max_delta_step': 0.017244589206842156, 'reg_lambda': 9.943959095987322e-05, 'scale_pos_weight': 0.0001398918114903262}. Best is trial 1 with value: 0.0.\u001b[0m\n",
      "\u001b[32m[I 2020-10-23 23:15:27,700]\u001b[0m Trial 21 finished with value: 0.0 and parameters: {'booster': 'dart', 'tree_method': 'exact', 'eta': 1.832440222806969e-05, 'gamma': 2.4312504574943903, 'max_depth': 1, 'min_child_weight': 0.0042387279327586866, 'max_delta_step': 0.0018837764256657997, 'reg_lambda': 0.00030618323038183207, 'scale_pos_weight': 1.9198958316852222e-05}. Best is trial 1 with value: 0.0.\u001b[0m\n",
      "\u001b[32m[I 2020-10-23 23:15:28,614]\u001b[0m Trial 22 finished with value: 0.0 and parameters: {'booster': 'gbtree', 'tree_method': 'exact', 'eta': 1.4343967595107387e-05, 'gamma': 8.985994418880644, 'max_depth': 2, 'min_child_weight': 0.8621295329239607, 'max_delta_step': 0.14105694538051616, 'reg_lambda': 2.4303405056158178e-05, 'scale_pos_weight': 1.439096302623854e-05}. Best is trial 1 with value: 0.0.\u001b[0m\n",
      "\u001b[32m[I 2020-10-23 23:15:29,509]\u001b[0m Trial 23 finished with value: 0.0 and parameters: {'booster': 'gbtree', 'tree_method': 'exact', 'eta': 4.6686393431075147e-05, 'gamma': 0.0072081635691024154, 'max_depth': 6, 'min_child_weight': 0.051873425350257074, 'max_delta_step': 0.021128487287282408, 'reg_lambda': 0.005517386446487348, 'scale_pos_weight': 0.0009038875132429648}. Best is trial 1 with value: 0.0.\u001b[0m\n",
      "\u001b[32m[I 2020-10-23 23:15:31,676]\u001b[0m Trial 24 finished with value: 0.05473684210526315 and parameters: {'booster': 'dart', 'tree_method': 'exact', 'eta': 3.731366752069409e-05, 'gamma': 0.0007630055879303485, 'max_depth': 5, 'min_child_weight': 2.058905453555849e-05, 'max_delta_step': 0.15440101250270757, 'reg_lambda': 7.437967873062322e-05, 'scale_pos_weight': 8.573063213130964e-05}. Best is trial 1 with value: 0.0.\u001b[0m\n",
      "\u001b[32m[I 2020-10-23 23:15:31,985]\u001b[0m Trial 25 finished with value: 0.0 and parameters: {'booster': 'gbtree', 'tree_method': 'hist', 'eta': 0.00047420445119800955, 'gamma': 0.13548192064301282, 'max_depth': 3, 'min_child_weight': 0.0008623718614267834, 'max_delta_step': 0.005816192352428771, 'reg_lambda': 0.17044284631541234, 'scale_pos_weight': 8.713028151193925e-05}. Best is trial 1 with value: 0.0.\u001b[0m\n",
      "\u001b[32m[I 2020-10-23 23:15:32,744]\u001b[0m Trial 26 finished with value: 0.0 and parameters: {'booster': 'gbtree', 'tree_method': 'exact', 'eta': 0.0013290591833075177, 'gamma': 0.012223105925821811, 'max_depth': 1, 'min_child_weight': 0.7662224705091438, 'max_delta_step': 0.10569278606990376, 'reg_lambda': 1.5948904757898213e-05, 'scale_pos_weight': 0.008531525335901013}. Best is trial 1 with value: 0.0.\u001b[0m\n",
      "\u001b[32m[I 2020-10-23 23:15:34,535]\u001b[0m Trial 27 finished with value: 0.20822622107969155 and parameters: {'booster': 'gbtree', 'tree_method': 'exact', 'eta': 0.0013678864460305697, 'gamma': 8.510935481707735, 'max_depth': 6, 'min_child_weight': 0.9393670645391546, 'max_delta_step': 0.824218431288323, 'reg_lambda': 0.007893766933118745, 'scale_pos_weight': 0.6062616023445109}. Best is trial 1 with value: 0.0.\u001b[0m\n",
      "\u001b[32m[I 2020-10-23 23:15:36,446]\u001b[0m Trial 28 finished with value: 0.16984858459512836 and parameters: {'booster': 'gbtree', 'tree_method': 'exact', 'eta': 9.835923713147903e-05, 'gamma': 3.330682780453747, 'max_depth': 6, 'min_child_weight': 0.066654673865212, 'max_delta_step': 0.2971717021933888, 'reg_lambda': 0.006897495131971734, 'scale_pos_weight': 0.18011253920649206}. Best is trial 1 with value: 0.0.\u001b[0m\n"
     ]
    },
    {
     "name": "stderr",
     "output_type": "stream",
     "text": [
      "\u001b[32m[I 2020-10-23 23:15:37,565]\u001b[0m Trial 29 finished with value: 0.11042944785276072 and parameters: {'booster': 'gbtree', 'tree_method': 'exact', 'eta': 0.052706115842149605, 'gamma': 0.0012822035852928216, 'max_depth': 10, 'min_child_weight': 1.5174470746490134, 'max_delta_step': 0.03253797324366774, 'reg_lambda': 0.043560669460041154, 'scale_pos_weight': 0.09785265230736492}. Best is trial 1 with value: 0.0.\u001b[0m\n",
      "\u001b[32m[I 2020-10-23 23:15:39,146]\u001b[0m Trial 30 finished with value: 0.10655737704918034 and parameters: {'booster': 'gbtree', 'tree_method': 'exact', 'eta': 0.007300231489686599, 'gamma': 3.700341735069635e-05, 'max_depth': 9, 'min_child_weight': 0.06631813846273396, 'max_delta_step': 0.07730731533542795, 'reg_lambda': 0.000697055466279656, 'scale_pos_weight': 0.08428997457347438}. Best is trial 1 with value: 0.0.\u001b[0m\n",
      "\u001b[32m[I 2020-10-23 23:15:39,909]\u001b[0m Trial 31 finished with value: 0.0 and parameters: {'booster': 'gbtree', 'tree_method': 'exact', 'eta': 2.2367406519082548e-05, 'gamma': 0.03629496097995627, 'max_depth': 8, 'min_child_weight': 0.002716298522176498, 'max_delta_step': 0.002512940098462406, 'reg_lambda': 0.7879592487338268, 'scale_pos_weight': 1.1078491414647096e-05}. Best is trial 1 with value: 0.0.\u001b[0m\n",
      "\u001b[32m[I 2020-10-23 23:15:40,233]\u001b[0m Trial 32 finished with value: 0.0 and parameters: {'booster': 'gbtree', 'tree_method': 'hist', 'eta': 0.000521864918124599, 'gamma': 0.16213442537369147, 'max_depth': 8, 'min_child_weight': 0.00037318881459348977, 'max_delta_step': 0.006288833108695844, 'reg_lambda': 0.37272831792711475, 'scale_pos_weight': 0.007015510523751358}. Best is trial 1 with value: 0.0.\u001b[0m\n",
      "\u001b[32m[I 2020-10-23 23:15:40,568]\u001b[0m Trial 33 finished with value: 0.0 and parameters: {'booster': 'gbtree', 'tree_method': 'hist', 'eta': 0.00039591137062155784, 'gamma': 0.007835244700427114, 'max_depth': 3, 'min_child_weight': 8.576240443517647e-05, 'max_delta_step': 0.017308826828278733, 'reg_lambda': 0.1449692620299346, 'scale_pos_weight': 0.0012825843961200508}. Best is trial 1 with value: 0.0.\u001b[0m\n",
      "\u001b[32m[I 2020-10-23 23:15:41,678]\u001b[0m Trial 34 finished with value: 0.0 and parameters: {'booster': 'gbtree', 'tree_method': 'exact', 'eta': 0.0014369491762571938, 'gamma': 0.03286384222450291, 'max_depth': 2, 'min_child_weight': 6.45261028672429e-05, 'max_delta_step': 0.0028914697747648406, 'reg_lambda': 0.7192076932298893, 'scale_pos_weight': 3.747040623498483e-05}. Best is trial 1 with value: 0.0.\u001b[0m\n",
      "\u001b[32m[I 2020-10-23 23:15:42,801]\u001b[0m Trial 35 finished with value: 0.0 and parameters: {'booster': 'gbtree', 'tree_method': 'exact', 'eta': 9.373453610499658e-05, 'gamma': 0.24458965393523904, 'max_depth': 8, 'min_child_weight': 0.00030694232274271216, 'max_delta_step': 0.00012362690164754894, 'reg_lambda': 1.5048183446863501e-05, 'scale_pos_weight': 0.007394012998642392}. Best is trial 1 with value: 0.0.\u001b[0m\n",
      "\u001b[32m[I 2020-10-23 23:15:43,128]\u001b[0m Trial 36 finished with value: 0.0 and parameters: {'booster': 'gbtree', 'tree_method': 'hist', 'eta': 0.00011868526950309332, 'gamma': 0.06229338819139394, 'max_depth': 7, 'min_child_weight': 4.665581996204155e-05, 'max_delta_step': 0.011826741181850208, 'reg_lambda': 0.45570091961280174, 'scale_pos_weight': 0.0015309976116339007}. Best is trial 1 with value: 0.0.\u001b[0m\n",
      "\u001b[32m[I 2020-10-23 23:15:43,471]\u001b[0m Trial 37 finished with value: 0.0 and parameters: {'booster': 'gbtree', 'tree_method': 'hist', 'eta': 0.000582184568451662, 'gamma': 0.013256806491597892, 'max_depth': 2, 'min_child_weight': 4.8790808752668295e-05, 'max_delta_step': 0.0005854978839665271, 'reg_lambda': 0.09732988887431687, 'scale_pos_weight': 3.208188890108226e-05}. Best is trial 1 with value: 0.0.\u001b[0m\n"
     ]
    },
    {
     "name": "stdout",
     "output_type": "stream",
     "text": [
      "[23:15:43] WARNING: /Users/runner/miniforge3/conda-bld/xgboost_1598185652448/work/src/learner.cc:516: \n",
      "Parameters: { gamma, max_delta_step, max_depth, min_child_weight, tree_method } might not be used.\n",
      "\n",
      "  This may not be accurate due to some parameters are only used in language bindings but\n",
      "  passed down to XGBoost core.  Or some parameters are not used but slip through this\n",
      "  verification. Please open an issue if you find above cases.\n",
      "\n",
      "\n"
     ]
    },
    {
     "name": "stderr",
     "output_type": "stream",
     "text": [
      "\u001b[32m[I 2020-10-23 23:15:44,144]\u001b[0m Trial 38 finished with value: 0.0 and parameters: {'booster': 'gblinear', 'tree_method': 'exact', 'eta': 0.001906985598336351, 'gamma': 0.3324448498058711, 'max_depth': 3, 'min_child_weight': 0.00023697213683985808, 'max_delta_step': 0.001573107765988244, 'reg_lambda': 0.0001373227559351952, 'scale_pos_weight': 4.1642167616739206e-05}. Best is trial 1 with value: 0.0.\u001b[0m\n",
      "\u001b[32m[I 2020-10-23 23:15:44,734]\u001b[0m Trial 39 finished with value: 0.0 and parameters: {'booster': 'gbtree', 'tree_method': 'hist', 'eta': 0.0001109353712033817, 'gamma': 0.060185578406401215, 'max_depth': 7, 'min_child_weight': 3.09109049748968e-05, 'max_delta_step': 0.0005848406998376487, 'reg_lambda': 0.5542586275992704, 'scale_pos_weight': 0.0056451597813396105}. Best is trial 1 with value: 0.0.\u001b[0m\n"
     ]
    },
    {
     "name": "stdout",
     "output_type": "stream",
     "text": [
      "[23:15:44] WARNING: /Users/runner/miniforge3/conda-bld/xgboost_1598185652448/work/src/learner.cc:516: \n",
      "Parameters: { gamma, max_delta_step, max_depth, min_child_weight, tree_method } might not be used.\n",
      "\n",
      "  This may not be accurate due to some parameters are only used in language bindings but\n",
      "  passed down to XGBoost core.  Or some parameters are not used but slip through this\n",
      "  verification. Please open an issue if you find above cases.\n",
      "\n",
      "\n"
     ]
    },
    {
     "name": "stderr",
     "output_type": "stream",
     "text": [
      "\u001b[32m[I 2020-10-23 23:15:45,374]\u001b[0m Trial 40 finished with value: 0.0 and parameters: {'booster': 'gblinear', 'tree_method': 'exact', 'eta': 3.781332886302014e-05, 'gamma': 1.4324187248850728, 'max_depth': 5, 'min_child_weight': 0.019998123511979694, 'max_delta_step': 0.0008616272244192865, 'reg_lambda': 0.0001303651484499583, 'scale_pos_weight': 0.0001453079086210817}. Best is trial 1 with value: 0.0.\u001b[0m\n",
      "\u001b[32m[I 2020-10-23 23:15:47,261]\u001b[0m Trial 41 finished with value: 0.0 and parameters: {'booster': 'dart', 'tree_method': 'exact', 'eta': 3.9411489722566846e-05, 'gamma': 9.885898596889128, 'max_depth': 5, 'min_child_weight': 0.008850714848630007, 'max_delta_step': 0.028645717657259522, 'reg_lambda': 5.0418572965859576e-05, 'scale_pos_weight': 1.694391366647687e-05}. Best is trial 1 with value: 0.0.\u001b[0m\n"
     ]
    },
    {
     "name": "stdout",
     "output_type": "stream",
     "text": [
      "[23:15:47] WARNING: /Users/runner/miniforge3/conda-bld/xgboost_1598185652448/work/src/learner.cc:516: \n",
      "Parameters: { gamma, max_delta_step, max_depth, min_child_weight, tree_method } might not be used.\n",
      "\n",
      "  This may not be accurate due to some parameters are only used in language bindings but\n",
      "  passed down to XGBoost core.  Or some parameters are not used but slip through this\n",
      "  verification. Please open an issue if you find above cases.\n",
      "\n",
      "\n"
     ]
    },
    {
     "name": "stderr",
     "output_type": "stream",
     "text": [
      "\u001b[32m[I 2020-10-23 23:15:47,863]\u001b[0m Trial 42 finished with value: 0.0 and parameters: {'booster': 'gblinear', 'tree_method': 'exact', 'eta': 3.7888981702492586e-05, 'gamma': 1.6087322336596566, 'max_depth': 5, 'min_child_weight': 0.0028982509506822384, 'max_delta_step': 0.4225028960753298, 'reg_lambda': 3.25558822202528e-05, 'scale_pos_weight': 0.0002070897503921449}. Best is trial 1 with value: 0.0.\u001b[0m\n",
      "\u001b[32m[I 2020-10-23 23:15:49,599]\u001b[0m Trial 43 finished with value: 0.0 and parameters: {'booster': 'dart', 'tree_method': 'exact', 'eta': 1.7409081094194184e-05, 'gamma': 2.7275094053327904, 'max_depth': 1, 'min_child_weight': 0.0011552135707064432, 'max_delta_step': 0.040872805040289256, 'reg_lambda': 2.669202096820569e-05, 'scale_pos_weight': 1.5971523934632435e-05}. Best is trial 1 with value: 0.0.\u001b[0m\n"
     ]
    },
    {
     "name": "stdout",
     "output_type": "stream",
     "text": [
      "[23:15:49] WARNING: /Users/runner/miniforge3/conda-bld/xgboost_1598185652448/work/src/learner.cc:516: \n",
      "Parameters: { gamma, max_delta_step, max_depth, min_child_weight, tree_method } might not be used.\n",
      "\n",
      "  This may not be accurate due to some parameters are only used in language bindings but\n",
      "  passed down to XGBoost core.  Or some parameters are not used but slip through this\n",
      "  verification. Please open an issue if you find above cases.\n",
      "\n",
      "\n"
     ]
    },
    {
     "name": "stderr",
     "output_type": "stream",
     "text": [
      "\u001b[32m[I 2020-10-23 23:15:51,059]\u001b[0m Trial 44 finished with value: 0.0 and parameters: {'booster': 'gblinear', 'tree_method': 'exact', 'eta': 1.2265642389202225e-05, 'gamma': 2.241266629468826, 'max_depth': 4, 'min_child_weight': 0.0030125354638459874, 'max_delta_step': 0.5012242814422841, 'reg_lambda': 0.0005679136168718195, 'scale_pos_weight': 7.298956584496542e-05}. Best is trial 1 with value: 0.0.\u001b[0m\n",
      "\u001b[32m[I 2020-10-23 23:15:53,875]\u001b[0m Trial 45 finished with value: 0.0 and parameters: {'booster': 'gbtree', 'tree_method': 'exact', 'eta': 0.003015361988907692, 'gamma': 0.0046645877575428275, 'max_depth': 1, 'min_child_weight': 0.4920375757591888, 'max_delta_step': 0.08287163553989013, 'reg_lambda': 1.722100555636251e-05, 'scale_pos_weight': 0.003792077076553173}. Best is trial 1 with value: 0.0.\u001b[0m\n"
     ]
    },
    {
     "name": "stdout",
     "output_type": "stream",
     "text": [
      "[23:15:54] WARNING: /Users/runner/miniforge3/conda-bld/xgboost_1598185652448/work/src/learner.cc:516: \n",
      "Parameters: { gamma, max_delta_step, max_depth, min_child_weight, tree_method } might not be used.\n",
      "\n",
      "  This may not be accurate due to some parameters are only used in language bindings but\n",
      "  passed down to XGBoost core.  Or some parameters are not used but slip through this\n",
      "  verification. Please open an issue if you find above cases.\n",
      "\n",
      "\n"
     ]
    },
    {
     "name": "stderr",
     "output_type": "stream",
     "text": [
      "\u001b[32m[I 2020-10-23 23:15:54,804]\u001b[0m Trial 46 finished with value: 0.0 and parameters: {'booster': 'gblinear', 'tree_method': 'exact', 'eta': 1.1389371050463325e-05, 'gamma': 0.12078482560550778, 'max_depth': 4, 'min_child_weight': 4.344477533617329, 'max_delta_step': 0.19541916232588977, 'reg_lambda': 0.0034501276725188907, 'scale_pos_weight': 0.0006854872875530521}. Best is trial 1 with value: 0.0.\u001b[0m\n",
      "\u001b[32m[I 2020-10-23 23:15:56,252]\u001b[0m Trial 47 finished with value: 0.0 and parameters: {'booster': 'gbtree', 'tree_method': 'exact', 'eta': 0.0008385882477029257, 'gamma': 0.004689209798691294, 'max_depth': 3, 'min_child_weight': 0.6103663830163623, 'max_delta_step': 0.0059459070911644365, 'reg_lambda': 1.2166191309572305e-05, 'scale_pos_weight': 0.003475124846248742}. Best is trial 1 with value: 0.0.\u001b[0m\n"
     ]
    },
    {
     "name": "stdout",
     "output_type": "stream",
     "text": [
      "[23:15:56] WARNING: /Users/runner/miniforge3/conda-bld/xgboost_1598185652448/work/src/learner.cc:516: \n",
      "Parameters: { gamma, max_delta_step, max_depth, min_child_weight, tree_method } might not be used.\n",
      "\n",
      "  This may not be accurate due to some parameters are only used in language bindings but\n",
      "  passed down to XGBoost core.  Or some parameters are not used but slip through this\n",
      "  verification. Please open an issue if you find above cases.\n",
      "\n",
      "\n"
     ]
    },
    {
     "name": "stderr",
     "output_type": "stream",
     "text": [
      "\u001b[32m[I 2020-10-23 23:15:57,023]\u001b[0m Trial 48 finished with value: 0.0 and parameters: {'booster': 'gblinear', 'tree_method': 'exact', 'eta': 2.4197296422096157e-05, 'gamma': 0.020768430033510126, 'max_depth': 4, 'min_child_weight': 3.522305020209969, 'max_delta_step': 0.07928752734175006, 'reg_lambda': 0.01767946421882861, 'scale_pos_weight': 0.01620794170714421}. Best is trial 1 with value: 0.0.\u001b[0m\n",
      "\u001b[32m[I 2020-10-23 23:15:59,091]\u001b[0m Trial 49 finished with value: 0.11042944785276072 and parameters: {'booster': 'gbtree', 'tree_method': 'exact', 'eta': 0.0008651981753328471, 'gamma': 0.014265177847008014, 'max_depth': 3, 'min_child_weight': 2.4094882848073054, 'max_delta_step': 0.0058455447440069214, 'reg_lambda': 0.015673102709899328, 'scale_pos_weight': 0.04776275143971034}. Best is trial 1 with value: 0.0.\u001b[0m\n"
     ]
    },
    {
     "name": "stdout",
     "output_type": "stream",
     "text": [
      "[23:15:59] WARNING: /Users/runner/miniforge3/conda-bld/xgboost_1598185652448/work/src/learner.cc:516: \n",
      "Parameters: { gamma, max_delta_step, max_depth, min_child_weight, tree_method } might not be used.\n",
      "\n",
      "  This may not be accurate due to some parameters are only used in language bindings but\n",
      "  passed down to XGBoost core.  Or some parameters are not used but slip through this\n",
      "  verification. Please open an issue if you find above cases.\n",
      "\n",
      "\n"
     ]
    },
    {
     "name": "stderr",
     "output_type": "stream",
     "text": [
      "\u001b[32m[I 2020-10-23 23:15:59,727]\u001b[0m Trial 50 finished with value: 0.0 and parameters: {'booster': 'gblinear', 'tree_method': 'exact', 'eta': 0.0009201976852277481, 'gamma': 0.01879136537419807, 'max_depth': 4, 'min_child_weight': 8.74990299766748, 'max_delta_step': 0.07128218950708154, 'reg_lambda': 1.004460109218735e-05, 'scale_pos_weight': 0.01361518572402117}. Best is trial 1 with value: 0.0.\u001b[0m\n",
      "\u001b[32m[I 2020-10-23 23:16:00,182]\u001b[0m Trial 51 finished with value: 0.0 and parameters: {'booster': 'gbtree', 'tree_method': 'hist', 'eta': 0.00041569498634304357, 'gamma': 0.03164581464868499, 'max_depth': 8, 'min_child_weight': 0.0001963479337539317, 'max_delta_step': 0.0029886315233070837, 'reg_lambda': 0.13626529261916337, 'scale_pos_weight': 0.0014770049906139048}. Best is trial 1 with value: 0.0.\u001b[0m\n",
      "\u001b[32m[I 2020-10-23 23:16:00,626]\u001b[0m Trial 52 finished with value: 0.0 and parameters: {'booster': 'gbtree', 'tree_method': 'hist', 'eta': 0.0003145235371719587, 'gamma': 0.11882521555358697, 'max_depth': 9, 'min_child_weight': 0.0005638296640556986, 'max_delta_step': 0.009156398504037776, 'reg_lambda': 0.9386840938159194, 'scale_pos_weight': 1.0002148715760045e-05}. Best is trial 1 with value: 0.0.\u001b[0m\n",
      "\u001b[32m[I 2020-10-23 23:16:01,138]\u001b[0m Trial 53 finished with value: 0.0 and parameters: {'booster': 'gbtree', 'tree_method': 'hist', 'eta': 0.0031411398251966925, 'gamma': 0.03480474790264362, 'max_depth': 8, 'min_child_weight': 0.0001760929532685074, 'max_delta_step': 0.0039016620770951443, 'reg_lambda': 0.20962395797339187, 'scale_pos_weight': 0.001359418313756339}. Best is trial 1 with value: 0.0.\u001b[0m\n",
      "\u001b[32m[I 2020-10-23 23:16:02,796]\u001b[0m Trial 54 finished with value: 0.0 and parameters: {'booster': 'gbtree', 'tree_method': 'exact', 'eta': 0.000170485205991091, 'gamma': 0.19368650720468314, 'max_depth': 8, 'min_child_weight': 0.0003872480884220063, 'max_delta_step': 0.0029316343588056937, 'reg_lambda': 0.8817928115075352, 'scale_pos_weight': 0.006313816712499794}. Best is trial 1 with value: 0.0.\u001b[0m\n",
      "\u001b[32m[I 2020-10-23 23:16:03,279]\u001b[0m Trial 55 finished with value: 0.0 and parameters: {'booster': 'gbtree', 'tree_method': 'hist', 'eta': 0.0002578387341256532, 'gamma': 0.025044026123078697, 'max_depth': 9, 'min_child_weight': 0.0001781773173597195, 'max_delta_step': 0.010512719525431851, 'reg_lambda': 0.28834560609226617, 'scale_pos_weight': 0.010847944196680047}. Best is trial 1 with value: 0.0.\u001b[0m\n",
      "\u001b[32m[I 2020-10-23 23:16:03,694]\u001b[0m Trial 56 finished with value: 0.0 and parameters: {'booster': 'gbtree', 'tree_method': 'hist', 'eta': 0.00023178199208222304, 'gamma': 0.03841148184684188, 'max_depth': 8, 'min_child_weight': 0.00014280102771942093, 'max_delta_step': 0.0026696775172111633, 'reg_lambda': 0.26817823948614733, 'scale_pos_weight': 0.0017364522762560908}. Best is trial 1 with value: 0.0.\u001b[0m\n",
      "\u001b[32m[I 2020-10-23 23:16:04,072]\u001b[0m Trial 57 finished with value: 0.0 and parameters: {'booster': 'gbtree', 'tree_method': 'hist', 'eta': 0.0002704201892898179, 'gamma': 0.07236487509468374, 'max_depth': 9, 'min_child_weight': 0.00014479110809140325, 'max_delta_step': 0.010062166575173436, 'reg_lambda': 0.2960938504218622, 'scale_pos_weight': 0.002442464360064325}. Best is trial 1 with value: 0.0.\u001b[0m\n",
      "\u001b[32m[I 2020-10-23 23:16:04,450]\u001b[0m Trial 58 finished with value: 0.0 and parameters: {'booster': 'gbtree', 'tree_method': 'hist', 'eta': 0.00016792887782632803, 'gamma': 0.0457854769107299, 'max_depth': 8, 'min_child_weight': 0.00046122540030953834, 'max_delta_step': 0.0021010147491479325, 'reg_lambda': 0.299362875422611, 'scale_pos_weight': 0.0021780005705655157}. Best is trial 1 with value: 0.0.\u001b[0m\n",
      "\u001b[32m[I 2020-10-23 23:16:04,829]\u001b[0m Trial 59 finished with value: 0.0 and parameters: {'booster': 'gbtree', 'tree_method': 'hist', 'eta': 6.1050179891428e-05, 'gamma': 0.20893795707040255, 'max_depth': 10, 'min_child_weight': 0.00043118877731349666, 'max_delta_step': 0.010034643468983258, 'reg_lambda': 0.3450490002474987, 'scale_pos_weight': 0.043636391809890096}. Best is trial 1 with value: 0.0.\u001b[0m\n",
      "\u001b[32m[I 2020-10-23 23:16:05,204]\u001b[0m Trial 60 finished with value: 0.10655737704918034 and parameters: {'booster': 'gbtree', 'tree_method': 'hist', 'eta': 0.00016037495632944147, 'gamma': 0.007802461302779006, 'max_depth': 10, 'min_child_weight': 0.0018910343834316486, 'max_delta_step': 0.017638187688968555, 'reg_lambda': 0.06407306469510558, 'scale_pos_weight': 0.06283264694664817}. Best is trial 1 with value: 0.0.\u001b[0m\n",
      "\u001b[32m[I 2020-10-23 23:16:05,554]\u001b[0m Trial 61 finished with value: 0.0 and parameters: {'booster': 'gbtree', 'tree_method': 'hist', 'eta': 0.0005849754307154932, 'gamma': 0.04824107825227047, 'max_depth': 7, 'min_child_weight': 7.615458991607571e-05, 'max_delta_step': 0.0021727953198503003, 'reg_lambda': 0.6890978003202282, 'scale_pos_weight': 0.0042968585088048105}. Best is trial 1 with value: 0.0.\u001b[0m\n",
      "\u001b[32m[I 2020-10-23 23:16:05,928]\u001b[0m Trial 62 finished with value: 0.0 and parameters: {'booster': 'gbtree', 'tree_method': 'hist', 'eta': 0.0003882177334436513, 'gamma': 0.10370159252693616, 'max_depth': 9, 'min_child_weight': 6.379358445740428e-05, 'max_delta_step': 0.0023632374810387225, 'reg_lambda': 0.6227881471114972, 'scale_pos_weight': 0.0021445199945272385}. Best is trial 1 with value: 0.0.\u001b[0m\n",
      "\u001b[32m[I 2020-10-23 23:16:07,559]\u001b[0m Trial 63 finished with value: 0.0 and parameters: {'booster': 'gbtree', 'tree_method': 'exact', 'eta': 0.006164784643058881, 'gamma': 0.372552888610933, 'max_depth': 2, 'min_child_weight': 4.442302228685877e-05, 'max_delta_step': 0.0004022755992221716, 'reg_lambda': 0.10435250355602173, 'scale_pos_weight': 3.8813450390509545e-05}. Best is trial 1 with value: 0.0.\u001b[0m\n"
     ]
    },
    {
     "name": "stdout",
     "output_type": "stream",
     "text": [
      "[23:16:07] WARNING: /Users/runner/miniforge3/conda-bld/xgboost_1598185652448/work/src/learner.cc:516: \n",
      "Parameters: { gamma, max_delta_step, max_depth, min_child_weight, tree_method } might not be used.\n",
      "\n",
      "  This may not be accurate due to some parameters are only used in language bindings but\n",
      "  passed down to XGBoost core.  Or some parameters are not used but slip through this\n",
      "  verification. Please open an issue if you find above cases.\n",
      "\n",
      "\n"
     ]
    },
    {
     "name": "stderr",
     "output_type": "stream",
     "text": [
      "\u001b[32m[I 2020-10-23 23:16:08,455]\u001b[0m Trial 64 finished with value: 0.0 and parameters: {'booster': 'gblinear', 'tree_method': 'exact', 'eta': 0.0022009925940631595, 'gamma': 0.26934905593569636, 'max_depth': 2, 'min_child_weight': 1.7189166390747237e-05, 'max_delta_step': 0.00010349772262989265, 'reg_lambda': 0.09278483881512004, 'scale_pos_weight': 3.277613440085193e-05}. Best is trial 1 with value: 0.0.\u001b[0m\n",
      "\u001b[32m[I 2020-10-23 23:16:08,956]\u001b[0m Trial 65 finished with value: 0.0 and parameters: {'booster': 'gbtree', 'tree_method': 'hist', 'eta': 0.0017222097292893754, 'gamma': 0.0014812720389788603, 'max_depth': 7, 'min_child_weight': 0.00027120949891161266, 'max_delta_step': 0.00017188577920365989, 'reg_lambda': 0.032428878498735665, 'scale_pos_weight': 3.864002401614359e-05}. Best is trial 1 with value: 0.0.\u001b[0m\n",
      "\u001b[32m[I 2020-10-23 23:16:09,363]\u001b[0m Trial 66 finished with value: 0.0 and parameters: {'booster': 'gbtree', 'tree_method': 'hist', 'eta': 0.00010691324782296019, 'gamma': 0.06658403072800556, 'max_depth': 7, 'min_child_weight': 3.4432277893348014e-05, 'max_delta_step': 0.0005830591977914502, 'reg_lambda': 0.42491937277797087, 'scale_pos_weight': 0.007056642101450249}. Best is trial 1 with value: 0.0.\u001b[0m\n",
      "\u001b[32m[I 2020-10-23 23:16:09,789]\u001b[0m Trial 67 finished with value: 0.0 and parameters: {'booster': 'gbtree', 'tree_method': 'hist', 'eta': 0.00011708794950133941, 'gamma': 0.7723354292607211, 'max_depth': 3, 'min_child_weight': 3.108176926317005e-05, 'max_delta_step': 0.0012760160064098482, 'reg_lambda': 0.6099369176035333, 'scale_pos_weight': 0.02651090775552722}. Best is trial 1 with value: 0.0.\u001b[0m\n"
     ]
    },
    {
     "name": "stdout",
     "output_type": "stream",
     "text": [
      "[23:16:09] WARNING: /Users/runner/miniforge3/conda-bld/xgboost_1598185652448/work/src/learner.cc:516: \n",
      "Parameters: { gamma, max_delta_step, max_depth, min_child_weight, tree_method } might not be used.\n",
      "\n",
      "  This may not be accurate due to some parameters are only used in language bindings but\n",
      "  passed down to XGBoost core.  Or some parameters are not used but slip through this\n",
      "  verification. Please open an issue if you find above cases.\n",
      "\n",
      "\n"
     ]
    },
    {
     "name": "stderr",
     "output_type": "stream",
     "text": [
      "\u001b[32m[I 2020-10-23 23:16:10,379]\u001b[0m Trial 68 finished with value: 0.0 and parameters: {'booster': 'gblinear', 'tree_method': 'hist', 'eta': 8.881764759664586e-05, 'gamma': 0.9220968346632116, 'max_depth': 7, 'min_child_weight': 0.01678599590904126, 'max_delta_step': 0.0005512996275047917, 'reg_lambda': 0.00010984354435251067, 'scale_pos_weight': 0.00015866306638295764}. Best is trial 1 with value: 0.0.\u001b[0m\n"
     ]
    },
    {
     "name": "stdout",
     "output_type": "stream",
     "text": [
      "[23:16:10] WARNING: /Users/runner/miniforge3/conda-bld/xgboost_1598185652448/work/src/learner.cc:516: \n",
      "Parameters: { gamma, max_delta_step, max_depth, min_child_weight, tree_method } might not be used.\n",
      "\n",
      "  This may not be accurate due to some parameters are only used in language bindings but\n",
      "  passed down to XGBoost core.  Or some parameters are not used but slip through this\n",
      "  verification. Please open an issue if you find above cases.\n",
      "\n",
      "\n"
     ]
    },
    {
     "name": "stderr",
     "output_type": "stream",
     "text": [
      "\u001b[32m[I 2020-10-23 23:16:11,022]\u001b[0m Trial 69 finished with value: 0.0 and parameters: {'booster': 'gblinear', 'tree_method': 'exact', 'eta': 7.054261180950212e-05, 'gamma': 0.3480969820047122, 'max_depth': 6, 'min_child_weight': 5.3369195485191365e-05, 'max_delta_step': 0.0008903414451535686, 'reg_lambda': 0.00012995947715375376, 'scale_pos_weight': 5.494232385299122e-05}. Best is trial 1 with value: 0.0.\u001b[0m\n"
     ]
    },
    {
     "name": "stdout",
     "output_type": "stream",
     "text": [
      "[23:16:11] WARNING: /Users/runner/miniforge3/conda-bld/xgboost_1598185652448/work/src/learner.cc:516: \n",
      "Parameters: { gamma, max_delta_step, max_depth, min_child_weight, tree_method } might not be used.\n",
      "\n",
      "  This may not be accurate due to some parameters are only used in language bindings but\n",
      "  passed down to XGBoost core.  Or some parameters are not used but slip through this\n",
      "  verification. Please open an issue if you find above cases.\n",
      "\n",
      "\n"
     ]
    },
    {
     "name": "stderr",
     "output_type": "stream",
     "text": [
      "\u001b[32m[I 2020-10-23 23:16:11,953]\u001b[0m Trial 70 finished with value: 0.0 and parameters: {'booster': 'gblinear', 'tree_method': 'exact', 'eta': 3.047861438783685e-05, 'gamma': 0.015844081194520944, 'max_depth': 5, 'min_child_weight': 1.0287367966412748e-05, 'max_delta_step': 0.0003005418611096394, 'reg_lambda': 0.00015082863072794612, 'scale_pos_weight': 2.5199450301647916e-05}. Best is trial 1 with value: 0.0.\u001b[0m\n"
     ]
    },
    {
     "name": "stdout",
     "output_type": "stream",
     "text": [
      "[23:16:12] WARNING: /Users/runner/miniforge3/conda-bld/xgboost_1598185652448/work/src/learner.cc:516: \n",
      "Parameters: { gamma, max_delta_step, max_depth, min_child_weight, tree_method } might not be used.\n",
      "\n",
      "  This may not be accurate due to some parameters are only used in language bindings but\n",
      "  passed down to XGBoost core.  Or some parameters are not used but slip through this\n",
      "  verification. Please open an issue if you find above cases.\n",
      "\n",
      "\n"
     ]
    },
    {
     "name": "stderr",
     "output_type": "stream",
     "text": [
      "\u001b[32m[I 2020-10-23 23:16:12,599]\u001b[0m Trial 71 finished with value: 0.0 and parameters: {'booster': 'gblinear', 'tree_method': 'exact', 'eta': 4.1368040632305654e-05, 'gamma': 1.2544614560499538, 'max_depth': 5, 'min_child_weight': 0.016632974142747687, 'max_delta_step': 0.00020593451352040706, 'reg_lambda': 4.2005708734861274e-05, 'scale_pos_weight': 0.00017579789971634827}. Best is trial 1 with value: 0.0.\u001b[0m\n",
      "\u001b[32m[I 2020-10-23 23:16:14,761]\u001b[0m Trial 72 finished with value: 0.0 and parameters: {'booster': 'dart', 'tree_method': 'exact', 'eta': 3.057495529547264e-05, 'gamma': 4.4737110388853605, 'max_depth': 5, 'min_child_weight': 0.001049526522241145, 'max_delta_step': 0.00010888238459476737, 'reg_lambda': 2.916206232867232e-05, 'scale_pos_weight': 0.00022235805255122498}. Best is trial 1 with value: 0.0.\u001b[0m\n"
     ]
    },
    {
     "name": "stdout",
     "output_type": "stream",
     "text": [
      "[23:16:14] WARNING: /Users/runner/miniforge3/conda-bld/xgboost_1598185652448/work/src/learner.cc:516: \n",
      "Parameters: { gamma, max_delta_step, max_depth, min_child_weight, tree_method } might not be used.\n",
      "\n",
      "  This may not be accurate due to some parameters are only used in language bindings but\n",
      "  passed down to XGBoost core.  Or some parameters are not used but slip through this\n",
      "  verification. Please open an issue if you find above cases.\n",
      "\n",
      "\n"
     ]
    },
    {
     "name": "stderr",
     "output_type": "stream",
     "text": [
      "\u001b[32m[I 2020-10-23 23:16:15,806]\u001b[0m Trial 73 finished with value: 0.0 and parameters: {'booster': 'gblinear', 'tree_method': 'exact', 'eta': 0.0008749156946769205, 'gamma': 0.004365455965091323, 'max_depth': 4, 'min_child_weight': 5.100961312665389, 'max_delta_step': 0.19930935133057265, 'reg_lambda': 1.118163371434172e-05, 'scale_pos_weight': 0.013744965330790402}. Best is trial 1 with value: 0.0.\u001b[0m\n"
     ]
    },
    {
     "name": "stdout",
     "output_type": "stream",
     "text": [
      "[23:16:15] WARNING: /Users/runner/miniforge3/conda-bld/xgboost_1598185652448/work/src/learner.cc:516: \n",
      "Parameters: { gamma, max_delta_step, max_depth, min_child_weight, tree_method } might not be used.\n",
      "\n",
      "  This may not be accurate due to some parameters are only used in language bindings but\n",
      "  passed down to XGBoost core.  Or some parameters are not used but slip through this\n",
      "  verification. Please open an issue if you find above cases.\n",
      "\n",
      "\n"
     ]
    },
    {
     "name": "stderr",
     "output_type": "stream",
     "text": [
      "\u001b[32m[I 2020-10-23 23:16:16,746]\u001b[0m Trial 74 finished with value: 0.0 and parameters: {'booster': 'gblinear', 'tree_method': 'hist', 'eta': 0.0010555280599865388, 'gamma': 0.020908718615298336, 'max_depth': 4, 'min_child_weight': 9.180620418550836, 'max_delta_step': 0.004335603353890739, 'reg_lambda': 0.0025658680590764306, 'scale_pos_weight': 0.0008799837712691194}. Best is trial 1 with value: 0.0.\u001b[0m\n"
     ]
    },
    {
     "name": "stdout",
     "output_type": "stream",
     "text": [
      "[23:16:16] WARNING: /Users/runner/miniforge3/conda-bld/xgboost_1598185652448/work/src/learner.cc:516: \n",
      "Parameters: { gamma, max_delta_step, max_depth, min_child_weight, tree_method } might not be used.\n",
      "\n",
      "  This may not be accurate due to some parameters are only used in language bindings but\n",
      "  passed down to XGBoost core.  Or some parameters are not used but slip through this\n",
      "  verification. Please open an issue if you find above cases.\n",
      "\n",
      "\n"
     ]
    },
    {
     "name": "stderr",
     "output_type": "stream",
     "text": [
      "\u001b[32m[I 2020-10-23 23:16:17,928]\u001b[0m Trial 75 finished with value: 0.0 and parameters: {'booster': 'gblinear', 'tree_method': 'hist', 'eta': 0.0037914445352465985, 'gamma': 0.010888682381664188, 'max_depth': 4, 'min_child_weight': 9.802421097693294, 'max_delta_step': 0.05760481940918123, 'reg_lambda': 0.018649760718228454, 'scale_pos_weight': 0.000660793206641162}. Best is trial 1 with value: 0.0.\u001b[0m\n",
      "\u001b[32m[I 2020-10-23 23:16:18,444]\u001b[0m Trial 76 finished with value: 0.05473684210526315 and parameters: {'booster': 'gbtree', 'tree_method': 'hist', 'eta': 0.0004005201998500139, 'gamma': 0.0020267273932108314, 'max_depth': 8, 'min_child_weight': 0.0006616812557287252, 'max_delta_step': 0.0033425808910864997, 'reg_lambda': 0.9598030500475548, 'scale_pos_weight': 0.005287351461020118}. Best is trial 1 with value: 0.0.\u001b[0m\n"
     ]
    },
    {
     "name": "stdout",
     "output_type": "stream",
     "text": [
      "[23:16:18] WARNING: /Users/runner/miniforge3/conda-bld/xgboost_1598185652448/work/src/learner.cc:516: \n",
      "Parameters: { gamma, max_delta_step, max_depth, min_child_weight, tree_method } might not be used.\n",
      "\n",
      "  This may not be accurate due to some parameters are only used in language bindings but\n",
      "  passed down to XGBoost core.  Or some parameters are not used but slip through this\n",
      "  verification. Please open an issue if you find above cases.\n",
      "\n",
      "\n"
     ]
    },
    {
     "name": "stderr",
     "output_type": "stream",
     "text": [
      "\u001b[32m[I 2020-10-23 23:16:19,210]\u001b[0m Trial 77 finished with value: 0.0 and parameters: {'booster': 'gblinear', 'tree_method': 'hist', 'eta': 5.3239773367367226e-05, 'gamma': 1.1117401091947126, 'max_depth': 5, 'min_child_weight': 0.03164979979813562, 'max_delta_step': 0.0014659879017151804, 'reg_lambda': 5.4660522186923044e-05, 'scale_pos_weight': 0.00010091021183032153}. Best is trial 1 with value: 0.0.\u001b[0m\n"
     ]
    },
    {
     "name": "stdout",
     "output_type": "stream",
     "text": [
      "[23:16:19] WARNING: /Users/runner/miniforge3/conda-bld/xgboost_1598185652448/work/src/learner.cc:516: \n",
      "Parameters: { gamma, max_delta_step, max_depth, min_child_weight, tree_method } might not be used.\n",
      "\n",
      "  This may not be accurate due to some parameters are only used in language bindings but\n",
      "  passed down to XGBoost core.  Or some parameters are not used but slip through this\n",
      "  verification. Please open an issue if you find above cases.\n",
      "\n",
      "\n"
     ]
    },
    {
     "name": "stderr",
     "output_type": "stream",
     "text": [
      "\u001b[32m[I 2020-10-23 23:16:20,630]\u001b[0m Trial 78 finished with value: 0.0 and parameters: {'booster': 'gblinear', 'tree_method': 'hist', 'eta': 0.0025132910299665934, 'gamma': 0.023772463920510894, 'max_depth': 9, 'min_child_weight': 0.00019578329641983168, 'max_delta_step': 0.004234200693779236, 'reg_lambda': 0.21513769762359466, 'scale_pos_weight': 0.018427240422406857}. Best is trial 1 with value: 0.0.\u001b[0m\n",
      "\u001b[32m[I 2020-10-23 23:16:21,127]\u001b[0m Trial 79 finished with value: 0.0 and parameters: {'booster': 'gbtree', 'tree_method': 'hist', 'eta': 0.00031364576678723634, 'gamma': 0.025085456894495598, 'max_depth': 9, 'min_child_weight': 0.00012358226738890966, 'max_delta_step': 0.012495171406269627, 'reg_lambda': 0.1491401008795318, 'scale_pos_weight': 0.011344184585223545}. Best is trial 1 with value: 0.0.\u001b[0m\n",
      "\u001b[32m[I 2020-10-23 23:16:21,891]\u001b[0m Trial 80 finished with value: 0.0 and parameters: {'booster': 'gbtree', 'tree_method': 'hist', 'eta': 0.00014297832174148855, 'gamma': 0.0849412183830092, 'max_depth': 8, 'min_child_weight': 0.000665064816459044, 'max_delta_step': 0.0069973022394096635, 'reg_lambda': 0.49954157727216364, 'scale_pos_weight': 0.021087489304676223}. Best is trial 1 with value: 0.0.\u001b[0m\n"
     ]
    },
    {
     "name": "stdout",
     "output_type": "stream",
     "text": [
      "[23:16:22] WARNING: /Users/runner/miniforge3/conda-bld/xgboost_1598185652448/work/src/learner.cc:516: \n",
      "Parameters: { gamma, max_delta_step, max_depth, min_child_weight, tree_method } might not be used.\n",
      "\n",
      "  This may not be accurate due to some parameters are only used in language bindings but\n",
      "  passed down to XGBoost core.  Or some parameters are not used but slip through this\n",
      "  verification. Please open an issue if you find above cases.\n",
      "\n",
      "\n"
     ]
    },
    {
     "name": "stderr",
     "output_type": "stream",
     "text": [
      "\u001b[32m[I 2020-10-23 23:16:22,755]\u001b[0m Trial 81 finished with value: 0.0 and parameters: {'booster': 'gblinear', 'tree_method': 'hist', 'eta': 0.00019766939194886655, 'gamma': 0.03133086544309868, 'max_depth': 8, 'min_child_weight': 0.00013475407231385383, 'max_delta_step': 0.0011376541166655482, 'reg_lambda': 0.23749046262508003, 'scale_pos_weight': 0.029671991782450367}. Best is trial 1 with value: 0.0.\u001b[0m\n",
      "\u001b[32m[I 2020-10-23 23:16:23,944]\u001b[0m Trial 82 finished with value: 0.0 and parameters: {'booster': 'gbtree', 'tree_method': 'hist', 'eta': 0.00023081357030513738, 'gamma': 0.04265002463780804, 'max_depth': 9, 'min_child_weight': 0.00016942855268560448, 'max_delta_step': 0.008302676026035282, 'reg_lambda': 0.2600790809654641, 'scale_pos_weight': 0.001853344528422793}. Best is trial 1 with value: 0.0.\u001b[0m\n",
      "\u001b[32m[I 2020-10-23 23:16:25,482]\u001b[0m Trial 83 finished with value: 0.1358439811701412 and parameters: {'booster': 'gbtree', 'tree_method': 'hist', 'eta': 6.332782774217748e-05, 'gamma': 0.18112955966465244, 'max_depth': 10, 'min_child_weight': 0.00039682370336750896, 'max_delta_step': 0.02789620770377758, 'reg_lambda': 0.2916270482825686, 'scale_pos_weight': 0.1942056469526834}. Best is trial 1 with value: 0.0.\u001b[0m\n"
     ]
    },
    {
     "name": "stdout",
     "output_type": "stream",
     "text": [
      "[23:16:25] WARNING: /Users/runner/miniforge3/conda-bld/xgboost_1598185652448/work/src/learner.cc:516: \n",
      "Parameters: { gamma, max_delta_step, max_depth, min_child_weight, tree_method } might not be used.\n",
      "\n",
      "  This may not be accurate due to some parameters are only used in language bindings but\n",
      "  passed down to XGBoost core.  Or some parameters are not used but slip through this\n",
      "  verification. Please open an issue if you find above cases.\n",
      "\n",
      "\n"
     ]
    },
    {
     "name": "stderr",
     "output_type": "stream",
     "text": [
      "\u001b[32m[I 2020-10-23 23:16:27,521]\u001b[0m Trial 84 finished with value: 0.0 and parameters: {'booster': 'gblinear', 'tree_method': 'exact', 'eta': 2.5978497771865404e-05, 'gamma': 0.10634422396579848, 'max_depth': 4, 'min_child_weight': 0.11002753764377067, 'max_delta_step': 0.06375814714378114, 'reg_lambda': 0.005041249403205449, 'scale_pos_weight': 0.0003676913605333013}. Best is trial 1 with value: 0.0.\u001b[0m\n",
      "\u001b[32m[I 2020-10-23 23:16:28,091]\u001b[0m Trial 85 finished with value: 0.0 and parameters: {'booster': 'gbtree', 'tree_method': 'hist', 'eta': 0.00019925969950337078, 'gamma': 0.21767674540202414, 'max_depth': 9, 'min_child_weight': 9.260016981975154e-05, 'max_delta_step': 0.0020714328782297296, 'reg_lambda': 0.34584188874218147, 'scale_pos_weight': 0.0026974998479601647}. Best is trial 1 with value: 0.0.\u001b[0m\n",
      "\u001b[32m[I 2020-10-23 23:16:28,460]\u001b[0m Trial 86 finished with value: 0.0 and parameters: {'booster': 'gbtree', 'tree_method': 'hist', 'eta': 0.0005573336577995022, 'gamma': 0.046002174015900406, 'max_depth': 8, 'min_child_weight': 0.00044673178814690073, 'max_delta_step': 0.011255636204366906, 'reg_lambda': 0.18505814483396069, 'scale_pos_weight': 0.004414959062130899}. Best is trial 1 with value: 0.0.\u001b[0m\n",
      "\u001b[32m[I 2020-10-23 23:16:28,889]\u001b[0m Trial 87 finished with value: 0.0 and parameters: {'booster': 'gbtree', 'tree_method': 'hist', 'eta': 0.010728208439941147, 'gamma': 0.0570000010416896, 'max_depth': 10, 'min_child_weight': 0.0015150066258272747, 'max_delta_step': 0.0398175636488648, 'reg_lambda': 0.37022960411443573, 'scale_pos_weight': 0.0011306189801711614}. Best is trial 1 with value: 0.0.\u001b[0m\n",
      "\u001b[32m[I 2020-10-23 23:16:30,121]\u001b[0m Trial 88 finished with value: 0.0 and parameters: {'booster': 'dart', 'tree_method': 'hist', 'eta': 0.0002804836736115706, 'gamma': 0.08253361521651038, 'max_depth': 9, 'min_child_weight': 7.19095666962241e-05, 'max_delta_step': 0.0017099725848316535, 'reg_lambda': 0.6904996202088916, 'scale_pos_weight': 0.002124446066083604}. Best is trial 1 with value: 0.0.\u001b[0m\n",
      "\u001b[32m[I 2020-10-23 23:16:30,718]\u001b[0m Trial 89 finished with value: 0.0 and parameters: {'booster': 'gbtree', 'tree_method': 'hist', 'eta': 0.0001560195423662142, 'gamma': 0.4933746486785741, 'max_depth': 9, 'min_child_weight': 0.00011620232434830625, 'max_delta_step': 0.002588373815527923, 'reg_lambda': 0.834132608567176, 'scale_pos_weight': 0.0028441550549887953}. Best is trial 1 with value: 0.0.\u001b[0m\n",
      "\u001b[32m[I 2020-10-23 23:16:31,498]\u001b[0m Trial 90 finished with value: 0.0 and parameters: {'booster': 'gbtree', 'tree_method': 'hist', 'eta': 0.004718413463164303, 'gamma': 0.41047249301108946, 'max_depth': 10, 'min_child_weight': 1.5585956974077114e-05, 'max_delta_step': 0.0021549956601009087, 'reg_lambda': 0.0005722322325132821, 'scale_pos_weight': 0.004511896137682565}. Best is trial 1 with value: 0.0.\u001b[0m\n",
      "\u001b[32m[I 2020-10-23 23:16:32,272]\u001b[0m Trial 91 finished with value: 0.0 and parameters: {'booster': 'gbtree', 'tree_method': 'hist', 'eta': 0.006885465549612364, 'gamma': 0.0010205296006639837, 'max_depth': 7, 'min_child_weight': 1.732626072109248e-05, 'max_delta_step': 6.717795491339193e-05, 'reg_lambda': 0.10585352039013494, 'scale_pos_weight': 0.001956095349009488}. Best is trial 1 with value: 0.0.\u001b[0m\n",
      "\u001b[32m[I 2020-10-23 23:16:32,844]\u001b[0m Trial 92 finished with value: 0.0 and parameters: {'booster': 'gbtree', 'tree_method': 'hist', 'eta': 0.0019528623239804476, 'gamma': 0.00032353854237548464, 'max_depth': 7, 'min_child_weight': 2.6433565384245354e-05, 'max_delta_step': 7.241771769295336e-05, 'reg_lambda': 0.06181659231355987, 'scale_pos_weight': 0.0034707341932751793}. Best is trial 1 with value: 0.0.\u001b[0m\n",
      "\u001b[32m[I 2020-10-23 23:16:33,408]\u001b[0m Trial 93 finished with value: 0.0 and parameters: {'booster': 'gbtree', 'tree_method': 'hist', 'eta': 0.0006925931411681084, 'gamma': 0.30839915892420483, 'max_depth': 7, 'min_child_weight': 0.00027708889672592224, 'max_delta_step': 0.0004190297245070603, 'reg_lambda': 0.03793314576839439, 'scale_pos_weight': 2.5065362261899333e-05}. Best is trial 1 with value: 0.0.\u001b[0m\n",
      "\u001b[32m[I 2020-10-23 23:16:33,939]\u001b[0m Trial 94 finished with value: 0.0 and parameters: {'booster': 'gbtree', 'tree_method': 'hist', 'eta': 0.00012304470959015332, 'gamma': 0.6845414478407114, 'max_depth': 2, 'min_child_weight': 3.341517405855818e-05, 'max_delta_step': 0.0004267405091903294, 'reg_lambda': 0.6311099571877347, 'scale_pos_weight': 0.03682009031327434}. Best is trial 1 with value: 0.0.\u001b[0m\n",
      "\u001b[32m[I 2020-10-23 23:16:34,499]\u001b[0m Trial 95 finished with value: 0.0 and parameters: {'booster': 'gbtree', 'tree_method': 'hist', 'eta': 0.0011467276574139075, 'gamma': 0.2731243529966682, 'max_depth': 2, 'min_child_weight': 3.83813703664002e-05, 'max_delta_step': 0.00018401175822155717, 'reg_lambda': 0.45785772932686264, 'scale_pos_weight': 0.05992292630377722}. Best is trial 1 with value: 0.0.\u001b[0m\n",
      "\u001b[32m[I 2020-10-23 23:16:35,223]\u001b[0m Trial 96 finished with value: 0.0 and parameters: {'booster': 'gbtree', 'tree_method': 'hist', 'eta': 0.010897245693089927, 'gamma': 0.8025958189689631, 'max_depth': 3, 'min_child_weight': 2.352870319167808e-05, 'max_delta_step': 0.0006192280042088444, 'reg_lambda': 0.027682518191801175, 'scale_pos_weight': 5.3944437923567225e-05}. Best is trial 1 with value: 0.0.\u001b[0m\n"
     ]
    },
    {
     "name": "stdout",
     "output_type": "stream",
     "text": [
      "[23:16:35] WARNING: /Users/runner/miniforge3/conda-bld/xgboost_1598185652448/work/src/learner.cc:516: \n",
      "Parameters: { gamma, max_delta_step, max_depth, min_child_weight, tree_method } might not be used.\n",
      "\n",
      "  This may not be accurate due to some parameters are only used in language bindings but\n",
      "  passed down to XGBoost core.  Or some parameters are not used but slip through this\n",
      "  verification. Please open an issue if you find above cases.\n",
      "\n",
      "\n"
     ]
    },
    {
     "name": "stderr",
     "output_type": "stream",
     "text": [
      "\u001b[32m[I 2020-10-23 23:16:36,125]\u001b[0m Trial 97 finished with value: 0.0 and parameters: {'booster': 'gblinear', 'tree_method': 'hist', 'eta': 7.366619598854687e-05, 'gamma': 0.14885461768608704, 'max_depth': 7, 'min_child_weight': 6.769800427053374e-05, 'max_delta_step': 2.5147978311122676e-05, 'reg_lambda': 0.05861337616903948, 'scale_pos_weight': 0.029188111351745767}. Best is trial 1 with value: 0.0.\u001b[0m\n"
     ]
    },
    {
     "name": "stdout",
     "output_type": "stream",
     "text": [
      "[23:16:36] WARNING: /Users/runner/miniforge3/conda-bld/xgboost_1598185652448/work/src/learner.cc:516: \n",
      "Parameters: { gamma, max_delta_step, max_depth, min_child_weight, tree_method } might not be used.\n",
      "\n",
      "  This may not be accurate due to some parameters are only used in language bindings but\n",
      "  passed down to XGBoost core.  Or some parameters are not used but slip through this\n",
      "  verification. Please open an issue if you find above cases.\n",
      "\n",
      "\n"
     ]
    },
    {
     "name": "stderr",
     "output_type": "stream",
     "text": [
      "\u001b[32m[I 2020-10-23 23:16:36,996]\u001b[0m Trial 98 finished with value: 0.0 and parameters: {'booster': 'gblinear', 'tree_method': 'exact', 'eta': 7.806253679492245e-05, 'gamma': 0.5723912176927692, 'max_depth': 6, 'min_child_weight': 5.446295381743818e-05, 'max_delta_step': 0.0010788533654876432, 'reg_lambda': 0.011584398684775744, 'scale_pos_weight': 5.804892616647042e-05}. Best is trial 1 with value: 0.0.\u001b[0m\n",
      "\u001b[32m[I 2020-10-23 23:16:37,650]\u001b[0m Trial 99 finished with value: 0.0 and parameters: {'booster': 'gbtree', 'tree_method': 'hist', 'eta': 0.0020614232106988223, 'gamma': 0.00017123798751252724, 'max_depth': 6, 'min_child_weight': 2.0624959993278926e-05, 'max_delta_step': 6.85526157602758e-05, 'reg_lambda': 0.08786564799195655, 'scale_pos_weight': 0.00011321376551801777}. Best is trial 1 with value: 0.0.\u001b[0m\n"
     ]
    }
   ],
   "source": [
    "study = optuna.create_study()\n",
    "study.optimize(objective, n_trials=100)"
   ]
  },
  {
   "cell_type": "code",
   "execution_count": 99,
   "metadata": {},
   "outputs": [
    {
     "name": "stdout",
     "output_type": "stream",
     "text": [
      "{'booster': 'dart', 'tree_method': 'hist', 'eta': 0.01679464483417112, 'gamma': 0.0025559367703979195, 'max_depth': 4, 'min_child_weight': 0.13327503971975926, 'max_delta_step': 5.09098460760178e-05, 'reg_lambda': 0.0265106667961423, 'scale_pos_weight': 0.002323544001697586}\n"
     ]
    }
   ],
   "source": [
    "print(study.best_params)"
   ]
  },
  {
   "cell_type": "code",
   "execution_count": 104,
   "metadata": {},
   "outputs": [
    {
     "data": {
      "text/plain": [
       "0.0"
      ]
     },
     "execution_count": 104,
     "metadata": {},
     "output_type": "execute_result"
    }
   ],
   "source": [
    "study.best_value"
   ]
  },
  {
   "cell_type": "code",
   "execution_count": 115,
   "metadata": {},
   "outputs": [
    {
     "data": {
      "text/plain": [
       "50994    0\n",
       "48799    0\n",
       "32986    0\n",
       "22251    0\n",
       "48703    0\n",
       "        ..\n",
       "45891    0\n",
       "52416    0\n",
       "42613    0\n",
       "43567    0\n",
       "2732     0\n",
       "Name: is_promoted, Length: 38365, dtype: int64"
      ]
     },
     "execution_count": 115,
     "metadata": {},
     "output_type": "execute_result"
    }
   ],
   "source": [
    "y_train"
   ]
  },
  {
   "cell_type": "code",
   "execution_count": 146,
   "metadata": {},
   "outputs": [],
   "source": [
    "model=XGBClassifier(random_satate=42)"
   ]
  },
  {
   "cell_type": "code",
   "execution_count": 147,
   "metadata": {},
   "outputs": [],
   "source": [
    "grid_search = GridSearchCV(model,param_grid=param_grid,cv=SKF,scoring='f1',n_jobs=-1)"
   ]
  },
  {
   "cell_type": "code",
   "execution_count": 148,
   "metadata": {},
   "outputs": [
    {
     "ename": "KeyboardInterrupt",
     "evalue": "",
     "output_type": "error",
     "traceback": [
      "\u001b[0;31m---------------------------------------------------------------------------\u001b[0m",
      "\u001b[0;31mKeyboardInterrupt\u001b[0m                         Traceback (most recent call last)",
      "\u001b[0;32m<ipython-input-148-7912bbd68fbd>\u001b[0m in \u001b[0;36m<module>\u001b[0;34m\u001b[0m\n\u001b[0;32m----> 1\u001b[0;31m \u001b[0mgrid_search\u001b[0m\u001b[0;34m.\u001b[0m\u001b[0mfit\u001b[0m\u001b[0;34m(\u001b[0m\u001b[0mX_train\u001b[0m\u001b[0;34m,\u001b[0m\u001b[0my_train\u001b[0m\u001b[0;34m)\u001b[0m\u001b[0;34m\u001b[0m\u001b[0;34m\u001b[0m\u001b[0m\n\u001b[0m",
      "\u001b[0;32m~/opt/anaconda3/envs/batman/lib/python3.8/site-packages/sklearn/utils/validation.py\u001b[0m in \u001b[0;36minner_f\u001b[0;34m(*args, **kwargs)\u001b[0m\n\u001b[1;32m     70\u001b[0m                           FutureWarning)\n\u001b[1;32m     71\u001b[0m         \u001b[0mkwargs\u001b[0m\u001b[0;34m.\u001b[0m\u001b[0mupdate\u001b[0m\u001b[0;34m(\u001b[0m\u001b[0;34m{\u001b[0m\u001b[0mk\u001b[0m\u001b[0;34m:\u001b[0m \u001b[0marg\u001b[0m \u001b[0;32mfor\u001b[0m \u001b[0mk\u001b[0m\u001b[0;34m,\u001b[0m \u001b[0marg\u001b[0m \u001b[0;32min\u001b[0m \u001b[0mzip\u001b[0m\u001b[0;34m(\u001b[0m\u001b[0msig\u001b[0m\u001b[0;34m.\u001b[0m\u001b[0mparameters\u001b[0m\u001b[0;34m,\u001b[0m \u001b[0margs\u001b[0m\u001b[0;34m)\u001b[0m\u001b[0;34m}\u001b[0m\u001b[0;34m)\u001b[0m\u001b[0;34m\u001b[0m\u001b[0;34m\u001b[0m\u001b[0m\n\u001b[0;32m---> 72\u001b[0;31m         \u001b[0;32mreturn\u001b[0m \u001b[0mf\u001b[0m\u001b[0;34m(\u001b[0m\u001b[0;34m**\u001b[0m\u001b[0mkwargs\u001b[0m\u001b[0;34m)\u001b[0m\u001b[0;34m\u001b[0m\u001b[0;34m\u001b[0m\u001b[0m\n\u001b[0m\u001b[1;32m     73\u001b[0m     \u001b[0;32mreturn\u001b[0m \u001b[0minner_f\u001b[0m\u001b[0;34m\u001b[0m\u001b[0;34m\u001b[0m\u001b[0m\n\u001b[1;32m     74\u001b[0m \u001b[0;34m\u001b[0m\u001b[0m\n",
      "\u001b[0;32m~/opt/anaconda3/envs/batman/lib/python3.8/site-packages/sklearn/model_selection/_search.py\u001b[0m in \u001b[0;36mfit\u001b[0;34m(self, X, y, groups, **fit_params)\u001b[0m\n\u001b[1;32m    734\u001b[0m                 \u001b[0;32mreturn\u001b[0m \u001b[0mresults\u001b[0m\u001b[0;34m\u001b[0m\u001b[0;34m\u001b[0m\u001b[0m\n\u001b[1;32m    735\u001b[0m \u001b[0;34m\u001b[0m\u001b[0m\n\u001b[0;32m--> 736\u001b[0;31m             \u001b[0mself\u001b[0m\u001b[0;34m.\u001b[0m\u001b[0m_run_search\u001b[0m\u001b[0;34m(\u001b[0m\u001b[0mevaluate_candidates\u001b[0m\u001b[0;34m)\u001b[0m\u001b[0;34m\u001b[0m\u001b[0;34m\u001b[0m\u001b[0m\n\u001b[0m\u001b[1;32m    737\u001b[0m \u001b[0;34m\u001b[0m\u001b[0m\n\u001b[1;32m    738\u001b[0m         \u001b[0;31m# For multi-metric evaluation, store the best_index_, best_params_ and\u001b[0m\u001b[0;34m\u001b[0m\u001b[0;34m\u001b[0m\u001b[0;34m\u001b[0m\u001b[0m\n",
      "\u001b[0;32m~/opt/anaconda3/envs/batman/lib/python3.8/site-packages/sklearn/model_selection/_search.py\u001b[0m in \u001b[0;36m_run_search\u001b[0;34m(self, evaluate_candidates)\u001b[0m\n\u001b[1;32m   1186\u001b[0m     \u001b[0;32mdef\u001b[0m \u001b[0m_run_search\u001b[0m\u001b[0;34m(\u001b[0m\u001b[0mself\u001b[0m\u001b[0;34m,\u001b[0m \u001b[0mevaluate_candidates\u001b[0m\u001b[0;34m)\u001b[0m\u001b[0;34m:\u001b[0m\u001b[0;34m\u001b[0m\u001b[0;34m\u001b[0m\u001b[0m\n\u001b[1;32m   1187\u001b[0m         \u001b[0;34m\"\"\"Search all candidates in param_grid\"\"\"\u001b[0m\u001b[0;34m\u001b[0m\u001b[0;34m\u001b[0m\u001b[0m\n\u001b[0;32m-> 1188\u001b[0;31m         \u001b[0mevaluate_candidates\u001b[0m\u001b[0;34m(\u001b[0m\u001b[0mParameterGrid\u001b[0m\u001b[0;34m(\u001b[0m\u001b[0mself\u001b[0m\u001b[0;34m.\u001b[0m\u001b[0mparam_grid\u001b[0m\u001b[0;34m)\u001b[0m\u001b[0;34m)\u001b[0m\u001b[0;34m\u001b[0m\u001b[0;34m\u001b[0m\u001b[0m\n\u001b[0m\u001b[1;32m   1189\u001b[0m \u001b[0;34m\u001b[0m\u001b[0m\n\u001b[1;32m   1190\u001b[0m \u001b[0;34m\u001b[0m\u001b[0m\n",
      "\u001b[0;32m~/opt/anaconda3/envs/batman/lib/python3.8/site-packages/sklearn/model_selection/_search.py\u001b[0m in \u001b[0;36mevaluate_candidates\u001b[0;34m(candidate_params)\u001b[0m\n\u001b[1;32m    706\u001b[0m                               n_splits, n_candidates, n_candidates * n_splits))\n\u001b[1;32m    707\u001b[0m \u001b[0;34m\u001b[0m\u001b[0m\n\u001b[0;32m--> 708\u001b[0;31m                 out = parallel(delayed(_fit_and_score)(clone(base_estimator),\n\u001b[0m\u001b[1;32m    709\u001b[0m                                                        \u001b[0mX\u001b[0m\u001b[0;34m,\u001b[0m \u001b[0my\u001b[0m\u001b[0;34m,\u001b[0m\u001b[0;34m\u001b[0m\u001b[0;34m\u001b[0m\u001b[0m\n\u001b[1;32m    710\u001b[0m                                                        \u001b[0mtrain\u001b[0m\u001b[0;34m=\u001b[0m\u001b[0mtrain\u001b[0m\u001b[0;34m,\u001b[0m \u001b[0mtest\u001b[0m\u001b[0;34m=\u001b[0m\u001b[0mtest\u001b[0m\u001b[0;34m,\u001b[0m\u001b[0;34m\u001b[0m\u001b[0;34m\u001b[0m\u001b[0m\n",
      "\u001b[0;32m~/opt/anaconda3/envs/batman/lib/python3.8/site-packages/joblib/parallel.py\u001b[0m in \u001b[0;36m__call__\u001b[0;34m(self, iterable)\u001b[0m\n\u001b[1;32m   1040\u001b[0m \u001b[0;34m\u001b[0m\u001b[0m\n\u001b[1;32m   1041\u001b[0m             \u001b[0;32mwith\u001b[0m \u001b[0mself\u001b[0m\u001b[0;34m.\u001b[0m\u001b[0m_backend\u001b[0m\u001b[0;34m.\u001b[0m\u001b[0mretrieval_context\u001b[0m\u001b[0;34m(\u001b[0m\u001b[0;34m)\u001b[0m\u001b[0;34m:\u001b[0m\u001b[0;34m\u001b[0m\u001b[0;34m\u001b[0m\u001b[0m\n\u001b[0;32m-> 1042\u001b[0;31m                 \u001b[0mself\u001b[0m\u001b[0;34m.\u001b[0m\u001b[0mretrieve\u001b[0m\u001b[0;34m(\u001b[0m\u001b[0;34m)\u001b[0m\u001b[0;34m\u001b[0m\u001b[0;34m\u001b[0m\u001b[0m\n\u001b[0m\u001b[1;32m   1043\u001b[0m             \u001b[0;31m# Make sure that we get a last message telling us we are done\u001b[0m\u001b[0;34m\u001b[0m\u001b[0;34m\u001b[0m\u001b[0;34m\u001b[0m\u001b[0m\n\u001b[1;32m   1044\u001b[0m             \u001b[0melapsed_time\u001b[0m \u001b[0;34m=\u001b[0m \u001b[0mtime\u001b[0m\u001b[0;34m.\u001b[0m\u001b[0mtime\u001b[0m\u001b[0;34m(\u001b[0m\u001b[0;34m)\u001b[0m \u001b[0;34m-\u001b[0m \u001b[0mself\u001b[0m\u001b[0;34m.\u001b[0m\u001b[0m_start_time\u001b[0m\u001b[0;34m\u001b[0m\u001b[0;34m\u001b[0m\u001b[0m\n",
      "\u001b[0;32m~/opt/anaconda3/envs/batman/lib/python3.8/site-packages/joblib/parallel.py\u001b[0m in \u001b[0;36mretrieve\u001b[0;34m(self)\u001b[0m\n\u001b[1;32m    919\u001b[0m             \u001b[0;32mtry\u001b[0m\u001b[0;34m:\u001b[0m\u001b[0;34m\u001b[0m\u001b[0;34m\u001b[0m\u001b[0m\n\u001b[1;32m    920\u001b[0m                 \u001b[0;32mif\u001b[0m \u001b[0mgetattr\u001b[0m\u001b[0;34m(\u001b[0m\u001b[0mself\u001b[0m\u001b[0;34m.\u001b[0m\u001b[0m_backend\u001b[0m\u001b[0;34m,\u001b[0m \u001b[0;34m'supports_timeout'\u001b[0m\u001b[0;34m,\u001b[0m \u001b[0;32mFalse\u001b[0m\u001b[0;34m)\u001b[0m\u001b[0;34m:\u001b[0m\u001b[0;34m\u001b[0m\u001b[0;34m\u001b[0m\u001b[0m\n\u001b[0;32m--> 921\u001b[0;31m                     \u001b[0mself\u001b[0m\u001b[0;34m.\u001b[0m\u001b[0m_output\u001b[0m\u001b[0;34m.\u001b[0m\u001b[0mextend\u001b[0m\u001b[0;34m(\u001b[0m\u001b[0mjob\u001b[0m\u001b[0;34m.\u001b[0m\u001b[0mget\u001b[0m\u001b[0;34m(\u001b[0m\u001b[0mtimeout\u001b[0m\u001b[0;34m=\u001b[0m\u001b[0mself\u001b[0m\u001b[0;34m.\u001b[0m\u001b[0mtimeout\u001b[0m\u001b[0;34m)\u001b[0m\u001b[0;34m)\u001b[0m\u001b[0;34m\u001b[0m\u001b[0;34m\u001b[0m\u001b[0m\n\u001b[0m\u001b[1;32m    922\u001b[0m                 \u001b[0;32melse\u001b[0m\u001b[0;34m:\u001b[0m\u001b[0;34m\u001b[0m\u001b[0;34m\u001b[0m\u001b[0m\n\u001b[1;32m    923\u001b[0m                     \u001b[0mself\u001b[0m\u001b[0;34m.\u001b[0m\u001b[0m_output\u001b[0m\u001b[0;34m.\u001b[0m\u001b[0mextend\u001b[0m\u001b[0;34m(\u001b[0m\u001b[0mjob\u001b[0m\u001b[0;34m.\u001b[0m\u001b[0mget\u001b[0m\u001b[0;34m(\u001b[0m\u001b[0;34m)\u001b[0m\u001b[0;34m)\u001b[0m\u001b[0;34m\u001b[0m\u001b[0;34m\u001b[0m\u001b[0m\n",
      "\u001b[0;32m~/opt/anaconda3/envs/batman/lib/python3.8/site-packages/joblib/_parallel_backends.py\u001b[0m in \u001b[0;36mwrap_future_result\u001b[0;34m(future, timeout)\u001b[0m\n\u001b[1;32m    540\u001b[0m         AsyncResults.get from multiprocessing.\"\"\"\n\u001b[1;32m    541\u001b[0m         \u001b[0;32mtry\u001b[0m\u001b[0;34m:\u001b[0m\u001b[0;34m\u001b[0m\u001b[0;34m\u001b[0m\u001b[0m\n\u001b[0;32m--> 542\u001b[0;31m             \u001b[0;32mreturn\u001b[0m \u001b[0mfuture\u001b[0m\u001b[0;34m.\u001b[0m\u001b[0mresult\u001b[0m\u001b[0;34m(\u001b[0m\u001b[0mtimeout\u001b[0m\u001b[0;34m=\u001b[0m\u001b[0mtimeout\u001b[0m\u001b[0;34m)\u001b[0m\u001b[0;34m\u001b[0m\u001b[0;34m\u001b[0m\u001b[0m\n\u001b[0m\u001b[1;32m    543\u001b[0m         \u001b[0;32mexcept\u001b[0m \u001b[0mCfTimeoutError\u001b[0m \u001b[0;32mas\u001b[0m \u001b[0me\u001b[0m\u001b[0;34m:\u001b[0m\u001b[0;34m\u001b[0m\u001b[0;34m\u001b[0m\u001b[0m\n\u001b[1;32m    544\u001b[0m             \u001b[0;32mraise\u001b[0m \u001b[0mTimeoutError\u001b[0m \u001b[0;32mfrom\u001b[0m \u001b[0me\u001b[0m\u001b[0;34m\u001b[0m\u001b[0;34m\u001b[0m\u001b[0m\n",
      "\u001b[0;32m~/opt/anaconda3/envs/batman/lib/python3.8/concurrent/futures/_base.py\u001b[0m in \u001b[0;36mresult\u001b[0;34m(self, timeout)\u001b[0m\n\u001b[1;32m    432\u001b[0m                 \u001b[0;32mreturn\u001b[0m \u001b[0mself\u001b[0m\u001b[0;34m.\u001b[0m\u001b[0m__get_result\u001b[0m\u001b[0;34m(\u001b[0m\u001b[0;34m)\u001b[0m\u001b[0;34m\u001b[0m\u001b[0;34m\u001b[0m\u001b[0m\n\u001b[1;32m    433\u001b[0m \u001b[0;34m\u001b[0m\u001b[0m\n\u001b[0;32m--> 434\u001b[0;31m             \u001b[0mself\u001b[0m\u001b[0;34m.\u001b[0m\u001b[0m_condition\u001b[0m\u001b[0;34m.\u001b[0m\u001b[0mwait\u001b[0m\u001b[0;34m(\u001b[0m\u001b[0mtimeout\u001b[0m\u001b[0;34m)\u001b[0m\u001b[0;34m\u001b[0m\u001b[0;34m\u001b[0m\u001b[0m\n\u001b[0m\u001b[1;32m    435\u001b[0m \u001b[0;34m\u001b[0m\u001b[0m\n\u001b[1;32m    436\u001b[0m             \u001b[0;32mif\u001b[0m \u001b[0mself\u001b[0m\u001b[0;34m.\u001b[0m\u001b[0m_state\u001b[0m \u001b[0;32min\u001b[0m \u001b[0;34m[\u001b[0m\u001b[0mCANCELLED\u001b[0m\u001b[0;34m,\u001b[0m \u001b[0mCANCELLED_AND_NOTIFIED\u001b[0m\u001b[0;34m]\u001b[0m\u001b[0;34m:\u001b[0m\u001b[0;34m\u001b[0m\u001b[0;34m\u001b[0m\u001b[0m\n",
      "\u001b[0;32m~/opt/anaconda3/envs/batman/lib/python3.8/threading.py\u001b[0m in \u001b[0;36mwait\u001b[0;34m(self, timeout)\u001b[0m\n\u001b[1;32m    300\u001b[0m         \u001b[0;32mtry\u001b[0m\u001b[0;34m:\u001b[0m    \u001b[0;31m# restore state no matter what (e.g., KeyboardInterrupt)\u001b[0m\u001b[0;34m\u001b[0m\u001b[0;34m\u001b[0m\u001b[0m\n\u001b[1;32m    301\u001b[0m             \u001b[0;32mif\u001b[0m \u001b[0mtimeout\u001b[0m \u001b[0;32mis\u001b[0m \u001b[0;32mNone\u001b[0m\u001b[0;34m:\u001b[0m\u001b[0;34m\u001b[0m\u001b[0;34m\u001b[0m\u001b[0m\n\u001b[0;32m--> 302\u001b[0;31m                 \u001b[0mwaiter\u001b[0m\u001b[0;34m.\u001b[0m\u001b[0macquire\u001b[0m\u001b[0;34m(\u001b[0m\u001b[0;34m)\u001b[0m\u001b[0;34m\u001b[0m\u001b[0;34m\u001b[0m\u001b[0m\n\u001b[0m\u001b[1;32m    303\u001b[0m                 \u001b[0mgotit\u001b[0m \u001b[0;34m=\u001b[0m \u001b[0;32mTrue\u001b[0m\u001b[0;34m\u001b[0m\u001b[0;34m\u001b[0m\u001b[0m\n\u001b[1;32m    304\u001b[0m             \u001b[0;32melse\u001b[0m\u001b[0;34m:\u001b[0m\u001b[0;34m\u001b[0m\u001b[0;34m\u001b[0m\u001b[0m\n",
      "\u001b[0;31mKeyboardInterrupt\u001b[0m: "
     ]
    }
   ],
   "source": [
    "grid_search.fit(X_train,y_train)"
   ]
  },
  {
   "cell_type": "code",
   "execution_count": 116,
   "metadata": {},
   "outputs": [
    {
     "name": "stdout",
     "output_type": "stream",
     "text": [
      "Test set score: 0.52\n"
     ]
    }
   ],
   "source": [
    "print(\"Test set score: {:.2f}\".format(grid_search.score(X_test, y_test)))"
   ]
  },
  {
   "cell_type": "code",
   "execution_count": 117,
   "metadata": {},
   "outputs": [
    {
     "name": "stdout",
     "output_type": "stream",
     "text": [
      "Best parameters: {'min_child_weight': 0.8}\n"
     ]
    }
   ],
   "source": [
    "print(\"Best parameters: {}\".format(grid_search.best_params_))"
   ]
  },
  {
   "cell_type": "code",
   "execution_count": 119,
   "metadata": {},
   "outputs": [
    {
     "data": {
      "text/plain": [
       "XGBClassifier(base_score=0.5, booster='gbtree', colsample_bylevel=1,\n",
       "              colsample_bynode=1, colsample_bytree=1, gamma=0, gpu_id=-1,\n",
       "              importance_type='gain', interaction_constraints='',\n",
       "              learning_rate=0.300000012, max_delta_step=0, max_depth=6,\n",
       "              min_child_weight=0.8, missing=nan, monotone_constraints='()',\n",
       "              n_estimators=100, n_jobs=0, num_parallel_tree=1, random_satate=42,\n",
       "              random_state=0, reg_alpha=0, reg_lambda=1, scale_pos_weight=1,\n",
       "              subsample=1, tree_method='exact', validate_parameters=1,\n",
       "              verbosity=None)"
      ]
     },
     "execution_count": 119,
     "metadata": {},
     "output_type": "execute_result"
    }
   ],
   "source": [
    "grid_search.best_estimator_"
   ]
  },
  {
   "cell_type": "markdown",
   "metadata": {},
   "source": [
    "# Model Building"
   ]
  },
  {
   "cell_type": "code",
   "execution_count": 102,
   "metadata": {},
   "outputs": [],
   "source": [
    "from sklearn.preprocessing import StandardScaler\n",
    "from sklearn.linear_model import LogisticRegression\n",
    "from sklearn.tree import DecisionTreeClassifier\n",
    "from sklearn.ensemble import RandomForestClassifier\n",
    "from sklearn.neighbors import KNeighborsClassifier\n",
    "from sklearn import svm\n",
    "from sklearn.naive_bayes import GaussianNB"
   ]
  },
  {
   "cell_type": "code",
   "execution_count": 132,
   "metadata": {},
   "outputs": [],
   "source": [
    "xgb = XGBClassifier(random_state=1,min_child_weight=0.8, learning_rate=0.5, gamma=0.5)\n",
    "xgb = xgb.fit(X_train, y_train)\n",
    "y_pred=xgb.predict(X_test)"
   ]
  },
  {
   "cell_type": "markdown",
   "metadata": {},
   "source": [
    "# Evaluation"
   ]
  },
  {
   "cell_type": "code",
   "execution_count": 133,
   "metadata": {
    "scrolled": false
   },
   "outputs": [
    {
     "name": "stdout",
     "output_type": "stream",
     "text": [
      "              precision    recall  f1-score   support\n",
      "\n",
      "           0       0.94      0.99      0.97     15057\n",
      "           1       0.86      0.37      0.52      1386\n",
      "\n",
      "    accuracy                           0.94     16443\n",
      "   macro avg       0.90      0.68      0.74     16443\n",
      "weighted avg       0.94      0.94      0.93     16443\n",
      "\n"
     ]
    }
   ],
   "source": [
    "print(classification_report(y_test, y_pred))"
   ]
  },
  {
   "cell_type": "code",
   "execution_count": 134,
   "metadata": {},
   "outputs": [
    {
     "name": "stdout",
     "output_type": "stream",
     "text": [
      "[[14973    84]\n",
      " [  872   514]]\n"
     ]
    }
   ],
   "source": [
    "print(confusion_matrix(y_test, y_pred))"
   ]
  },
  {
   "cell_type": "code",
   "execution_count": 135,
   "metadata": {},
   "outputs": [
    {
     "data": {
      "text/plain": [
       "51.81451612903226"
      ]
     },
     "execution_count": 135,
     "metadata": {},
     "output_type": "execute_result"
    }
   ],
   "source": [
    "f1_score(y_test, y_pred)*100"
   ]
  },
  {
   "cell_type": "markdown",
   "metadata": {},
   "source": [
    "# Test Data"
   ]
  },
  {
   "cell_type": "code",
   "execution_count": 136,
   "metadata": {},
   "outputs": [
    {
     "data": {
      "text/html": [
       "<div>\n",
       "<style scoped>\n",
       "    .dataframe tbody tr th:only-of-type {\n",
       "        vertical-align: middle;\n",
       "    }\n",
       "\n",
       "    .dataframe tbody tr th {\n",
       "        vertical-align: top;\n",
       "    }\n",
       "\n",
       "    .dataframe thead th {\n",
       "        text-align: right;\n",
       "    }\n",
       "</style>\n",
       "<table border=\"1\" class=\"dataframe\">\n",
       "  <thead>\n",
       "    <tr style=\"text-align: right;\">\n",
       "      <th></th>\n",
       "      <th>no_of_trainings</th>\n",
       "      <th>previous_year_rating</th>\n",
       "      <th>length_of_service</th>\n",
       "      <th>KPIs_met &gt;80%</th>\n",
       "      <th>awards_won?</th>\n",
       "      <th>avg_training_score</th>\n",
       "      <th>Analytics</th>\n",
       "      <th>Finance</th>\n",
       "      <th>HR</th>\n",
       "      <th>Legal</th>\n",
       "      <th>Operations</th>\n",
       "      <th>Procurement</th>\n",
       "      <th>R&amp;D</th>\n",
       "      <th>Sales &amp; Marketing</th>\n",
       "      <th>Bachelor's</th>\n",
       "      <th>Master's &amp; above</th>\n",
       "    </tr>\n",
       "  </thead>\n",
       "  <tbody>\n",
       "    <tr>\n",
       "      <th>0</th>\n",
       "      <td>1</td>\n",
       "      <td>3.0</td>\n",
       "      <td>1</td>\n",
       "      <td>1</td>\n",
       "      <td>0</td>\n",
       "      <td>77</td>\n",
       "      <td>0</td>\n",
       "      <td>0</td>\n",
       "      <td>0</td>\n",
       "      <td>0</td>\n",
       "      <td>0</td>\n",
       "      <td>0</td>\n",
       "      <td>0</td>\n",
       "      <td>0</td>\n",
       "      <td>1</td>\n",
       "      <td>0</td>\n",
       "    </tr>\n",
       "    <tr>\n",
       "      <th>1</th>\n",
       "      <td>1</td>\n",
       "      <td>3.0</td>\n",
       "      <td>5</td>\n",
       "      <td>0</td>\n",
       "      <td>0</td>\n",
       "      <td>51</td>\n",
       "      <td>0</td>\n",
       "      <td>0</td>\n",
       "      <td>1</td>\n",
       "      <td>0</td>\n",
       "      <td>0</td>\n",
       "      <td>0</td>\n",
       "      <td>0</td>\n",
       "      <td>0</td>\n",
       "      <td>1</td>\n",
       "      <td>0</td>\n",
       "    </tr>\n",
       "    <tr>\n",
       "      <th>2</th>\n",
       "      <td>1</td>\n",
       "      <td>1.0</td>\n",
       "      <td>4</td>\n",
       "      <td>0</td>\n",
       "      <td>0</td>\n",
       "      <td>47</td>\n",
       "      <td>0</td>\n",
       "      <td>0</td>\n",
       "      <td>0</td>\n",
       "      <td>0</td>\n",
       "      <td>0</td>\n",
       "      <td>0</td>\n",
       "      <td>0</td>\n",
       "      <td>1</td>\n",
       "      <td>1</td>\n",
       "      <td>0</td>\n",
       "    </tr>\n",
       "    <tr>\n",
       "      <th>3</th>\n",
       "      <td>3</td>\n",
       "      <td>2.0</td>\n",
       "      <td>9</td>\n",
       "      <td>0</td>\n",
       "      <td>0</td>\n",
       "      <td>65</td>\n",
       "      <td>0</td>\n",
       "      <td>0</td>\n",
       "      <td>0</td>\n",
       "      <td>0</td>\n",
       "      <td>0</td>\n",
       "      <td>1</td>\n",
       "      <td>0</td>\n",
       "      <td>0</td>\n",
       "      <td>1</td>\n",
       "      <td>0</td>\n",
       "    </tr>\n",
       "    <tr>\n",
       "      <th>4</th>\n",
       "      <td>1</td>\n",
       "      <td>4.0</td>\n",
       "      <td>7</td>\n",
       "      <td>0</td>\n",
       "      <td>0</td>\n",
       "      <td>61</td>\n",
       "      <td>0</td>\n",
       "      <td>1</td>\n",
       "      <td>0</td>\n",
       "      <td>0</td>\n",
       "      <td>0</td>\n",
       "      <td>0</td>\n",
       "      <td>0</td>\n",
       "      <td>0</td>\n",
       "      <td>1</td>\n",
       "      <td>0</td>\n",
       "    </tr>\n",
       "    <tr>\n",
       "      <th>...</th>\n",
       "      <td>...</td>\n",
       "      <td>...</td>\n",
       "      <td>...</td>\n",
       "      <td>...</td>\n",
       "      <td>...</td>\n",
       "      <td>...</td>\n",
       "      <td>...</td>\n",
       "      <td>...</td>\n",
       "      <td>...</td>\n",
       "      <td>...</td>\n",
       "      <td>...</td>\n",
       "      <td>...</td>\n",
       "      <td>...</td>\n",
       "      <td>...</td>\n",
       "      <td>...</td>\n",
       "      <td>...</td>\n",
       "    </tr>\n",
       "    <tr>\n",
       "      <th>23485</th>\n",
       "      <td>1</td>\n",
       "      <td>3.0</td>\n",
       "      <td>1</td>\n",
       "      <td>0</td>\n",
       "      <td>0</td>\n",
       "      <td>61</td>\n",
       "      <td>0</td>\n",
       "      <td>0</td>\n",
       "      <td>0</td>\n",
       "      <td>1</td>\n",
       "      <td>0</td>\n",
       "      <td>0</td>\n",
       "      <td>0</td>\n",
       "      <td>0</td>\n",
       "      <td>0</td>\n",
       "      <td>0</td>\n",
       "    </tr>\n",
       "    <tr>\n",
       "      <th>23486</th>\n",
       "      <td>1</td>\n",
       "      <td>3.0</td>\n",
       "      <td>7</td>\n",
       "      <td>0</td>\n",
       "      <td>0</td>\n",
       "      <td>74</td>\n",
       "      <td>0</td>\n",
       "      <td>0</td>\n",
       "      <td>0</td>\n",
       "      <td>0</td>\n",
       "      <td>0</td>\n",
       "      <td>0</td>\n",
       "      <td>0</td>\n",
       "      <td>0</td>\n",
       "      <td>1</td>\n",
       "      <td>0</td>\n",
       "    </tr>\n",
       "    <tr>\n",
       "      <th>23487</th>\n",
       "      <td>1</td>\n",
       "      <td>4.0</td>\n",
       "      <td>4</td>\n",
       "      <td>0</td>\n",
       "      <td>0</td>\n",
       "      <td>50</td>\n",
       "      <td>0</td>\n",
       "      <td>0</td>\n",
       "      <td>1</td>\n",
       "      <td>0</td>\n",
       "      <td>0</td>\n",
       "      <td>0</td>\n",
       "      <td>0</td>\n",
       "      <td>0</td>\n",
       "      <td>1</td>\n",
       "      <td>0</td>\n",
       "    </tr>\n",
       "    <tr>\n",
       "      <th>23488</th>\n",
       "      <td>3</td>\n",
       "      <td>3.0</td>\n",
       "      <td>1</td>\n",
       "      <td>0</td>\n",
       "      <td>0</td>\n",
       "      <td>70</td>\n",
       "      <td>0</td>\n",
       "      <td>0</td>\n",
       "      <td>0</td>\n",
       "      <td>0</td>\n",
       "      <td>0</td>\n",
       "      <td>1</td>\n",
       "      <td>0</td>\n",
       "      <td>0</td>\n",
       "      <td>1</td>\n",
       "      <td>0</td>\n",
       "    </tr>\n",
       "    <tr>\n",
       "      <th>23489</th>\n",
       "      <td>3</td>\n",
       "      <td>5.0</td>\n",
       "      <td>5</td>\n",
       "      <td>1</td>\n",
       "      <td>0</td>\n",
       "      <td>89</td>\n",
       "      <td>0</td>\n",
       "      <td>0</td>\n",
       "      <td>0</td>\n",
       "      <td>0</td>\n",
       "      <td>0</td>\n",
       "      <td>0</td>\n",
       "      <td>0</td>\n",
       "      <td>0</td>\n",
       "      <td>0</td>\n",
       "      <td>1</td>\n",
       "    </tr>\n",
       "  </tbody>\n",
       "</table>\n",
       "<p>23490 rows × 16 columns</p>\n",
       "</div>"
      ],
      "text/plain": [
       "       no_of_trainings  previous_year_rating  length_of_service  \\\n",
       "0                    1                   3.0                  1   \n",
       "1                    1                   3.0                  5   \n",
       "2                    1                   1.0                  4   \n",
       "3                    3                   2.0                  9   \n",
       "4                    1                   4.0                  7   \n",
       "...                ...                   ...                ...   \n",
       "23485                1                   3.0                  1   \n",
       "23486                1                   3.0                  7   \n",
       "23487                1                   4.0                  4   \n",
       "23488                3                   3.0                  1   \n",
       "23489                3                   5.0                  5   \n",
       "\n",
       "       KPIs_met >80%  awards_won?  avg_training_score  Analytics  Finance  HR  \\\n",
       "0                  1            0                  77          0        0   0   \n",
       "1                  0            0                  51          0        0   1   \n",
       "2                  0            0                  47          0        0   0   \n",
       "3                  0            0                  65          0        0   0   \n",
       "4                  0            0                  61          0        1   0   \n",
       "...              ...          ...                 ...        ...      ...  ..   \n",
       "23485              0            0                  61          0        0   0   \n",
       "23486              0            0                  74          0        0   0   \n",
       "23487              0            0                  50          0        0   1   \n",
       "23488              0            0                  70          0        0   0   \n",
       "23489              1            0                  89          0        0   0   \n",
       "\n",
       "       Legal  Operations  Procurement  R&D  Sales & Marketing  Bachelor's  \\\n",
       "0          0           0            0    0                  0           1   \n",
       "1          0           0            0    0                  0           1   \n",
       "2          0           0            0    0                  1           1   \n",
       "3          0           0            1    0                  0           1   \n",
       "4          0           0            0    0                  0           1   \n",
       "...      ...         ...          ...  ...                ...         ...   \n",
       "23485      1           0            0    0                  0           0   \n",
       "23486      0           0            0    0                  0           1   \n",
       "23487      0           0            0    0                  0           1   \n",
       "23488      0           0            1    0                  0           1   \n",
       "23489      0           0            0    0                  0           0   \n",
       "\n",
       "       Master's & above  \n",
       "0                     0  \n",
       "1                     0  \n",
       "2                     0  \n",
       "3                     0  \n",
       "4                     0  \n",
       "...                 ...  \n",
       "23485                 0  \n",
       "23486                 0  \n",
       "23487                 0  \n",
       "23488                 0  \n",
       "23489                 1  \n",
       "\n",
       "[23490 rows x 16 columns]"
      ]
     },
     "execution_count": 136,
     "metadata": {},
     "output_type": "execute_result"
    }
   ],
   "source": [
    "Final_Test"
   ]
  },
  {
   "cell_type": "code",
   "execution_count": 139,
   "metadata": {},
   "outputs": [
    {
     "data": {
      "text/plain": [
       "array([[1., 3., 1., ..., 0., 1., 0.],\n",
       "       [1., 3., 5., ..., 0., 1., 0.],\n",
       "       [1., 1., 4., ..., 1., 1., 0.],\n",
       "       ...,\n",
       "       [1., 4., 4., ..., 0., 1., 0.],\n",
       "       [3., 3., 1., ..., 0., 1., 0.],\n",
       "       [3., 5., 5., ..., 0., 0., 1.]])"
      ]
     },
     "execution_count": 139,
     "metadata": {},
     "output_type": "execute_result"
    }
   ],
   "source": [
    "Final_Test.values"
   ]
  },
  {
   "cell_type": "code",
   "execution_count": 140,
   "metadata": {},
   "outputs": [],
   "source": [
    "test_predictions=xgb.predict(Final_Test.values)"
   ]
  },
  {
   "cell_type": "code",
   "execution_count": 141,
   "metadata": {},
   "outputs": [],
   "source": [
    "submission_1_xgb = pd.DataFrame({\"employee_id\": test_df['employee_id'], \"is_promoted\": test_predictions})\n",
    "submission_1_xgb.to_csv('submission_xgb01.csv',index=False)"
   ]
  },
  {
   "cell_type": "code",
   "execution_count": null,
   "metadata": {},
   "outputs": [],
   "source": []
  },
  {
   "cell_type": "code",
   "execution_count": null,
   "metadata": {},
   "outputs": [],
   "source": []
  }
 ],
 "metadata": {
  "kernelspec": {
   "display_name": "Python 3",
   "language": "python",
   "name": "python3"
  },
  "language_info": {
   "codemirror_mode": {
    "name": "ipython",
    "version": 3
   },
   "file_extension": ".py",
   "mimetype": "text/x-python",
   "name": "python",
   "nbconvert_exporter": "python",
   "pygments_lexer": "ipython3",
   "version": "3.8.5"
  }
 },
 "nbformat": 4,
 "nbformat_minor": 2
}
